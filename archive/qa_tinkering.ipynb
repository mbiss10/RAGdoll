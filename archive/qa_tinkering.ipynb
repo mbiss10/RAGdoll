{
 "cells": [
  {
   "cell_type": "markdown",
   "id": "74148cee",
   "metadata": {},
   "source": [
    "# Question Answering with Sources\n",
    "\n",
    "This notebook walks through how to use LangChain for question answering with sources over a list of documents. It covers four different chain types: `stuff`, `map_reduce`, `refine`,`map-rerank`. For a more in depth explanation of what these chain types are, see [here](../combine_docs.md)."
   ]
  },
  {
   "cell_type": "code",
   "execution_count": 1,
   "id": "b3b4cff6",
   "metadata": {},
   "outputs": [],
   "source": [
    "import os\n",
    "from dotenv import load_dotenv\n",
    "load_dotenv()\n",
    "\n",
    "API_KEY = os.getenv('OPENAI_API_KEY')\n",
    "os.environ[\"OPENAI_API_KEY\"] = API_KEY"
   ]
  },
  {
   "cell_type": "markdown",
   "id": "ca2f0efc",
   "metadata": {},
   "source": [
    "## Prepare Data\n",
    "First we prepare the data. For this example we do similarity search over a vector database, but these documents could be fetched in any manner (the point of this notebook to highlight what to do AFTER you fetch the documents)."
   ]
  },
  {
   "cell_type": "code",
   "execution_count": 10,
   "id": "78f28130",
   "metadata": {},
   "outputs": [],
   "source": [
    "from langchain.embeddings.openai import OpenAIEmbeddings\n",
    "from langchain.embeddings.cohere import CohereEmbeddings\n",
    "from langchain.text_splitter import RecursiveCharacterTextSplitter, CharacterTextSplitter\n",
    "from langchain.vectorstores.elastic_vector_search import ElasticVectorSearch\n",
    "from langchain.vectorstores import Chroma\n",
    "from langchain.docstore.document import Document\n",
    "from langchain.prompts import PromptTemplate\n",
    "from langchain.vectorstores.faiss import FAISS\n",
    "import pickle"
   ]
  },
  {
   "cell_type": "code",
   "execution_count": 18,
   "id": "4da195a3",
   "metadata": {},
   "outputs": [],
   "source": [
    "from langchain.document_loaders import UnstructuredFileLoader\n",
    "\n",
    "# load raw data\n",
    "loader = UnstructuredFileLoader(\"./csci.pdf\", mode=\"elements\")\n",
    "raw_documents = loader.load()"
   ]
  },
  {
   "cell_type": "code",
   "execution_count": 19,
   "id": "e32e8908",
   "metadata": {},
   "outputs": [
    {
     "name": "stdout",
     "output_type": "stream",
     "text": [
      "261\n",
      "page_content='Daniel W. Barowy, Assistant Professor of Computer Science  James M. Bern, Assistant Professor of Computer Science  Rohit Bhattacharya, Assistant Professor of Computer Science  Stephen N. Freund, Chair and A. Barton Hepburn Professor of Computer Science  Mark Hopkins, Assistant Professor of Computer Science  Iris Howley, Assistant Professor of Computer Science  Bill K. Jannen, Assistant Professor of Computer Science  Katie A. Keith, Assistant Professor of Computer Science  Samuel M' metadata={'source': './csci.pdf', 'filename': './csci.pdf', 'page_number': 1, 'category': 'ListItem'}\n",
      "page_content='auley, Assistant Professor of Computer Science; on leave' metadata={'source': './csci.pdf', 'filename': './csci.pdf', 'page_number': 1, 'category': 'ListItem'}\n",
      "page_content='-' metadata={'source': './csci.pdf', 'filename': './csci.pdf', 'page_number': 1, 'category': 'ListItem'}\n",
      "page_content='Kelly A. Shaw, Professor of Computer Science  Shikha Singh, Assistant Professor of Computer Science; on leave' metadata={'source': './csci.pdf', 'filename': './csci.pdf', 'page_number': 1, 'category': 'ListItem'}\n",
      "page_content='-' metadata={'source': './csci.pdf', 'filename': './csci.pdf', 'page_number': 1, 'category': 'ListItem'}\n",
      "page_content='Aaron M. Williams, Associate Professor of Computer Science; on leave Spring' metadata={'source': './csci.pdf', 'filename': './csci.pdf', 'page_number': 1, 'category': 'ListItem'}\n",
      "page_content='Computers and computation are pervasive in our society. They play enormously important roles in areas as diverse as education, science, business, and the arts. Understanding the nature of computation and exploring the great potential of computers are the goals of the discipline of computer science. A sample of the areas of research investigated by the Williams Department of Computer Science alone illustrates the vast range topics that are of interest to computer scientists and computing professionals today. This includes: the use of computer-generated graphic images in the arts and as a tool for visualization in the sciences and other areas; the protocols that make transmission of information over the Internet possible; the design of revolutionary new computer languages that simplify the process of constructing complex programs for computers; the development of machine learning algorithms that can extract useful and even novel information from data that is too complex for humans to analyze; algorithms that can solve problems that were previously too hard to solve in a reasonable amount of time, just by giving up a little bit of optimality in the solution; the investigation of machine architectures and specific hardware aimed at making computing fast.' metadata={'source': './csci.pdf', 'filename': './csci.pdf', 'page_number': 1, 'category': 'NarrativeText'}\n",
      "page_content='The department recognizes that students’ interests in computer science will vary widely. The department attempts to meet these varying interests through: (1) the major; (2) a selection of courses intended for those who are interested primarily in an introduction to computer science; (3) recommended course sequences for the non-major who wants a more extensive introduction to computer science in general or who seeks to develop some specific expertise in computing for application in some other discipline.' metadata={'source': './csci.pdf', 'filename': './csci.pdf', 'page_number': 1, 'category': 'NarrativeText'}\n",
      "page_content='MAJOR' metadata={'source': './csci.pdf', 'filename': './csci.pdf', 'page_number': 1, 'category': 'Title'}\n",
      "page_content='The goal of the major is to provide an understanding of algorithmic problem solving as well as the conceptual organization of computers complex programs running on them. Emphasis is placed on the fundamental principles of computer science, building upon the mathematical theoretical ideas underlying these principles. The introductory and core courses build a broad and solid base for understanding computer more advanced courses allow students to sample a variety of specialized areas including graphics, artificial intelligence, computer networks, compiler design, human computer interaction, distributed systems, and operating systems. Independent study and honors work opportunities for students to study and conduct research on topics of special interest.' metadata={'source': './csci.pdf', 'filename': './csci.pdf', 'page_number': 1, 'category': 'NarrativeText'}\n",
      "page_content='MAJOR REQUIREMENTS' metadata={'source': './csci.pdf', 'filename': './csci.pdf', 'page_number': 1, 'category': 'Title'}\n",
      "page_content='A minimum of 8 courses is required in Computer Science, including the following:' metadata={'source': './csci.pdf', 'filename': './csci.pdf', 'page_number': 1, 'category': 'NarrativeText'}\n",
      "page_content='Computer Science 134 Introduction to Computer Science' metadata={'source': './csci.pdf', 'filename': './csci.pdf', 'page_number': 1, 'category': 'NarrativeText'}\n",
      "page_content='Computer Science' metadata={'source': './csci.pdf', 'filename': './csci.pdf', 'page_number': 2, 'category': 'ListItem'}\n",
      "page_content='Computer Organization Computer Science' metadata={'source': './csci.pdf', 'filename': './csci.pdf', 'page_number': 2, 'category': 'ListItem'}\n",
      "page_content='Algorithm Design and Analysis Computer Science' metadata={'source': './csci.pdf', 'filename': './csci.pdf', 'page_number': 2, 'category': 'ListItem'}\n",
      "page_content='Principles of Programming Computer Science' metadata={'source': './csci.pdf', 'filename': './csci.pdf', 'page_number': 2, 'category': 'ListItem'}\n",
      "page_content='Theory of Computation' metadata={'source': './csci.pdf', 'filename': './csci.pdf', 'page_number': 2, 'category': 'ListItem'}\n",
      "page_content='Elective Courses' metadata={'source': './csci.pdf', 'filename': './csci.pdf', 'page_number': 2, 'category': 'Title'}\n",
      "page_content='Two or more electives (bringing the total number of Computer Science courses to at least 8) chosen from 300- or 400-level courses in Computer Science. Computer Science courses with 9 as the middle digit (reading, research, and thesis courses) will normally not be used to satisfy the elective requirements. Students may petition the department to waive this restriction with good reason.' metadata={'source': './csci.pdf', 'filename': './csci.pdf', 'page_number': 2, 'category': 'NarrativeText'}\n",
      "page_content='Any Mathematics or Statistics course at the 200-level or higher except for MATH 200' metadata={'source': './csci.pdf', 'filename': './csci.pdf', 'page_number': 2, 'category': 'NarrativeText'}\n",
      "page_content='Students must demonstrate proficiency in discrete mathematics by either passing the departmental Discrete Mathematics Proficiency Exam or by earning a grade of C- or better in MATH 200. This requirement must be met by the end of the sophomore year.' metadata={'source': './csci.pdf', 'filename': './csci.pdf', 'page_number': 2, 'category': 'NarrativeText'}\n",
      "page_content='To be eligible for admission to the major, a student must have completed at least two Computer Science courses, including Computer Science 136, as well as fulfilled the Discrete Mathematics Proficiency Requirement by the end of the sophomore year. A Mathematics course at the 200-level or higher (except for MATH 200) must be completed by the end of the junior year. Students are urged to have completed two of the four core courses (Computer Science 237, 256, 334, and 361) by the end of the sophomore year and must normally have completed at least three out of the four core courses by the end of the junior year.' metadata={'source': './csci.pdf', 'filename': './csci.pdf', 'page_number': 2, 'category': 'NarrativeText'}\n",
      "page_content='We encourage students to be intellectually engaged in our field beyond the formal structure of courses. As such, all computer science majors must attend at least twenty Computer Science colloquia. Juniors and seniors are encouraged to attend at least five during each semester they are present on campus. Prospective majors in their first and second years are also encouraged to attend. A student studying away on a program approved by the International Education and Study Away Office will receive four colloquium credits for each semester away, up to a total of eight credits.' metadata={'source': './csci.pdf', 'filename': './csci.pdf', 'page_number': 2, 'category': 'NarrativeText'}\n",
      "page_content='With the advance permission of the department, two appropriate mathematics or statistics courses may be substituted for one Computer Science elective. Appropriate mathematics classes are those numbered 300 or above, and appropriate statistics courses are those numbered 200 or above. Other variations in the required courses, adapting the requirements to the special needs and interests of the individual student, may be arranged in consultation with the department.' metadata={'source': './csci.pdf', 'filename': './csci.pdf', 'page_number': 2, 'category': 'NarrativeText'}\n",
      "page_content='consultation with the department.' metadata={'source': './csci.pdf', 'filename': './csci.pdf', 'page_number': 2, 'category': 'NarrativeText'}\n",
      "page_content='LABORATORY FACILITIES' metadata={'source': './csci.pdf', 'filename': './csci.pdf', 'page_number': 2, 'category': 'Title'}\n",
      "page_content='The Computer Science Department maintains five departmental computer laboratories for students taking Computer Science courses, as well as a lab that can be configured for teaching specialized topics such as robotics. The workstations in these laboratories also support student and faculty research in computer science.' metadata={'source': './csci.pdf', 'filename': './csci.pdf', 'page_number': 2, 'category': 'NarrativeText'}\n",
      "page_content='THE DEGREE WITH HONORS IN COMPUTER SCIENCE' metadata={'source': './csci.pdf', 'filename': './csci.pdf', 'page_number': 2, 'category': 'Title'}\n",
      "page_content='The degree with honors in Computer Science is awarded to students who have demonstrated outstanding intellectual achievement in study extending beyond the requirements of the regular major. The principal considerations in recommending a student for the degree be: mastery of core material, ability to pursue independent study of computer science, originality in methods of investigation, and creativity Honors study is highly recommended for those students with strong academic records in computer science who wish to attend graduate pursue high-level industrial positions in computing, or who would simply like to experience research in computer science.' metadata={'source': './csci.pdf', 'filename': './csci.pdf', 'page_number': 2, 'category': 'NarrativeText'}\n",
      "page_content='INTRODUCTORY COURSES' metadata={'source': './csci.pdf', 'filename': './csci.pdf', 'page_number': 3, 'category': 'Title'}\n",
      "page_content='Computer Science 134 provides an introduction to computer science with a focus on developing computer programming skills. These skills are essential to most upper-level courses in the department. As a result, Computer Science 134 together with Computer Science 136, are required as a prerequisite to most advanced courses in the department. Those students intending to take several Computer Science courses are urged to take 134' metadata={'source': './csci.pdf', 'filename': './csci.pdf', 'page_number': 3, 'category': 'NarrativeText'}\n",
      "page_content='Introduction to Computer Science covers fundamental concepts in the design, implementation and testing of computer programs including loops, conditionals, functions, elementary data types and recursion. There is a strong focus on constructing correct, understandable and efficient programs in a structured language such as Java or Python.' metadata={'source': './csci.pdf', 'filename': './csci.pdf', 'page_number': 3, 'category': 'NarrativeText'}\n",
      "page_content='STUDY ABROAD' metadata={'source': './csci.pdf', 'filename': './csci.pdf', 'page_number': 3, 'category': 'Title'}\n",
      "page_content='Study abroad can be a wonderful experience. Students who hope to take computer science courses while abroad should discuss their plans in advance with the chair of the department or the departmental study away advisor. Students who plan to study away but do not expect to take courses toward the major should work with the department to create a plan to ensure that they will be able to complete the major. While study abroad is generally not an impediment to completing the major, students should be aware that certain computer science courses must be taken in a particular sequence and that not all courses are offered every semester (or every year). Students who wish to discuss their plans are invited to meet with any of' metadata={'source': './csci.pdf', 'filename': './csci.pdf', 'page_number': 3, 'category': 'NarrativeText'}\n",
      "page_content='the faculty in Computer' metadata={'source': './csci.pdf', 'filename': './csci.pdf', 'page_number': 3, 'category': 'NarrativeText'}\n",
      "page_content='The faculty in Computer Science believes that students can substantially enrich their academic experience by completing a coherent plan of study in one or more disciplines outside of their majors. With this in mind, we have attempted to provide students majoring in other departments with options in our department’s curriculum ranging from two-course sequences to collections of courses equivalent to what would constitute a minor at institutions that recognize such a concentration. Students interested in designing such a plan of study are invited to discuss their plans in detail with a member of' metadata={'source': './csci.pdf', 'filename': './csci.pdf', 'page_number': 4, 'category': 'NarrativeText'}\n",
      "page_content='Students seeking to develop an extensive knowledge of computer science without majoring in the department are encouraged to use the major requirements as a guide. In particular, the four core courses required of majors are intended to provide a broad knowledge of topics underlying all of computer science. Students seeking a concentration in Computer Science are urged to complete at least two of these courses followed by one of our upper-level electives. Such a program would typically require the completion of a total of five Computer Science courses in addition to the Discrete' metadata={'source': './csci.pdf', 'filename': './csci.pdf', 'page_number': 4, 'category': 'NarrativeText'}\n",
      "page_content='There are several sequences of courses appropriate for those primarily interested in developing skills in programming for use in other areas. For general programming, Computer Science 134 followed by 136 and 256 will provide students with a strong background in algorithm and data structure design together with an understanding of issues of correctness and efficiency. Students of the Bioinformatics program are encouraged to take Computer Science 134 at a minimum, and should also consider Computer Science 136 and 256. The sequence of courses Computer Science 109 134 would provide sufficient competence in computer graphics for many students interested in applying such knowledge either in the arts or' metadata={'source': './csci.pdf', 'filename': './csci.pdf', 'page_number': 4, 'category': 'NarrativeText'}\n",
      "page_content='All Computer Science courses may be used to satisfy the Division III distribution requirement.' metadata={'source': './csci.pdf', 'filename': './csci.pdf', 'page_number': 4, 'category': 'NarrativeText'}\n",
      "page_content='normally offered every' metadata={'source': './csci.pdf', 'filename': './csci.pdf', 'page_number': 4, 'category': 'NarrativeText'}\n",
      "page_content='The increase from 100, through 200 and 300, to 400 indicates in most instances an increasing level of maturity in the subject that is expected students. Within a series, numeric order does not indicate the relative level of difficulty of courses. Rather, the middle digit of the course number (particularly in upper-level courses) generally indicates the area of computer science covered by the course.' metadata={'source': './csci.pdf', 'filename': './csci.pdf', 'page_number': 4, 'category': 'NarrativeText'}\n",
      "page_content='Course Descriptions' metadata={'source': './csci.pdf', 'filename': './csci.pdf', 'page_number': 4, 'category': 'Title'}\n",
      "page_content='Brief descriptions of the courses in Computer Science can be found below. More detailed information on the offerings in the department available at http://www.cs.williams.edu/.' metadata={'source': './csci.pdf', 'filename': './csci.pdf', 'page_number': 4, 'category': 'NarrativeText'}\n",
      "page_content='available at http://www.cs.williams.edu/.' metadata={'source': './csci.pdf', 'filename': './csci.pdf', 'page_number': 4, 'category': 'NarrativeText'}\n",
      "page_content='With the permission of the department, any course offered by the department may be taken pass-fail (with the exception of tutorials), though courses graded with the pass-fail option may not be used to satisfy any of the major or honors requirements. However, with the permission of the department, courses taken in the department beyond those requirements may be taken on a pass-fail basis.' metadata={'source': './csci.pdf', 'filename': './csci.pdf', 'page_number': 4, 'category': 'NarrativeText'}\n",
      "page_content=\"Digital data is being infused throughout the entire physical world, escaping the computer monitor and spreading to other devices and including the human body. Electronic textiles, or eTextiles, is one of the next steps toward making everything interactive and this introduce learners to the first steps of developing their own wearable interactive technology devices. After completing a series of projects to gain practice in necessary sewing, circuitry, and programming skills, students will propose and design their own eTextiles eventually implementing them with sewable Arduino components, and other found electronic components as needed. The scope of the depend on the individual's prior background, but can include everything from a sweatshirt with light-up turn signals for bicycling, to a displays the current air quality of the room, to a stuffed animal that plays a tune when the lights go on, to whatever project you can accomplish with sewable Arduino inputs, outputs, and development board in a semester context. This class will introduce students to computer programming, circuitry, and sewing with the goal of creating novel wearable artifacts that interact with the world.\" metadata={'source': './csci.pdf', 'filename': './csci.pdf', 'page_number': 5, 'category': 'NarrativeText'}\n",
      "page_content='Class Format: interspersed with hands-on activities in a computer lab' metadata={'source': './csci.pdf', 'filename': './csci.pdf', 'page_number': 5, 'category': 'NarrativeText'}\n",
      "page_content='Requirements/Evaluation: weekly homework assignments and a final project' metadata={'source': './csci.pdf', 'filename': './csci.pdf', 'page_number': 5, 'category': 'NarrativeText'}\n",
      "page_content='Quantative/Formal Reasoning Notes: The course will teach students the basics of computer programming through projects in quantitative/formal reasoning skills are practiced and evaluated.' metadata={'source': './csci.pdf', 'filename': './csci.pdf', 'page_number': 5, 'category': 'NarrativeText'}\n",
      "page_content='quantitative/formal reasoning skills are practiced and evaluated.' metadata={'source': './csci.pdf', 'filename': './csci.pdf', 'page_number': 5, 'category': 'NarrativeText'}\n",
      "page_content='CSCI 104 (F) Data Science and Computing for All (QFR)' metadata={'source': './csci.pdf', 'filename': './csci.pdf', 'page_number': 5, 'category': 'Title'}\n",
      "page_content=\"Many of the world's greatest discoveries and most consequential decisions are enabled or informed by the analysis of data from a myriad of Indeed, the ability to wrangle, visualize, and draw conclusions from data is now a critical tool in the sciences, business, medicine, politics, other academic disciplines, and society as a whole. This course lays the foundations for quantifying relationships in data by exploring complementary computational, statistical, and visualization concepts. These concepts will be reinforced by lab experiences designed to teach programming and statistics skills while analyzing real-world data sets. This course will also examine the broader context and social issues surrounding data analysis, including privacy and ethics.\" metadata={'source': './csci.pdf', 'filename': './csci.pdf', 'page_number': 5, 'category': 'NarrativeText'}\n",
      "page_content='Quantative/Formal Reasoning Notes: This course includes regular and substantial problem sets, labs, and/or projects in which reasoning skills are practiced and evaluated.' metadata={'source': './csci.pdf', 'filename': './csci.pdf', 'page_number': 5, 'category': 'NarrativeText'}\n",
      "page_content='LEC Section: 01 MWF 10:00 am - 10:50 am Stephen N. LEC Section: 02 MWF 11:00 am - 11:50 am Katie A. Keith LAB Section: 03 M 1:00 pm - 2:30 pm Stephen N. Freund LAB Section: 04 M 2:30 pm - 4:00 pm Stephen N. Freund LAB Section: 05 T 1:00 pm - 2:30 pm Katie A. Keith LAB Section: 06 T 2:30 pm - 4:00 pm Katie A. Keith' metadata={'source': './csci.pdf', 'filename': './csci.pdf', 'page_number': 6, 'category': 'FigureCaption'}\n",
      "page_content='CSCI 134 (F)(S) Introduction to Computer Science (QFR)' metadata={'source': './csci.pdf', 'filename': './csci.pdf', 'page_number': 6, 'category': 'Title'}\n",
      "page_content='course introduces students to the science of computation by exploring the representation and manipulation of data and algorithms. We transform information in order to solve problems using algorithms written in a modern object-oriented language. Topics include using objects and classes, and the description of processes using conditional control, iteration, methods and classes. We also begin self-reference, reuse, and performance analysis. While the choice of programming language and application area will vary in the skills students develop will transfer equally well to more advanced study in many areas. In particular, this course is designed programming skills needed for further study in computer science and is expected to satisfy introductory programming requirements in' metadata={'source': './csci.pdf', 'filename': './csci.pdf', 'page_number': 6, 'category': 'NarrativeText'}\n",
      "page_content='Enrollment Preferences: if the course is over-enrolled, enrollment will be determined by lottery.' metadata={'source': './csci.pdf', 'filename': './csci.pdf', 'page_number': 6, 'category': 'NarrativeText'}\n",
      "page_content='Quantative/Formal Reasoning Notes: This course includes regular and substantial problem sets, labs, and/or projects in which reasoning skills are practiced and evaluated.' metadata={'source': './csci.pdf', 'filename': './csci.pdf', 'page_number': 6, 'category': 'NarrativeText'}\n",
      "page_content='Attributes: COGS Interdepartmental Electives' metadata={'source': './csci.pdf', 'filename': './csci.pdf', 'page_number': 6, 'category': 'NarrativeText'}\n",
      "page_content='This course builds on the programming skills acquired in Computer Science 134. It couples work on program design, analysis, and verification with an introduction to the study of data structures. Data structures capture common ways in which to store and manipulate data, and they are important in the construction of sophisticated computer programs. Students are introduced to some of the most important and frequently used data structures: lists, stacks, queues, trees, hash tables, graphs, and files. Students will be expected to write several programs, ranging from very short programs to more elaborate systems. Emphasis will be placed on the development of clear, modular programs that are easy to read, debug, verify, analyze, and modify.' metadata={'source': './csci.pdf', 'filename': './csci.pdf', 'page_number': 7, 'category': 'NarrativeText'}\n",
      "page_content='Enrollment Preferences: if the course is over-enrolled, enrollment will be determined by lottery.' metadata={'source': './csci.pdf', 'filename': './csci.pdf', 'page_number': 7, 'category': 'NarrativeText'}\n",
      "page_content='Quantative/Formal Reasoning Notes: This course include regular and substantial problem sets, labs, and/or projects in which reasoning skills are practiced and evaluated.' metadata={'source': './csci.pdf', 'filename': './csci.pdf', 'page_number': 7, 'category': 'NarrativeText'}\n",
      "page_content='reasoning skills are practiced and evaluated.' metadata={'source': './csci.pdf', 'filename': './csci.pdf', 'page_number': 7, 'category': 'NarrativeText'}\n",
      "page_content='Attributes: BIGP Courses' metadata={'source': './csci.pdf', 'filename': './csci.pdf', 'page_number': 7, 'category': 'NarrativeText'}\n",
      "page_content='Fall 2023' metadata={'source': './csci.pdf', 'filename': './csci.pdf', 'page_number': 7, 'category': 'Title'}\n",
      "page_content='LEC Section: 01 MWF 9:00 am - 9:50 am James M. Bern LEC Section: 02 MWF 10:00 am - 10:50 am James M. Bern LAB Section: 03 W 1:00 pm - 2:30 pm James M. Bern LAB Section: 04 W 2:30 pm - 4:00 pm James M. Bern LAB Section: 05 R 1:00 pm - 2:30 pm James M. Bern LAB Section: 06 R 2:30 pm - 4:00 pm James M. Bern Spring 2024 LEC Section: 01 MWF 9:00 am - 9:50 am Katie A. Keith LEC Section: 02 MWF 10:00 am - 10:50 am Katie A. Keith LAB Section: 03 W 1:00 pm - 2:30 pm Katie A. Keith LAB Section: 04 W 2:30 pm - 4:00 pm Katie A. Keith LAB Section: 05 R 1:00 pm - 2:30 pm Katie A. Keith LAB Section: 06 R 2:30 pm - 4:00 pm Katie A. Keith' metadata={'source': './csci.pdf', 'filename': './csci.pdf', 'page_number': 7, 'category': 'FigureCaption'}\n",
      "page_content='CSCI 237 (F)(S) Computer Organization (QFR)' metadata={'source': './csci.pdf', 'filename': './csci.pdf', 'page_number': 7, 'category': 'Title'}\n",
      "page_content=\"This course studies the basic instruction set architecture and organization of a modern computer. It provides a programmer's view of how systems execute programs, store information, and communicate. Over the semester the student learns the fundamentals of translating higher level languages into assembly language, and the interpretation of machine languages by hardware. At the same time, a model of computer hardware organization is developed from the gate level upward.\" metadata={'source': './csci.pdf', 'filename': './csci.pdf', 'page_number': 7, 'category': 'NarrativeText'}\n",
      "page_content='Enrollment Preferences: current or expected Computer Science majors' metadata={'source': './csci.pdf', 'filename': './csci.pdf', 'page_number': 8, 'category': 'NarrativeText'}\n",
      "page_content='Expected Class Size: 24' metadata={'source': './csci.pdf', 'filename': './csci.pdf', 'page_number': 8, 'category': 'NarrativeText'}\n",
      "page_content='Quantative/Formal Reasoning Notes: The course will consist of programming assignments and problem sets in which quantitative/formal skills are practiced and evaluated.' metadata={'source': './csci.pdf', 'filename': './csci.pdf', 'page_number': 8, 'category': 'NarrativeText'}\n",
      "page_content='skills are practiced and evaluated.' metadata={'source': './csci.pdf', 'filename': './csci.pdf', 'page_number': 8, 'category': 'NarrativeText'}\n",
      "page_content='Fall 2023' metadata={'source': './csci.pdf', 'filename': './csci.pdf', 'page_number': 8, 'category': 'Title'}\n",
      "page_content='Section: 01 MWF 9:00 am - 9:50 am Bill K. Jannen Section: 02 MWF 11:00 am - 11:50 am Bill K. Jannen Section: 03 W 1:00 pm - 2:30 pm Bill K. Jannen Section: 04 W 2:30 pm - 4:00 pm Bill K. Jannen Section: 05 R 1:00 pm - 2:30 pm Bill K. Jannen Section: 06 R 2:30 pm - 4:00 pm Bill K. Jannen 2024 Section: 01 MWF 12:00 pm - 12:50 pm Jeannie R Section: 02 W 1:00 pm - 2:30 pm Jeannie R Albrecht Section: 03 R 1:00 pm - 2:30 pm Jeannie R Albrecht' metadata={'source': './csci.pdf', 'filename': './csci.pdf', 'page_number': 8, 'category': 'FigureCaption'}\n",
      "page_content='This course investigates methods for designing efficient and reliable algorithms. By carefully analyzing the structure of a problem within a mathematical framework, it is often possible to dramatically decrease the computational resources needed to find a solution. In addition, analysis provides a method for verifying the correctness of an algorithm and accurately estimating its running time and space requirements. We will study several algorithm design strategies that build on data structures and programming techniques introduced in Computer Science 136. These include greedy, divide-and-conquer, dynamic programming, and network flow algorithms. Additional topics of study include algorithms on graphs and strategies for handling potentially intractable problems.' metadata={'source': './csci.pdf', 'filename': './csci.pdf', 'page_number': 8, 'category': 'NarrativeText'}\n",
      "page_content='Requirements/Evaluation: Problem sets, midterm and final examinations' metadata={'source': './csci.pdf', 'filename': './csci.pdf', 'page_number': 8, 'category': 'NarrativeText'}\n",
      "page_content='Enrollment Preferences: Preference will be given to students who need the class in order to complete the major. Ties will be broken by seniority (seniors first, then juniors, etc.).' metadata={'source': './csci.pdf', 'filename': './csci.pdf', 'page_number': 8, 'category': 'NarrativeText'}\n",
      "page_content='Quantative/Formal Reasoning Notes: This course will have weekly problem sets in which students will formally prove statements about the and performance of algorithms. In short, the course is about applying abstract and mathematical reasoning to the study of algorithms and computation.' metadata={'source': './csci.pdf', 'filename': './csci.pdf', 'page_number': 8, 'category': 'NarrativeText'}\n",
      "page_content='LEC Section:' metadata={'source': './csci.pdf', 'filename': './csci.pdf', 'page_number': 8, 'category': 'ListItem'}\n",
      "page_content='MWF' metadata={'source': './csci.pdf', 'filename': './csci.pdf', 'page_number': 8, 'category': 'ListItem'}\n",
      "page_content=':' metadata={'source': './csci.pdf', 'filename': './csci.pdf', 'page_number': 8, 'category': 'ListItem'}\n",
      "page_content='pm -' metadata={'source': './csci.pdf', 'filename': './csci.pdf', 'page_number': 8, 'category': 'ListItem'}\n",
      "page_content=':' metadata={'source': './csci.pdf', 'filename': './csci.pdf', 'page_number': 8, 'category': 'ListItem'}\n",
      "page_content='pm Aaron M. Spring' metadata={'source': './csci.pdf', 'filename': './csci.pdf', 'page_number': 8, 'category': 'ListItem'}\n",
      "page_content='LEC Section:' metadata={'source': './csci.pdf', 'filename': './csci.pdf', 'page_number': 8, 'category': 'ListItem'}\n",
      "page_content='MR' metadata={'source': './csci.pdf', 'filename': './csci.pdf', 'page_number': 8, 'category': 'ListItem'}\n",
      "page_content=':' metadata={'source': './csci.pdf', 'filename': './csci.pdf', 'page_number': 8, 'category': 'ListItem'}\n",
      "page_content='pm -' metadata={'source': './csci.pdf', 'filename': './csci.pdf', 'page_number': 8, 'category': 'ListItem'}\n",
      "page_content=':' metadata={'source': './csci.pdf', 'filename': './csci.pdf', 'page_number': 8, 'category': 'ListItem'}\n",
      "page_content='pm Samuel M' metadata={'source': './csci.pdf', 'filename': './csci.pdf', 'page_number': 8, 'category': 'ListItem'}\n",
      "page_content='auley LEC Section:' metadata={'source': './csci.pdf', 'filename': './csci.pdf', 'page_number': 8, 'category': 'ListItem'}\n",
      "page_content='MR' metadata={'source': './csci.pdf', 'filename': './csci.pdf', 'page_number': 8, 'category': 'ListItem'}\n",
      "page_content=':' metadata={'source': './csci.pdf', 'filename': './csci.pdf', 'page_number': 8, 'category': 'ListItem'}\n",
      "page_content='pm -' metadata={'source': './csci.pdf', 'filename': './csci.pdf', 'page_number': 8, 'category': 'ListItem'}\n",
      "page_content=':' metadata={'source': './csci.pdf', 'filename': './csci.pdf', 'page_number': 8, 'category': 'ListItem'}\n",
      "page_content='pm Samuel M' metadata={'source': './csci.pdf', 'filename': './csci.pdf', 'page_number': 8, 'category': 'ListItem'}\n",
      "page_content='auley' metadata={'source': './csci.pdf', 'filename': './csci.pdf', 'page_number': 8, 'category': 'ListItem'}\n",
      "page_content='Cross-listings: PHYS 315 CSCI 315' metadata={'source': './csci.pdf', 'filename': './csci.pdf', 'page_number': 9, 'category': 'Title'}\n",
      "page_content='Secondary Cross-listing' metadata={'source': './csci.pdf', 'filename': './csci.pdf', 'page_number': 9, 'category': 'Title'}\n",
      "page_content='This course will provide an overview of Computational Biology, the application of computational, mathematical, statistical, and physical problem-solving techniques to interpret the rapidly expanding amount of biological data. Topics covered will include database searching, DNA sequence alignment, clustering, RNA structure prediction, protein structural alignment, methods of analyzing gene expression, networks, and assembly using techniques such as string matching, dynamic programming, hidden Markov models, and statistics.' metadata={'source': './csci.pdf', 'filename': './csci.pdf', 'page_number': 9, 'category': 'NarrativeText'}\n",
      "page_content='Prerequisites: programming experience (e.g., CSCI 136), mathematics (PHYS/MATH 210 or MATH 150), and physical science (PHYS 142 or 151, or CHEM 151 or 153 or 155), or permission of instructor' metadata={'source': './csci.pdf', 'filename': './csci.pdf', 'page_number': 9, 'category': 'NarrativeText'}\n",
      "page_content='Enrollment Preferences: courage' metadata={'source': './csci.pdf', 'filename': './csci.pdf', 'page_number': 9, 'category': 'NarrativeText'}\n",
      "page_content='Quantative/Formal Reasoning Notes: problem sets and programming' metadata={'source': './csci.pdf', 'filename': './csci.pdf', 'page_number': 9, 'category': 'NarrativeText'}\n",
      "page_content='Cross-listings: MATH 319 CHEM 319 BIOL 319 PHYS 319 CSCI 319' metadata={'source': './csci.pdf', 'filename': './csci.pdf', 'page_number': 9, 'category': 'NarrativeText'}\n",
      "page_content='Secondary Cross-listing' metadata={'source': './csci.pdf', 'filename': './csci.pdf', 'page_number': 9, 'category': 'Title'}\n",
      "page_content='What can computational biology teach us about cancer? In this lab-intensive experience for the Genomics, Proteomics, and Bioinformatics computational analysis and wet-lab investigations will inform each other, as students majoring in biology, chemistry, computer science, mathematics/statistics, and physics contribute their own expertise to explore how ever-growing gene and protein data-sets can provide key into human disease. In this course, we will take advantage of one well-studied system, the highly conserved Ras-related family of proteins, which a central role in numerous fundamental processes within the cell. The course will integrate bioinformatics and molecular biology, using database searching, alignments and pattern matching, and phylogenetics to reconstruct the evolution of gene families by focusing on the gene duplication events and gene rearrangements that have occurred over the course of eukaryotic speciation. By utilizing high through-put approaches to genes involved in the inflammatory and MAPK signal transduction pathways in human colon cancer cell lines, students will uncover regulatory mechanisms that are aberrantly altered by siRNA knockdown of putative regulatory components. This functional genomic strategy will be coupled independent projects using phosphorylation-state specific antisera to test our hypotheses. Proteomic analysis will introduce the students to de structural prediction and threading algorithms, as well as data-mining approaches and Bayesian modeling of protein network dynamics in single Flow cytometry and mass spectrometry may also be used to study networks of interacting proteins in colon tumor cells.' metadata={'source': './csci.pdf', 'filename': './csci.pdf', 'page_number': 9, 'category': 'NarrativeText'}\n",
      "page_content='Enrollment Preferences: seniors, then juniors, then sophomores' metadata={'source': './csci.pdf', 'filename': './csci.pdf', 'page_number': 9, 'category': 'NarrativeText'}\n",
      "page_content='MATH 319 (D3) CHEM 319 (D3) BIOL 319 (D3) PHYS 319 (D3) CSCI 319 (D3)' metadata={'source': './csci.pdf', 'filename': './csci.pdf', 'page_number': 10, 'category': 'Title'}\n",
      "page_content='Quantative/Formal Reasoning Notes: Through lab work, homework sets and a major project, students will learn or further develop their skills in programming in Python, and about the basis of Bayesian approaches to phylogenetic tree estimation.' metadata={'source': './csci.pdf', 'filename': './csci.pdf', 'page_number': 10, 'category': 'NarrativeText'}\n",
      "page_content='Attributes: BIGP Courses BIMO Interdepartmental Electives' metadata={'source': './csci.pdf', 'filename': './csci.pdf', 'page_number': 10, 'category': 'NarrativeText'}\n",
      "page_content='CSCI 331 (F) Introduction to Computer Security (QFR)' metadata={'source': './csci.pdf', 'filename': './csci.pdf', 'page_number': 10, 'category': 'Title'}\n",
      "page_content='This class explores common vulnerabilities in computer systems, how attackers exploit them, and how systems engineers design defenses to mitigate them. The goal is to be able to recognize potential vulnerabilities in one\\'s own software and to practice defensive design. Hands-on experience writing assembly language and C code to inspect and modify the low-level operation of running programs is emphasized. Finally, regular reading and writing assignments round out the course to help students understand the cultural and historical background of the computer security \"arms race.\"' metadata={'source': './csci.pdf', 'filename': './csci.pdf', 'page_number': 10, 'category': 'NarrativeText'}\n",
      "page_content='Class Format: This course has twice-weekly lecture meetings as well as a weekly lab meeting.' metadata={'source': './csci.pdf', 'filename': './csci.pdf', 'page_number': 10, 'category': 'NarrativeText'}\n",
      "page_content='Quantative/Formal Reasoning Notes: This course include regular and substantial problem sets and labs in which quantitative/formal reasoning are practiced and evaluated.' metadata={'source': './csci.pdf', 'filename': './csci.pdf', 'page_number': 10, 'category': 'NarrativeText'}\n",
      "page_content='CSCI 333 (S) Storage Systems (QFR)' metadata={'source': './csci.pdf', 'filename': './csci.pdf', 'page_number': 10, 'category': 'Title'}\n",
      "page_content='This course will examine topics in the design, implementation, and evaluation of storage systems. Topics include the memory hierarchy; ways that data is organized (both logically and physically); storage hardware and its influence on storage software designs; data structures; performance models; and system measurement/evaluation. Readings will be taken from recent technical literature, and an emphasis will be placed on identifying and evaluating design trade-offs.' metadata={'source': './csci.pdf', 'filename': './csci.pdf', 'page_number': 10, 'category': 'NarrativeText'}\n",
      "page_content='and evaluating design trade-offs.' metadata={'source': './csci.pdf', 'filename': './csci.pdf', 'page_number': 10, 'category': 'NarrativeText'}\n",
      "page_content='Enrollment Preferences: current Computer Science majors, students with research experience or' metadata={'source': './csci.pdf', 'filename': './csci.pdf', 'page_number': 10, 'category': 'NarrativeText'}\n",
      "page_content='Reasoning Notes: This course will have students develop quantitative/formal reasoning skills through problem sets assignments.' metadata={'source': './csci.pdf', 'filename': './csci.pdf', 'page_number': 10, 'category': 'NarrativeText'}\n",
      "page_content='This course examines the concepts and structures governing the design and implementation of programming languages. It presents an introduction to the concepts behind compilers and run-time representations of programming languages; features of programming languages supporting abstraction and polymorphism; and the procedural, functional, object-oriented, and concurrent programming paradigms. Programs will be required in languages illustrating each of these paradigms.' metadata={'source': './csci.pdf', 'filename': './csci.pdf', 'page_number': 11, 'category': 'NarrativeText'}\n",
      "page_content='Enrollment Preferences: current or expected Computer Science majors' metadata={'source': './csci.pdf', 'filename': './csci.pdf', 'page_number': 11, 'category': 'NarrativeText'}\n",
      "page_content='Quantative/Formal Reasoning Notes: This course include regular and substantial problem sets and labs in which quantitative/formal reasoning skills are practiced and evaluated.' metadata={'source': './csci.pdf', 'filename': './csci.pdf', 'page_number': 11, 'category': 'NarrativeText'}\n",
      "page_content='This course studies the key design principles of distributed systems, which are collections of independent networked computers that function as coherent systems. Covered topics include communication protocols, processes and threads, naming, synchronization, consistency and replication, fault tolerance, and security. Students also examine some specific real-world distributed systems case studies, including Google and Amazon. Class discussion is based on readings from the textbook and research papers. The goals of this course are to understand how large-scale computational systems are built, and to provide students with the tools necessary to evaluate new technologies after the course ends.' metadata={'source': './csci.pdf', 'filename': './csci.pdf', 'page_number': 11, 'category': 'NarrativeText'}\n",
      "page_content='Enrollment Preferences: current or expected Computer Science majors' metadata={'source': './csci.pdf', 'filename': './csci.pdf', 'page_number': 11, 'category': 'NarrativeText'}\n",
      "page_content='Quantative/Formal Reasoning Notes: The course will consist of programming assignments and problem sets in which quantitative/formal skills are practiced and evaluated.' metadata={'source': './csci.pdf', 'filename': './csci.pdf', 'page_number': 11, 'category': 'NarrativeText'}\n",
      "page_content='CSCI 345 (S) Robotics and Digital Fabrication (QFR)' metadata={'source': './csci.pdf', 'filename': './csci.pdf', 'page_number': 11, 'category': 'Title'}\n",
      "page_content='This course is a hands-on exploration of topics in robotics and digital fabrication. We will experience firsthand how ideas and methods from science can be applied to make physical objects, including robots and other machines. The emphasis will be on creative, hands-on experimentation. Along the way, students will learn the basics of embedded systems programming (Arduino), breadboarding, soldering, printed circuit board (PCB) design, mechanical computer-aided design (CAD)--both conventional (OnShape) and programmatic (OpenSCAD)--as well digital fabrication (3D-printing, laser cutting). Students will learn both how to build their own prototypes and how to send out designs to have parts machined professionally. Students will work in teams throughout. The course will culminate in a team robotic design competition testing both functionality and creativity.' metadata={'source': './csci.pdf', 'filename': './csci.pdf', 'page_number': 11, 'category': 'NarrativeText'}\n",
      "page_content='Requirements/Evaluation: Evaluation based on assignments, projects, and exams.' metadata={'source': './csci.pdf', 'filename': './csci.pdf', 'page_number': 11, 'category': 'NarrativeText'}\n",
      "page_content='Quantative/Formal Reasoning Notes: The course will include programming assignments and problem sets in which quantitative/formal skills are practiced and evaluated.' metadata={'source': './csci.pdf', 'filename': './csci.pdf', 'page_number': 12, 'category': 'NarrativeText'}\n",
      "page_content='skills are practiced and evaluated.' metadata={'source': './csci.pdf', 'filename': './csci.pdf', 'page_number': 12, 'category': 'NarrativeText'}\n",
      "page_content='Spring 2024' metadata={'source': './csci.pdf', 'filename': './csci.pdf', 'page_number': 12, 'category': 'Title'}\n",
      "page_content='CSCI 357 (S) Algorithmic Game Theory (QFR)' metadata={'source': './csci.pdf', 'filename': './csci.pdf', 'page_number': 12, 'category': 'Title'}\n",
      "page_content=\"This course focuses on topics in game theory and mechanism design from a computational perspective. We will explore questions design algorithms that incentivize truthful behavior, that is, where the participants have no incentive to cheat? Should we let drivers their commute time or let a central algorithm direct traffic? Does Arrow's impossibility result mean that all voting protocols are overarching goal of these questions is to understand and analyze selfish behavior and whether it can or should influence system learn how to model and reason about incentives in computational systems both theoretically and empirically. Topics include types of efficiency of equilibria, auction design and mechanism design with money, two-sided markets and mechanism design without computational applications such as P2P systems, and computational social choice.\" metadata={'source': './csci.pdf', 'filename': './csci.pdf', 'page_number': 12, 'category': 'NarrativeText'}\n",
      "page_content='Enrollment Preferences: current or expected Computer Science majors' metadata={'source': './csci.pdf', 'filename': './csci.pdf', 'page_number': 12, 'category': 'NarrativeText'}\n",
      "page_content='Quantative/Formal Reasoning Notes: The course will consist problem sets and programming assignments in which quantitative/formal skills are practiced and evaluated.' metadata={'source': './csci.pdf', 'filename': './csci.pdf', 'page_number': 12, 'category': 'NarrativeText'}\n",
      "page_content='CSCI 358 (F) Applied Algorithms (QFR)' metadata={'source': './csci.pdf', 'filename': './csci.pdf', 'page_number': 12, 'category': 'Title'}\n",
      "page_content=\"This course is about bridging the gap between theoretical running time and writing fast code in practice. The course is divided into two basic topics. The first is algorithmic: we will discuss some of the most useful tools in a coder's toolkit. This includes topics like randomization (hashing, filters, approximate counters), linear and convex programming, similarity search, and cache-efficient algorithms. Our goal is to talk about why these efficient algorithms make seemingly difficult problems solvable in practice. The second topic is applications: we will discuss how to implement algorithms in an efficient way that takes advantage of modern hardware. Specific topics covered will include blocking, loop unrolling, pipelining, as well as strategies for performance analysis. Projects and assessments will include both basic theoretical aspects (understanding why the algorithms we discuss actually work), and practical aspects (implementing the algorithms we discuss to solve important problems, and optimizing the code so it runs as quickly as possible).\" metadata={'source': './csci.pdf', 'filename': './csci.pdf', 'page_number': 12, 'category': 'NarrativeText'}\n",
      "page_content='Prerequisites: CSCI 256 and CSCI 237' metadata={'source': './csci.pdf', 'filename': './csci.pdf', 'page_number': 12, 'category': 'NarrativeText'}\n",
      "page_content='skills are practiced and evaluated.' metadata={'source': './csci.pdf', 'filename': './csci.pdf', 'page_number': 13, 'category': 'NarrativeText'}\n",
      "page_content='Not offered current academic year' metadata={'source': './csci.pdf', 'filename': './csci.pdf', 'page_number': 13, 'category': 'NarrativeText'}\n",
      "page_content='Cross-listings: MATH 361 CSCI 361' metadata={'source': './csci.pdf', 'filename': './csci.pdf', 'page_number': 13, 'category': 'Title'}\n",
      "page_content='Primary Cross-listing' metadata={'source': './csci.pdf', 'filename': './csci.pdf', 'page_number': 13, 'category': 'Title'}\n",
      "page_content='This course introduces a formal framework for investigating both the computability and complexity of problems. We study several models of computation including finite automata, regular languages, context-free grammars, and Turing machines. These models provide a mathematical basis for the study of computability theory--the examination of what problems can be solved and what problems cannot be solved--and the study of complexity theory--the examination of how efficiently problems can be solved. Topics include the halting problem and the P versus NP problem.' metadata={'source': './csci.pdf', 'filename': './csci.pdf', 'page_number': 13, 'category': 'NarrativeText'}\n",
      "page_content='Class Format: Students should sign up for lecture and one conference section.' metadata={'source': './csci.pdf', 'filename': './csci.pdf', 'page_number': 13, 'category': 'NarrativeText'}\n",
      "page_content='Enrollment Preferences: current or expected Computer Science majors' metadata={'source': './csci.pdf', 'filename': './csci.pdf', 'page_number': 13, 'category': 'NarrativeText'}\n",
      "page_content='Quantative/Formal Reasoning Notes: This course include regular and substantial problem sets in which quantitative/formal reasoning skills practiced and evaluated.' metadata={'source': './csci.pdf', 'filename': './csci.pdf', 'page_number': 13, 'category': 'NarrativeText'}\n",
      "page_content='Attributes: COGS Interdepartmental Electives' metadata={'source': './csci.pdf', 'filename': './csci.pdf', 'page_number': 13, 'category': 'NarrativeText'}\n",
      "page_content='CSCI 371 (S) Computer Graphics (QFR)' metadata={'source': './csci.pdf', 'filename': './csci.pdf', 'page_number': 13, 'category': 'Title'}\n",
      "page_content='This course covers the fundamental mathematics and techniques behind computer graphics, and will teach students how to represent and draw 2D and 3D geometry for real-time and photorealistic applications. Students will write challenging implementations from the ground up in C/C++, OpenGL, and GLSL. Topics include transformations, rasterization, ray tracing, immediate mode GUI, forward and inverse kinematics, and physically-based animation. Examples are drawn from video games, movies, and robotics.' metadata={'source': './csci.pdf', 'filename': './csci.pdf', 'page_number': 13, 'category': 'NarrativeText'}\n",
      "page_content='Requirements/Evaluation: evaluation based on assignments, projects, and exams.' metadata={'source': './csci.pdf', 'filename': './csci.pdf', 'page_number': 13, 'category': 'NarrativeText'}\n",
      "page_content='skills are practiced and evaluated.' metadata={'source': './csci.pdf', 'filename': './csci.pdf', 'page_number': 14, 'category': 'NarrativeText'}\n",
      "page_content='Not offered current academic year' metadata={'source': './csci.pdf', 'filename': './csci.pdf', 'page_number': 14, 'category': 'NarrativeText'}\n",
      "page_content='CSCI 373 (S) Artificial Intelligence (QFR)' metadata={'source': './csci.pdf', 'filename': './csci.pdf', 'page_number': 14, 'category': 'Title'}\n",
      "page_content='Artificial Intelligence (AI) has become part of everyday life, but what is it, and how does it work? This course introduces theories and techniques that serve as a foundation for the study of artificial intelligence. Potential topics include the following: Problem solving by search, Planning, Constraint satisfaction problems, Reasoning under uncertainty, Probabilistic graphical models, and Automated Learning.' metadata={'source': './csci.pdf', 'filename': './csci.pdf', 'page_number': 14, 'category': 'NarrativeText'}\n",
      "page_content='Requirements/Evaluation: Evaluation based on assignments, projects, and exams.' metadata={'source': './csci.pdf', 'filename': './csci.pdf', 'page_number': 14, 'category': 'NarrativeText'}\n",
      "page_content='Prerequisites: CSCI 136 and (CSCI 256 or permission of instructor)' metadata={'source': './csci.pdf', 'filename': './csci.pdf', 'page_number': 14, 'category': 'NarrativeText'}\n",
      "page_content='Enrollment Preferences: current or expected Computer Science majors' metadata={'source': './csci.pdf', 'filename': './csci.pdf', 'page_number': 14, 'category': 'NarrativeText'}\n",
      "page_content='Quantative/Formal Reasoning Notes: The course will consist of programming assignments and problem sets in which quantitative/formal' metadata={'source': './csci.pdf', 'filename': './csci.pdf', 'page_number': 14, 'category': 'NarrativeText'}\n",
      "page_content='Attributes: COGS Interdepartmental Electives' metadata={'source': './csci.pdf', 'filename': './csci.pdf', 'page_number': 14, 'category': 'NarrativeText'}\n",
      "page_content='CSCI 374 (F) Machine Learning' metadata={'source': './csci.pdf', 'filename': './csci.pdf', 'page_number': 14, 'category': 'Title'}\n",
      "page_content='Machine learning is a field that derives from artificial intelligence and statistics, and is concerned with the design and analysis of computer algorithms that \"learn\" automatically through the use of data. Computer algorithms are capable of discerning subtle patterns and structure in the data that would be practically impossible for a human to find. As a result, real-world decisions, such as treatment options and loan approvals, are being increasingly automated based on predictions or factual knowledge derived from such algorithms. This course explores topics in supervised learning (e.g., random forests and neural networks), unsupervised learning (e.g., k-means clustering and expectation maximization), and possibly reinforcement learning (e.g., Q-learning and temporal difference learning.) It will also introduce methods for the evaluation of learning algorithms (with an emphasis on analysis of generalizability and robustness of the algorithms to distribution/environmental shift), as well as topics in computational learning theory and ethics.' metadata={'source': './csci.pdf', 'filename': './csci.pdf', 'page_number': 14, 'category': 'NarrativeText'}\n",
      "page_content='CSCI 136 and CSCI 256 or permission of instructor' metadata={'source': './csci.pdf', 'filename': './csci.pdf', 'page_number': 14, 'category': 'NarrativeText'}\n",
      "page_content='Enrollment Preferences: Current or expected Computer Science majors.' metadata={'source': './csci.pdf', 'filename': './csci.pdf', 'page_number': 14, 'category': 'NarrativeText'}\n",
      "page_content='Quantative/Formal Reasoning Notes: This course heavily relies on discrete mathematics, calculus, and elementary statistics. Students will be proving theorems, among many other mathematically oriented assignments. Additionally, they will be programming, which involves analytical and logical thinking.' metadata={'source': './csci.pdf', 'filename': './csci.pdf', 'page_number': 14, 'category': 'NarrativeText'}\n",
      "page_content='Natural language processing (NLP) is a set of methods for making human language accessible to computers. NLP underlies many technologies we use on a daily basis including automatic machine translation, search engines, email spam detection, and automated personalized assistants. These methods draw from a combination of algorithms, linguistics and statistics. This course will provide a foundation in building NLP models to classify, generate, and learn from text data.' metadata={'source': './csci.pdf', 'filename': './csci.pdf', 'page_number': 15, 'category': 'NarrativeText'}\n",
      "page_content='Requirements/Evaluation: Evaluation based on assignments, projects, and exams.' metadata={'source': './csci.pdf', 'filename': './csci.pdf', 'page_number': 15, 'category': 'NarrativeText'}\n",
      "page_content='Prerequisites: CSCI 136, and either CSCI 256 or STAT 201/202.' metadata={'source': './csci.pdf', 'filename': './csci.pdf', 'page_number': 15, 'category': 'NarrativeText'}\n",
      "page_content='Enrollment Preferences: current or expected Computer Science majors.' metadata={'source': './csci.pdf', 'filename': './csci.pdf', 'page_number': 15, 'category': 'NarrativeText'}\n",
      "page_content='Quantative/Formal Reasoning Notes: The course will consist of programming assignments and problem sets in which quantitative/formal reasoning skills are practiced and evaluated.' metadata={'source': './csci.pdf', 'filename': './csci.pdf', 'page_number': 15, 'category': 'NarrativeText'}\n",
      "page_content='CSCI 378 (S) Human Artificial Intelligence Interaction' metadata={'source': './csci.pdf', 'filename': './csci.pdf', 'page_number': 15, 'category': 'NarrativeText'}\n",
      "page_content='Primary Cross-listing' metadata={'source': './csci.pdf', 'filename': './csci.pdf', 'page_number': 15, 'category': 'Title'}\n",
      "page_content='Artificial intelligence (AI) is already transforming society and every industry today. In order to ensure that AI serves the collective needs of we as computer scientists must guide AI so that it has a positive impact on the human experience. This course is an introduction to harnessing the power of AI so that it benefits people and communities. We will cover a number of general topics such as: agency and initiative, AI and ethics, bias transparency, confidence and errors, human augmentation and amplification, trust and explainability, and mixed-initiative systems. We explore topics via readings and projects across the AI spectrum, including: dialog and speech-controlled systems, computer vision, data science, recommender systems, text summarization, and UI personalization, among others.' metadata={'source': './csci.pdf', 'filename': './csci.pdf', 'page_number': 15, 'category': 'NarrativeText'}\n",
      "page_content='Enrollment Preferences: current or expected Computer Science majors' metadata={'source': './csci.pdf', 'filename': './csci.pdf', 'page_number': 15, 'category': 'NarrativeText'}\n",
      "page_content='This course is cross-listed and the prefixes carry the following divisional credit:' metadata={'source': './csci.pdf', 'filename': './csci.pdf', 'page_number': 15, 'category': 'NarrativeText'}\n",
      "page_content='LEC Section: 01 TF 1:10 pm - 2:25 pm Iris Howley' metadata={'source': './csci.pdf', 'filename': './csci.pdf', 'page_number': 15, 'category': 'NarrativeText'}\n",
      "page_content='Does X cause Y? If so, how? And what is the strength of this causal relation? Seeking answers to such causal (as opposed to associational) is a fundamental human endeavor; the answers we find can be used to support decision-making in various settings such as healthcare and public' metadata={'source': './csci.pdf', 'filename': './csci.pdf', 'page_number': 15, 'category': 'NarrativeText'}\n",
      "page_content='causation.\" In this course, we will re-examine this phrase and learn how to reason with confidence about the validity of causal conclusions drawn from messy real-world data. We will cover core topics in causal inference including causal graphical models, unsupervised learning of the structure of these models, expression of causal quantities as functions of observed data, and robust/efficient estimation of these quantities using statistical and machine learning methods. Concepts in the course will be contextualized via regular case studies.' metadata={'source': './csci.pdf', 'filename': './csci.pdf', 'page_number': 16, 'category': 'NarrativeText'}\n",
      "page_content='Requirements/Evaluation: Problem sets, programming exercises, empirical analyses, case studies, and a final project.' metadata={'source': './csci.pdf', 'filename': './csci.pdf', 'page_number': 16, 'category': 'NarrativeText'}\n",
      "page_content='Prerequisites: CSCI 136, and either CSCI 256 or STAT' metadata={'source': './csci.pdf', 'filename': './csci.pdf', 'page_number': 16, 'category': 'NarrativeText'}\n",
      "page_content='Enrollment Preferences: Computer science majors and prospective majors.' metadata={'source': './csci.pdf', 'filename': './csci.pdf', 'page_number': 16, 'category': 'NarrativeText'}\n",
      "page_content='Quantative/Formal Reasoning Notes: This course heavily relies on discrete mathematics, algorithms, and elementary statistics. There will be regular assignments requiring rigorous quantitative or formal reasoning.' metadata={'source': './csci.pdf', 'filename': './csci.pdf', 'page_number': 16, 'category': 'NarrativeText'}\n",
      "page_content='assignments requiring rigorous quantitative or formal reasoning.' metadata={'source': './csci.pdf', 'filename': './csci.pdf', 'page_number': 16, 'category': 'NarrativeText'}\n",
      "page_content='Attributes: COGS Interdepartmental Electives' metadata={'source': './csci.pdf', 'filename': './csci.pdf', 'page_number': 16, 'category': 'NarrativeText'}\n",
      "page_content='LEC Section: 01 MR 1:10 pm - 2:25 pm Rohit Bhattacharya' metadata={'source': './csci.pdf', 'filename': './csci.pdf', 'page_number': 16, 'category': 'NarrativeText'}\n",
      "page_content='This course is an introduction to deep neural networks and how to train them. Beginning with the fundamentals of regression and optimization, the course then surveys a variety of neural network architectures, which may include multilayer feedforward neural networks, convolutional neural networks, recurrent neural networks, and transformer networks. Students will also learn how to use deep learning software such as PyTorch or Tensorflow.' metadata={'source': './csci.pdf', 'filename': './csci.pdf', 'page_number': 16, 'category': 'NarrativeText'}\n",
      "page_content='Requirements/Evaluation: Evaluation based on assignments, projects, and exams.' metadata={'source': './csci.pdf', 'filename': './csci.pdf', 'page_number': 16, 'category': 'NarrativeText'}\n",
      "page_content='Prerequisites: CSCI 136 and fulfillment of the Discrete Mathematics Proficiency requirement' metadata={'source': './csci.pdf', 'filename': './csci.pdf', 'page_number': 16, 'category': 'NarrativeText'}\n",
      "page_content='Enrollment Preferences: Current or expected Computer Science majors' metadata={'source': './csci.pdf', 'filename': './csci.pdf', 'page_number': 16, 'category': 'NarrativeText'}\n",
      "page_content='Reasoning Notes: The course will consist of programming assignments and problem sets in which quantitative/formal are practiced and evaluated.' metadata={'source': './csci.pdf', 'filename': './csci.pdf', 'page_number': 16, 'category': 'NarrativeText'}\n",
      "page_content='skills are practiced and evaluated.' metadata={'source': './csci.pdf', 'filename': './csci.pdf', 'page_number': 16, 'category': 'NarrativeText'}\n",
      "page_content='Spring 2024' metadata={'source': './csci.pdf', 'filename': './csci.pdf', 'page_number': 16, 'category': 'Title'}\n",
      "page_content='CSCI 397 (F) Independent Reading: Computer Science' metadata={'source': './csci.pdf', 'filename': './csci.pdf', 'page_number': 16, 'category': 'NarrativeText'}\n",
      "page_content='Directed independent reading in Computer Science.' metadata={'source': './csci.pdf', 'filename': './csci.pdf', 'page_number': 16, 'category': 'NarrativeText'}\n",
      "page_content='Requirements/Evaluation: To be determined by supervising faculty member.' metadata={'source': './csci.pdf', 'filename': './csci.pdf', 'page_number': 16, 'category': 'NarrativeText'}\n",
      "page_content='Prerequisites: permission of department' metadata={'source': './csci.pdf', 'filename': './csci.pdf', 'page_number': 16, 'category': 'NarrativeText'}\n",
      "page_content='Fall 2023' metadata={'source': './csci.pdf', 'filename': './csci.pdf', 'page_number': 17, 'category': 'Title'}\n",
      "page_content='Directed independent reading in Computer Science.' metadata={'source': './csci.pdf', 'filename': './csci.pdf', 'page_number': 17, 'category': 'NarrativeText'}\n",
      "page_content='Requirements/Evaluation: To be determined by supervising faculty member.' metadata={'source': './csci.pdf', 'filename': './csci.pdf', 'page_number': 17, 'category': 'NarrativeText'}\n",
      "page_content='Prerequisites: permission of department' metadata={'source': './csci.pdf', 'filename': './csci.pdf', 'page_number': 17, 'category': 'NarrativeText'}\n",
      "page_content='This course explores the design and implementation of computer operating systems. Topics include historical aspects of operating systems development, systems programming, process scheduling, synchronization of concurrent processes, virtual machines, memory management virtual memory, I/O and file systems, system security, os/architecture interaction, and distributed operating systems.' metadata={'source': './csci.pdf', 'filename': './csci.pdf', 'page_number': 17, 'category': 'NarrativeText'}\n",
      "page_content='Enrollment Preferences: current or expected Computer Science majors' metadata={'source': './csci.pdf', 'filename': './csci.pdf', 'page_number': 17, 'category': 'NarrativeText'}\n",
      "page_content='Quantative/Formal Reasoning Notes: The course will consist of substantial problem sets and/or programming assignments in quantitative/formal reasoning skills are practiced and evaluated.' metadata={'source': './csci.pdf', 'filename': './csci.pdf', 'page_number': 17, 'category': 'NarrativeText'}\n",
      "page_content='LEC Section: 01 TR 9:55 am - 11:10 am Jeannie R Albrecht' metadata={'source': './csci.pdf', 'filename': './csci.pdf', 'page_number': 17, 'category': 'NarrativeText'}\n",
      "page_content='Cross-listings: MATH 441 CSCI 441 STAT 441' metadata={'source': './csci.pdf', 'filename': './csci.pdf', 'page_number': 17, 'category': 'NarrativeText'}\n",
      "page_content=\"What is information? And how do we communicate information effectively? This course will introduce students to the fundamental ideas of Information Theory including entropy, communication channels, mutual information, and Kolmogorov complexity. These ideas have surprising connections to a fields as diverse as physics (statistical mechanics, thermodynamics), mathematics (ergodic theory and number theory), statistics and machine learning (Fisher information, Occam's razor), and electrical engineering (communication theory).\" metadata={'source': './csci.pdf', 'filename': './csci.pdf', 'page_number': 17, 'category': 'NarrativeText'}\n",
      "page_content='Requirements/Evaluation: Weekly homeworks, midterm(s), final exam.' metadata={'source': './csci.pdf', 'filename': './csci.pdf', 'page_number': 17, 'category': 'NarrativeText'}\n",
      "page_content='Prerequisites: Math/Stat 341; Math 150 or 151; or permission of instructor.' metadata={'source': './csci.pdf', 'filename': './csci.pdf', 'page_number': 17, 'category': 'NarrativeText'}\n",
      "page_content='This course is cross-listed and the prefixes carry the following divisional' metadata={'source': './csci.pdf', 'filename': './csci.pdf', 'page_number': 18, 'category': 'NarrativeText'}\n",
      "page_content='Not offered current academic year' metadata={'source': './csci.pdf', 'filename': './csci.pdf', 'page_number': 18, 'category': 'NarrativeText'}\n",
      "page_content='This course provides highly-motivated students an opportunity to work independently with faculty on research topics chosen by individual faculty. Students are generally expected to perform a literature review, identify areas of potential contribution, and explore extensions to existing results. The course culminates in a concise, well-written report describing a problem, its background history, any independent results achieved, and directions for' metadata={'source': './csci.pdf', 'filename': './csci.pdf', 'page_number': 18, 'category': 'NarrativeText'}\n",
      "page_content='Requirements/Evaluation: class participation, presentations, and the final written report' metadata={'source': './csci.pdf', 'filename': './csci.pdf', 'page_number': 18, 'category': 'NarrativeText'}\n",
      "page_content='CSCI 494 (S) Senior Thesis: Computer Science' metadata={'source': './csci.pdf', 'filename': './csci.pdf', 'page_number': 18, 'category': 'NarrativeText'}\n",
      "page_content='Computer Science thesis; this is part of a full-year thesis (493-494).' metadata={'source': './csci.pdf', 'filename': './csci.pdf', 'page_number': 18, 'category': 'NarrativeText'}\n",
      "page_content='Requirements/Evaluation: class participation, presentations, and the final written report' metadata={'source': './csci.pdf', 'filename': './csci.pdf', 'page_number': 18, 'category': 'NarrativeText'}\n",
      "page_content='Enrollment Preferences: open to senior Computer Science majors with permission of instructor' metadata={'source': './csci.pdf', 'filename': './csci.pdf', 'page_number': 18, 'category': 'NarrativeText'}\n",
      "page_content='CSCI 497 (F) Independent Reading: Computer Science' metadata={'source': './csci.pdf', 'filename': './csci.pdf', 'page_number': 18, 'category': 'NarrativeText'}\n",
      "page_content='Directed independent reading in Computer Science.' metadata={'source': './csci.pdf', 'filename': './csci.pdf', 'page_number': 18, 'category': 'NarrativeText'}\n",
      "page_content='Requirements/Evaluation: To be determined by supervising faculty member.' metadata={'source': './csci.pdf', 'filename': './csci.pdf', 'page_number': 18, 'category': 'NarrativeText'}\n",
      "page_content='Prerequisites: permission of department' metadata={'source': './csci.pdf', 'filename': './csci.pdf', 'page_number': 18, 'category': 'NarrativeText'}\n",
      "page_content='Enrollment Limit: none' metadata={'source': './csci.pdf', 'filename': './csci.pdf', 'page_number': 18, 'category': 'NarrativeText'}\n",
      "page_content='CSCI 498 (S) Independent Reading: Computer Science' metadata={'source': './csci.pdf', 'filename': './csci.pdf', 'page_number': 19, 'category': 'NarrativeText'}\n",
      "page_content='Directed independent reading in Computer Science.' metadata={'source': './csci.pdf', 'filename': './csci.pdf', 'page_number': 19, 'category': 'NarrativeText'}\n",
      "page_content='Requirements/Evaluation: To be determined by supervising faculty member.' metadata={'source': './csci.pdf', 'filename': './csci.pdf', 'page_number': 19, 'category': 'NarrativeText'}\n",
      "page_content='Prerequisites: permission of department' metadata={'source': './csci.pdf', 'filename': './csci.pdf', 'page_number': 19, 'category': 'NarrativeText'}\n",
      "page_content='Winter Study ----------------------------------------------------------------------------' metadata={'source': './csci.pdf', 'filename': './csci.pdf', 'page_number': 19, 'category': 'NarrativeText'}\n",
      "page_content=\"course serves as a guided introduction to the Unix operating system and a variety of software tools. Students in this course will work on Unix available in the Department's laboratory. By the end of the course, students will be familiar with Unix and will be able to use Git as a tool. As a final project, students will work together in teams to explore an API of their choice. The exact topics to be covered may vary upon the needs and desires of the students. The course is designed for individuals who understand basic program development discussed in an introductory programming course (Computer Science 134 or equivalent), but who wish to become familiar with a broader variety of systems and programming languages. This course is not intended for students who have completed a course at the 200 level or above.\" metadata={'source': './csci.pdf', 'filename': './csci.pdf', 'page_number': 19, 'category': 'NarrativeText'}\n",
      "page_content='Requirements/Evaluation: final project or presentation' metadata={'source': './csci.pdf', 'filename': './csci.pdf', 'page_number': 19, 'category': 'NarrativeText'}\n",
      "page_content='Unit Notes: Lida graduated from Williams in 2002 as a double major in CS and Psych. She returned in 2014 and spent 4 years working in Relations before joining the staff of the CS Dept in 2019 where she provides instruction support for the intro classes.' metadata={'source': './csci.pdf', 'filename': './csci.pdf', 'page_number': 19, 'category': 'NarrativeText'}\n",
      "page_content='Attributes: EXPE Experiential Education Courses STUX Winter Study Student Exploration' metadata={'source': './csci.pdf', 'filename': './csci.pdf', 'page_number': 19, 'category': 'NarrativeText'}\n",
      "page_content='Not offered current academic year' metadata={'source': './csci.pdf', 'filename': './csci.pdf', 'page_number': 19, 'category': 'NarrativeText'}\n",
      "page_content='CSCI 13 (W) Designing for People' metadata={'source': './csci.pdf', 'filename': './csci.pdf', 'page_number': 19, 'category': 'Title'}\n",
      "page_content='Many innovative products and entrepreneurial endeavors fail because they are not sensitive to the attitudes and behaviors of the people who interact with them. The fields of Human Factors and Design Thinking combine aspects of psychology with software development, behavioral economics, architecture, and other fields, to create products and processes that provide an easy, enjoyable, efficient and safe user experience. The course will provide students with a theoretical framework for analyzing usability, as well as practical experience with iterative design techniques, prototyping, and' metadata={'source': './csci.pdf', 'filename': './csci.pdf', 'page_number': 19, 'category': 'NarrativeText'}\n",
      "page_content='Requirements/Evaluation: final project or presentation' metadata={'source': './csci.pdf', 'filename': './csci.pdf', 'page_number': 20, 'category': 'NarrativeText'}\n",
      "page_content='Enrollment Preferences: instructor seeks a diverse group of students with interests in design, psychology, human-computer interaction, and other' metadata={'source': './csci.pdf', 'filename': './csci.pdf', 'page_number': 20, 'category': 'NarrativeText'}\n",
      "page_content='Expected Class Size: NA' metadata={'source': './csci.pdf', 'filename': './csci.pdf', 'page_number': 20, 'category': 'NarrativeText'}\n",
      "page_content=\"Unit Notes: Rich Cohen '82 has designed communications, social networking and education applications used by over 100 million people and has conducted usability research on five continents.\" metadata={'source': './csci.pdf', 'filename': './csci.pdf', 'page_number': 20, 'category': 'NarrativeText'}\n",
      "page_content='Attributes: EXPE Experiential Education Courses STUX Winter Study Student Exploration' metadata={'source': './csci.pdf', 'filename': './csci.pdf', 'page_number': 20, 'category': 'NarrativeText'}\n",
      "page_content='Not offered current academic year' metadata={'source': './csci.pdf', 'filename': './csci.pdf', 'page_number': 20, 'category': 'Title'}\n",
      "page_content='This course introduces students to the research process in Computer Science. Students will learn how to find and critically read research papers, formulate and describe a research problem, propose a solution to that problem, and design an evaluation plan for assessing the effectiveness of proposed solution. Students will learn about the general research framework through readings, videos, in-class activities, and class discussions. Throughout the course, students will apply those general research methods to a research question in an area of their choice (e.g., machine algorithms, parallel architecture, etc.), working in groups of up to three students. Each group will create a written research project proposal that includes a description of the research context and the specific problem to be solved with appropriate related work citations, a description of the proposed solution or approach, and a plan for evaluating the proposed solution. Assessment will be based on a written project proposal and an' metadata={'source': './csci.pdf', 'filename': './csci.pdf', 'page_number': 20, 'category': 'NarrativeText'}\n",
      "page_content='Attributes: EXPE Experiential Education Courses' metadata={'source': './csci.pdf', 'filename': './csci.pdf', 'page_number': 20, 'category': 'NarrativeText'}\n",
      "page_content='CSCI 23 (W) Research and Development in Computing' metadata={'source': './csci.pdf', 'filename': './csci.pdf', 'page_number': 20, 'category': 'Title'}\n",
      "page_content=\"An independent project is completed in collaboration with a member of the Computer Science Department. The projects undertaken will either involve the exploration of a research topic related to the faculty member's work or the implementation of a software system that will extend the students and implementation skills. It is expected that the student will spend 20 hours per week working on the project. At the completion of the project, each student will submit a 10-page written report or the software developed together with appropriate documentation of its behavior and design. In students will be expected to give a short presentation or demonstration of their work. Prior to the beginning of the Winter Study registration period, student interested in enrolling must have arranged with a faculty member in the department to serve as their supervisor for the course.\" metadata={'source': './csci.pdf', 'filename': './csci.pdf', 'page_number': 20, 'category': 'NarrativeText'}\n",
      "page_content='Requirements/Evaluation: short paper and final project or presentation' metadata={'source': './csci.pdf', 'filename': './csci.pdf', 'page_number': 20, 'category': 'NarrativeText'}\n",
      "page_content='Prerequisites: project must be pre-approved by the faculty' metadata={'source': './csci.pdf', 'filename': './csci.pdf', 'page_number': 20, 'category': 'NarrativeText'}\n",
      "page_content='Attributes: EXPE Experiential Education Courses STUX Winter Study Student Exploration' metadata={'source': './csci.pdf', 'filename': './csci.pdf', 'page_number': 20, 'category': 'NarrativeText'}\n",
      "page_content='Cross-listings: ECON 28 CSCI 28' metadata={'source': './csci.pdf', 'filename': './csci.pdf', 'page_number': 21, 'category': 'Title'}\n",
      "page_content='Secondary Cross-listing' metadata={'source': './csci.pdf', 'filename': './csci.pdf', 'page_number': 21, 'category': 'Title'}\n",
      "page_content='In this course, students will work in small teams to design a software product that solves a problem of their choosing. To support this endeavor, we examine, critique, and apply methodologies intended to solve these problems, including those developed by Marty Cagan, Steve Blank, Don Steve Krug and Eric Ries. Students will learn to act as effective product managers, achieving alignment between business, technology, and UI/UX design. Such alignment is crucial given that technology projects often fail not because of the quality of technical engineering but due to these three areas. Google Glass failed to account for its price tag, fashion, and the privacy panic. The initial Obamacare website failed to address management issues and predict the volume of website visitors. Flexcube failed to update and incorporate users into the design of their product, resulting in a $500 M UX mistake for Citi bank. These organizations did not identify the right problem, or did not build the right solution. The conflict is IT teams like to be told what to build, but users often do not know what they want or how to express it. We will learn how product' metadata={'source': './csci.pdf', 'filename': './csci.pdf', 'page_number': 21, 'category': 'NarrativeText'}\n",
      "page_content='and their interdisciplinary teams can bridge that gap.' metadata={'source': './csci.pdf', 'filename': './csci.pdf', 'page_number': 21, 'category': 'NarrativeText'}\n",
      "page_content='Requirements/Evaluation: final project or presentation' metadata={'source': './csci.pdf', 'filename': './csci.pdf', 'page_number': 21, 'category': 'NarrativeText'}\n",
      "page_content=\"Unit Notes: Allan joined DataArt in 2014 through the acquisition of AW Systems, where he was a founding partner, and instrumental in developing the Solution Design Framework Methodology, a process designed to guide large-scale/complex technology projects to success. Allan now heads DataArt's Solution Design consulting group as well as their product management competency.\" metadata={'source': './csci.pdf', 'filename': './csci.pdf', 'page_number': 21, 'category': 'NarrativeText'}\n",
      "page_content='This course is cross-listed and the prefixes carry the following divisional credit:' metadata={'source': './csci.pdf', 'filename': './csci.pdf', 'page_number': 21, 'category': 'NarrativeText'}\n",
      "page_content='ECON 28 CSCI 28' metadata={'source': './csci.pdf', 'filename': './csci.pdf', 'page_number': 21, 'category': 'Title'}\n",
      "page_content='Attributes: EXPE Experiential Education Courses' metadata={'source': './csci.pdf', 'filename': './csci.pdf', 'page_number': 21, 'category': 'NarrativeText'}\n",
      "page_content='Not offered current academic year' metadata={'source': './csci.pdf', 'filename': './csci.pdf', 'page_number': 21, 'category': 'NarrativeText'}\n",
      "page_content='To be taken by students registered for Computer Science 493-494.' metadata={'source': './csci.pdf', 'filename': './csci.pdf', 'page_number': 21, 'category': 'NarrativeText'}\n",
      "page_content='Class Format: independent study' metadata={'source': './csci.pdf', 'filename': './csci.pdf', 'page_number': 21, 'category': 'NarrativeText'}\n",
      "page_content='Open to upperclass students. Students interested in doing an independent project (99) during Winter Study must make prior arrangements with faculty sponsor. The student and professor then complete the independent study proposal form available online. The deadline is typically in late September. Proposals are reviewed by the pertinent department and the Winter Study Committee. Students will be notified if their proposal is approved prior to the Winter Study registration period.' metadata={'source': './csci.pdf', 'filename': './csci.pdf', 'page_number': 21, 'category': 'NarrativeText'}\n",
      "page_content='approved prior to the Winter Study registration period.' metadata={'source': './csci.pdf', 'filename': './csci.pdf', 'page_number': 21, 'category': 'NarrativeText'}\n",
      "page_content='Class Format: independent study' metadata={'source': './csci.pdf', 'filename': './csci.pdf', 'page_number': 21, 'category': 'NarrativeText'}\n"
     ]
    }
   ],
   "source": [
    "docs = raw_documents\n",
    "print(len(docs))\n",
    "for i in range(len(docs)):\n",
    "    print(docs[i])\n",
    "    # print(docs[i].metadata['category'], docs[i].page_content)\n",
    "    \n",
    "# Merge NarrativeText up to some max length\n",
    "# Include previous title(s) before Narrative Text\n",
    "# Prob just the single prev title, but maybe multiple? Maybe use overlap?\n",
    "# Remove UncategorizedText?"
   ]
  },
  {
   "cell_type": "code",
   "execution_count": 13,
   "id": "2f4bf670",
   "metadata": {},
   "outputs": [],
   "source": [
    "def merge_narrative_text(raw_documents):\n",
    "    for doc in documents:\n",
    "        print(doc)"
   ]
  },
  {
   "cell_type": "code",
   "execution_count": 20,
   "id": "f05af957",
   "metadata": {},
   "outputs": [],
   "source": [
    "# merge_narrative_text(raw_documents)"
   ]
  },
  {
   "cell_type": "code",
   "execution_count": 21,
   "id": "e3ea9f64",
   "metadata": {},
   "outputs": [],
   "source": [
    "# Split text\n",
    "text_splitter = CharacterTextSplitter(chunk_size = 2000, chunk_overlap  = 200)\n",
    "documents = text_splitter.split_documents(raw_documents)"
   ]
  },
  {
   "cell_type": "code",
   "execution_count": 22,
   "id": "c57d8475",
   "metadata": {},
   "outputs": [
    {
     "data": {
      "text/plain": [
       "[Document(page_content='Daniel W. Barowy, Assistant Professor of Computer Science  James M. Bern, Assistant Professor of Computer Science  Rohit Bhattacharya, Assistant Professor of Computer Science  Stephen N. Freund, Chair and A. Barton Hepburn Professor of Computer Science  Mark Hopkins, Assistant Professor of Computer Science  Iris Howley, Assistant Professor of Computer Science  Bill K. Jannen, Assistant Professor of Computer Science  Katie A. Keith, Assistant Professor of Computer Science  Samuel M', metadata={'source': './csci.pdf', 'filename': './csci.pdf', 'page_number': 1, 'category': 'ListItem'}),\n",
       " Document(page_content='auley, Assistant Professor of Computer Science; on leave', metadata={'source': './csci.pdf', 'filename': './csci.pdf', 'page_number': 1, 'category': 'ListItem'}),\n",
       " Document(page_content='-', metadata={'source': './csci.pdf', 'filename': './csci.pdf', 'page_number': 1, 'category': 'ListItem'}),\n",
       " Document(page_content='Kelly A. Shaw, Professor of Computer Science  Shikha Singh, Assistant Professor of Computer Science; on leave', metadata={'source': './csci.pdf', 'filename': './csci.pdf', 'page_number': 1, 'category': 'ListItem'}),\n",
       " Document(page_content='-', metadata={'source': './csci.pdf', 'filename': './csci.pdf', 'page_number': 1, 'category': 'ListItem'}),\n",
       " Document(page_content='Aaron M. Williams, Associate Professor of Computer Science; on leave Spring', metadata={'source': './csci.pdf', 'filename': './csci.pdf', 'page_number': 1, 'category': 'ListItem'}),\n",
       " Document(page_content='Computers and computation are pervasive in our society. They play enormously important roles in areas as diverse as education, science, business, and the arts. Understanding the nature of computation and exploring the great potential of computers are the goals of the discipline of computer science. A sample of the areas of research investigated by the Williams Department of Computer Science alone illustrates the vast range topics that are of interest to computer scientists and computing professionals today. This includes: the use of computer-generated graphic images in the arts and as a tool for visualization in the sciences and other areas; the protocols that make transmission of information over the Internet possible; the design of revolutionary new computer languages that simplify the process of constructing complex programs for computers; the development of machine learning algorithms that can extract useful and even novel information from data that is too complex for humans to analyze; algorithms that can solve problems that were previously too hard to solve in a reasonable amount of time, just by giving up a little bit of optimality in the solution; the investigation of machine architectures and specific hardware aimed at making computing fast.', metadata={'source': './csci.pdf', 'filename': './csci.pdf', 'page_number': 1, 'category': 'NarrativeText'}),\n",
       " Document(page_content='The department recognizes that students’ interests in computer science will vary widely. The department attempts to meet these varying interests through: (1) the major; (2) a selection of courses intended for those who are interested primarily in an introduction to computer science; (3) recommended course sequences for the non-major who wants a more extensive introduction to computer science in general or who seeks to develop some specific expertise in computing for application in some other discipline.', metadata={'source': './csci.pdf', 'filename': './csci.pdf', 'page_number': 1, 'category': 'NarrativeText'}),\n",
       " Document(page_content='MAJOR', metadata={'source': './csci.pdf', 'filename': './csci.pdf', 'page_number': 1, 'category': 'Title'}),\n",
       " Document(page_content='The goal of the major is to provide an understanding of algorithmic problem solving as well as the conceptual organization of computers complex programs running on them. Emphasis is placed on the fundamental principles of computer science, building upon the mathematical theoretical ideas underlying these principles. The introductory and core courses build a broad and solid base for understanding computer more advanced courses allow students to sample a variety of specialized areas including graphics, artificial intelligence, computer networks, compiler design, human computer interaction, distributed systems, and operating systems. Independent study and honors work opportunities for students to study and conduct research on topics of special interest.', metadata={'source': './csci.pdf', 'filename': './csci.pdf', 'page_number': 1, 'category': 'NarrativeText'}),\n",
       " Document(page_content='MAJOR REQUIREMENTS', metadata={'source': './csci.pdf', 'filename': './csci.pdf', 'page_number': 1, 'category': 'Title'}),\n",
       " Document(page_content='A minimum of 8 courses is required in Computer Science, including the following:', metadata={'source': './csci.pdf', 'filename': './csci.pdf', 'page_number': 1, 'category': 'NarrativeText'}),\n",
       " Document(page_content='Computer Science 134 Introduction to Computer Science', metadata={'source': './csci.pdf', 'filename': './csci.pdf', 'page_number': 1, 'category': 'NarrativeText'}),\n",
       " Document(page_content='Computer Science', metadata={'source': './csci.pdf', 'filename': './csci.pdf', 'page_number': 2, 'category': 'ListItem'}),\n",
       " Document(page_content='Computer Organization Computer Science', metadata={'source': './csci.pdf', 'filename': './csci.pdf', 'page_number': 2, 'category': 'ListItem'}),\n",
       " Document(page_content='Algorithm Design and Analysis Computer Science', metadata={'source': './csci.pdf', 'filename': './csci.pdf', 'page_number': 2, 'category': 'ListItem'}),\n",
       " Document(page_content='Principles of Programming Computer Science', metadata={'source': './csci.pdf', 'filename': './csci.pdf', 'page_number': 2, 'category': 'ListItem'}),\n",
       " Document(page_content='Theory of Computation', metadata={'source': './csci.pdf', 'filename': './csci.pdf', 'page_number': 2, 'category': 'ListItem'}),\n",
       " Document(page_content='Elective Courses', metadata={'source': './csci.pdf', 'filename': './csci.pdf', 'page_number': 2, 'category': 'Title'}),\n",
       " Document(page_content='Two or more electives (bringing the total number of Computer Science courses to at least 8) chosen from 300- or 400-level courses in Computer Science. Computer Science courses with 9 as the middle digit (reading, research, and thesis courses) will normally not be used to satisfy the elective requirements. Students may petition the department to waive this restriction with good reason.', metadata={'source': './csci.pdf', 'filename': './csci.pdf', 'page_number': 2, 'category': 'NarrativeText'}),\n",
       " Document(page_content='Any Mathematics or Statistics course at the 200-level or higher except for MATH 200', metadata={'source': './csci.pdf', 'filename': './csci.pdf', 'page_number': 2, 'category': 'NarrativeText'}),\n",
       " Document(page_content='Students must demonstrate proficiency in discrete mathematics by either passing the departmental Discrete Mathematics Proficiency Exam or by earning a grade of C- or better in MATH 200. This requirement must be met by the end of the sophomore year.', metadata={'source': './csci.pdf', 'filename': './csci.pdf', 'page_number': 2, 'category': 'NarrativeText'}),\n",
       " Document(page_content='To be eligible for admission to the major, a student must have completed at least two Computer Science courses, including Computer Science 136, as well as fulfilled the Discrete Mathematics Proficiency Requirement by the end of the sophomore year. A Mathematics course at the 200-level or higher (except for MATH 200) must be completed by the end of the junior year. Students are urged to have completed two of the four core courses (Computer Science 237, 256, 334, and 361) by the end of the sophomore year and must normally have completed at least three out of the four core courses by the end of the junior year.', metadata={'source': './csci.pdf', 'filename': './csci.pdf', 'page_number': 2, 'category': 'NarrativeText'}),\n",
       " Document(page_content='We encourage students to be intellectually engaged in our field beyond the formal structure of courses. As such, all computer science majors must attend at least twenty Computer Science colloquia. Juniors and seniors are encouraged to attend at least five during each semester they are present on campus. Prospective majors in their first and second years are also encouraged to attend. A student studying away on a program approved by the International Education and Study Away Office will receive four colloquium credits for each semester away, up to a total of eight credits.', metadata={'source': './csci.pdf', 'filename': './csci.pdf', 'page_number': 2, 'category': 'NarrativeText'}),\n",
       " Document(page_content='With the advance permission of the department, two appropriate mathematics or statistics courses may be substituted for one Computer Science elective. Appropriate mathematics classes are those numbered 300 or above, and appropriate statistics courses are those numbered 200 or above. Other variations in the required courses, adapting the requirements to the special needs and interests of the individual student, may be arranged in consultation with the department.', metadata={'source': './csci.pdf', 'filename': './csci.pdf', 'page_number': 2, 'category': 'NarrativeText'}),\n",
       " Document(page_content='consultation with the department.', metadata={'source': './csci.pdf', 'filename': './csci.pdf', 'page_number': 2, 'category': 'NarrativeText'}),\n",
       " Document(page_content='LABORATORY FACILITIES', metadata={'source': './csci.pdf', 'filename': './csci.pdf', 'page_number': 2, 'category': 'Title'}),\n",
       " Document(page_content='The Computer Science Department maintains five departmental computer laboratories for students taking Computer Science courses, as well as a lab that can be configured for teaching specialized topics such as robotics. The workstations in these laboratories also support student and faculty research in computer science.', metadata={'source': './csci.pdf', 'filename': './csci.pdf', 'page_number': 2, 'category': 'NarrativeText'}),\n",
       " Document(page_content='THE DEGREE WITH HONORS IN COMPUTER SCIENCE', metadata={'source': './csci.pdf', 'filename': './csci.pdf', 'page_number': 2, 'category': 'Title'}),\n",
       " Document(page_content='The degree with honors in Computer Science is awarded to students who have demonstrated outstanding intellectual achievement in study extending beyond the requirements of the regular major. The principal considerations in recommending a student for the degree be: mastery of core material, ability to pursue independent study of computer science, originality in methods of investigation, and creativity Honors study is highly recommended for those students with strong academic records in computer science who wish to attend graduate pursue high-level industrial positions in computing, or who would simply like to experience research in computer science.', metadata={'source': './csci.pdf', 'filename': './csci.pdf', 'page_number': 2, 'category': 'NarrativeText'}),\n",
       " Document(page_content='INTRODUCTORY COURSES', metadata={'source': './csci.pdf', 'filename': './csci.pdf', 'page_number': 3, 'category': 'Title'}),\n",
       " Document(page_content='Computer Science 134 provides an introduction to computer science with a focus on developing computer programming skills. These skills are essential to most upper-level courses in the department. As a result, Computer Science 134 together with Computer Science 136, are required as a prerequisite to most advanced courses in the department. Those students intending to take several Computer Science courses are urged to take 134', metadata={'source': './csci.pdf', 'filename': './csci.pdf', 'page_number': 3, 'category': 'NarrativeText'}),\n",
       " Document(page_content='Introduction to Computer Science covers fundamental concepts in the design, implementation and testing of computer programs including loops, conditionals, functions, elementary data types and recursion. There is a strong focus on constructing correct, understandable and efficient programs in a structured language such as Java or Python.', metadata={'source': './csci.pdf', 'filename': './csci.pdf', 'page_number': 3, 'category': 'NarrativeText'}),\n",
       " Document(page_content='STUDY ABROAD', metadata={'source': './csci.pdf', 'filename': './csci.pdf', 'page_number': 3, 'category': 'Title'}),\n",
       " Document(page_content='Study abroad can be a wonderful experience. Students who hope to take computer science courses while abroad should discuss their plans in advance with the chair of the department or the departmental study away advisor. Students who plan to study away but do not expect to take courses toward the major should work with the department to create a plan to ensure that they will be able to complete the major. While study abroad is generally not an impediment to completing the major, students should be aware that certain computer science courses must be taken in a particular sequence and that not all courses are offered every semester (or every year). Students who wish to discuss their plans are invited to meet with any of', metadata={'source': './csci.pdf', 'filename': './csci.pdf', 'page_number': 3, 'category': 'NarrativeText'}),\n",
       " Document(page_content='the faculty in Computer', metadata={'source': './csci.pdf', 'filename': './csci.pdf', 'page_number': 3, 'category': 'NarrativeText'}),\n",
       " Document(page_content='The faculty in Computer Science believes that students can substantially enrich their academic experience by completing a coherent plan of study in one or more disciplines outside of their majors. With this in mind, we have attempted to provide students majoring in other departments with options in our department’s curriculum ranging from two-course sequences to collections of courses equivalent to what would constitute a minor at institutions that recognize such a concentration. Students interested in designing such a plan of study are invited to discuss their plans in detail with a member of', metadata={'source': './csci.pdf', 'filename': './csci.pdf', 'page_number': 4, 'category': 'NarrativeText'}),\n",
       " Document(page_content='Students seeking to develop an extensive knowledge of computer science without majoring in the department are encouraged to use the major requirements as a guide. In particular, the four core courses required of majors are intended to provide a broad knowledge of topics underlying all of computer science. Students seeking a concentration in Computer Science are urged to complete at least two of these courses followed by one of our upper-level electives. Such a program would typically require the completion of a total of five Computer Science courses in addition to the Discrete', metadata={'source': './csci.pdf', 'filename': './csci.pdf', 'page_number': 4, 'category': 'NarrativeText'}),\n",
       " Document(page_content='There are several sequences of courses appropriate for those primarily interested in developing skills in programming for use in other areas. For general programming, Computer Science 134 followed by 136 and 256 will provide students with a strong background in algorithm and data structure design together with an understanding of issues of correctness and efficiency. Students of the Bioinformatics program are encouraged to take Computer Science 134 at a minimum, and should also consider Computer Science 136 and 256. The sequence of courses Computer Science 109 134 would provide sufficient competence in computer graphics for many students interested in applying such knowledge either in the arts or', metadata={'source': './csci.pdf', 'filename': './csci.pdf', 'page_number': 4, 'category': 'NarrativeText'}),\n",
       " Document(page_content='All Computer Science courses may be used to satisfy the Division III distribution requirement.', metadata={'source': './csci.pdf', 'filename': './csci.pdf', 'page_number': 4, 'category': 'NarrativeText'}),\n",
       " Document(page_content='normally offered every', metadata={'source': './csci.pdf', 'filename': './csci.pdf', 'page_number': 4, 'category': 'NarrativeText'}),\n",
       " Document(page_content='The increase from 100, through 200 and 300, to 400 indicates in most instances an increasing level of maturity in the subject that is expected students. Within a series, numeric order does not indicate the relative level of difficulty of courses. Rather, the middle digit of the course number (particularly in upper-level courses) generally indicates the area of computer science covered by the course.', metadata={'source': './csci.pdf', 'filename': './csci.pdf', 'page_number': 4, 'category': 'NarrativeText'}),\n",
       " Document(page_content='Course Descriptions', metadata={'source': './csci.pdf', 'filename': './csci.pdf', 'page_number': 4, 'category': 'Title'}),\n",
       " Document(page_content='Brief descriptions of the courses in Computer Science can be found below. More detailed information on the offerings in the department available at http://www.cs.williams.edu/.', metadata={'source': './csci.pdf', 'filename': './csci.pdf', 'page_number': 4, 'category': 'NarrativeText'}),\n",
       " Document(page_content='available at http://www.cs.williams.edu/.', metadata={'source': './csci.pdf', 'filename': './csci.pdf', 'page_number': 4, 'category': 'NarrativeText'}),\n",
       " Document(page_content='With the permission of the department, any course offered by the department may be taken pass-fail (with the exception of tutorials), though courses graded with the pass-fail option may not be used to satisfy any of the major or honors requirements. However, with the permission of the department, courses taken in the department beyond those requirements may be taken on a pass-fail basis.', metadata={'source': './csci.pdf', 'filename': './csci.pdf', 'page_number': 4, 'category': 'NarrativeText'}),\n",
       " Document(page_content=\"Digital data is being infused throughout the entire physical world, escaping the computer monitor and spreading to other devices and including the human body. Electronic textiles, or eTextiles, is one of the next steps toward making everything interactive and this introduce learners to the first steps of developing their own wearable interactive technology devices. After completing a series of projects to gain practice in necessary sewing, circuitry, and programming skills, students will propose and design their own eTextiles eventually implementing them with sewable Arduino components, and other found electronic components as needed. The scope of the depend on the individual's prior background, but can include everything from a sweatshirt with light-up turn signals for bicycling, to a displays the current air quality of the room, to a stuffed animal that plays a tune when the lights go on, to whatever project you can accomplish with sewable Arduino inputs, outputs, and development board in a semester context. This class will introduce students to computer programming, circuitry, and sewing with the goal of creating novel wearable artifacts that interact with the world.\", metadata={'source': './csci.pdf', 'filename': './csci.pdf', 'page_number': 5, 'category': 'NarrativeText'}),\n",
       " Document(page_content='Class Format: interspersed with hands-on activities in a computer lab', metadata={'source': './csci.pdf', 'filename': './csci.pdf', 'page_number': 5, 'category': 'NarrativeText'}),\n",
       " Document(page_content='Requirements/Evaluation: weekly homework assignments and a final project', metadata={'source': './csci.pdf', 'filename': './csci.pdf', 'page_number': 5, 'category': 'NarrativeText'}),\n",
       " Document(page_content='Quantative/Formal Reasoning Notes: The course will teach students the basics of computer programming through projects in quantitative/formal reasoning skills are practiced and evaluated.', metadata={'source': './csci.pdf', 'filename': './csci.pdf', 'page_number': 5, 'category': 'NarrativeText'}),\n",
       " Document(page_content='quantitative/formal reasoning skills are practiced and evaluated.', metadata={'source': './csci.pdf', 'filename': './csci.pdf', 'page_number': 5, 'category': 'NarrativeText'}),\n",
       " Document(page_content='CSCI 104 (F) Data Science and Computing for All (QFR)', metadata={'source': './csci.pdf', 'filename': './csci.pdf', 'page_number': 5, 'category': 'Title'}),\n",
       " Document(page_content=\"Many of the world's greatest discoveries and most consequential decisions are enabled or informed by the analysis of data from a myriad of Indeed, the ability to wrangle, visualize, and draw conclusions from data is now a critical tool in the sciences, business, medicine, politics, other academic disciplines, and society as a whole. This course lays the foundations for quantifying relationships in data by exploring complementary computational, statistical, and visualization concepts. These concepts will be reinforced by lab experiences designed to teach programming and statistics skills while analyzing real-world data sets. This course will also examine the broader context and social issues surrounding data analysis, including privacy and ethics.\", metadata={'source': './csci.pdf', 'filename': './csci.pdf', 'page_number': 5, 'category': 'NarrativeText'}),\n",
       " Document(page_content='Quantative/Formal Reasoning Notes: This course includes regular and substantial problem sets, labs, and/or projects in which reasoning skills are practiced and evaluated.', metadata={'source': './csci.pdf', 'filename': './csci.pdf', 'page_number': 5, 'category': 'NarrativeText'}),\n",
       " Document(page_content='LEC Section: 01 MWF 10:00 am - 10:50 am Stephen N. LEC Section: 02 MWF 11:00 am - 11:50 am Katie A. Keith LAB Section: 03 M 1:00 pm - 2:30 pm Stephen N. Freund LAB Section: 04 M 2:30 pm - 4:00 pm Stephen N. Freund LAB Section: 05 T 1:00 pm - 2:30 pm Katie A. Keith LAB Section: 06 T 2:30 pm - 4:00 pm Katie A. Keith', metadata={'source': './csci.pdf', 'filename': './csci.pdf', 'page_number': 6, 'category': 'FigureCaption'}),\n",
       " Document(page_content='CSCI 134 (F)(S) Introduction to Computer Science (QFR)', metadata={'source': './csci.pdf', 'filename': './csci.pdf', 'page_number': 6, 'category': 'Title'}),\n",
       " Document(page_content='course introduces students to the science of computation by exploring the representation and manipulation of data and algorithms. We transform information in order to solve problems using algorithms written in a modern object-oriented language. Topics include using objects and classes, and the description of processes using conditional control, iteration, methods and classes. We also begin self-reference, reuse, and performance analysis. While the choice of programming language and application area will vary in the skills students develop will transfer equally well to more advanced study in many areas. In particular, this course is designed programming skills needed for further study in computer science and is expected to satisfy introductory programming requirements in', metadata={'source': './csci.pdf', 'filename': './csci.pdf', 'page_number': 6, 'category': 'NarrativeText'}),\n",
       " Document(page_content='Enrollment Preferences: if the course is over-enrolled, enrollment will be determined by lottery.', metadata={'source': './csci.pdf', 'filename': './csci.pdf', 'page_number': 6, 'category': 'NarrativeText'}),\n",
       " Document(page_content='Quantative/Formal Reasoning Notes: This course includes regular and substantial problem sets, labs, and/or projects in which reasoning skills are practiced and evaluated.', metadata={'source': './csci.pdf', 'filename': './csci.pdf', 'page_number': 6, 'category': 'NarrativeText'}),\n",
       " Document(page_content='Attributes: COGS Interdepartmental Electives', metadata={'source': './csci.pdf', 'filename': './csci.pdf', 'page_number': 6, 'category': 'NarrativeText'}),\n",
       " Document(page_content='This course builds on the programming skills acquired in Computer Science 134. It couples work on program design, analysis, and verification with an introduction to the study of data structures. Data structures capture common ways in which to store and manipulate data, and they are important in the construction of sophisticated computer programs. Students are introduced to some of the most important and frequently used data structures: lists, stacks, queues, trees, hash tables, graphs, and files. Students will be expected to write several programs, ranging from very short programs to more elaborate systems. Emphasis will be placed on the development of clear, modular programs that are easy to read, debug, verify, analyze, and modify.', metadata={'source': './csci.pdf', 'filename': './csci.pdf', 'page_number': 7, 'category': 'NarrativeText'}),\n",
       " Document(page_content='Enrollment Preferences: if the course is over-enrolled, enrollment will be determined by lottery.', metadata={'source': './csci.pdf', 'filename': './csci.pdf', 'page_number': 7, 'category': 'NarrativeText'}),\n",
       " Document(page_content='Quantative/Formal Reasoning Notes: This course include regular and substantial problem sets, labs, and/or projects in which reasoning skills are practiced and evaluated.', metadata={'source': './csci.pdf', 'filename': './csci.pdf', 'page_number': 7, 'category': 'NarrativeText'}),\n",
       " Document(page_content='reasoning skills are practiced and evaluated.', metadata={'source': './csci.pdf', 'filename': './csci.pdf', 'page_number': 7, 'category': 'NarrativeText'}),\n",
       " Document(page_content='Attributes: BIGP Courses', metadata={'source': './csci.pdf', 'filename': './csci.pdf', 'page_number': 7, 'category': 'NarrativeText'}),\n",
       " Document(page_content='Fall 2023', metadata={'source': './csci.pdf', 'filename': './csci.pdf', 'page_number': 7, 'category': 'Title'}),\n",
       " Document(page_content='LEC Section: 01 MWF 9:00 am - 9:50 am James M. Bern LEC Section: 02 MWF 10:00 am - 10:50 am James M. Bern LAB Section: 03 W 1:00 pm - 2:30 pm James M. Bern LAB Section: 04 W 2:30 pm - 4:00 pm James M. Bern LAB Section: 05 R 1:00 pm - 2:30 pm James M. Bern LAB Section: 06 R 2:30 pm - 4:00 pm James M. Bern Spring 2024 LEC Section: 01 MWF 9:00 am - 9:50 am Katie A. Keith LEC Section: 02 MWF 10:00 am - 10:50 am Katie A. Keith LAB Section: 03 W 1:00 pm - 2:30 pm Katie A. Keith LAB Section: 04 W 2:30 pm - 4:00 pm Katie A. Keith LAB Section: 05 R 1:00 pm - 2:30 pm Katie A. Keith LAB Section: 06 R 2:30 pm - 4:00 pm Katie A. Keith', metadata={'source': './csci.pdf', 'filename': './csci.pdf', 'page_number': 7, 'category': 'FigureCaption'}),\n",
       " Document(page_content='CSCI 237 (F)(S) Computer Organization (QFR)', metadata={'source': './csci.pdf', 'filename': './csci.pdf', 'page_number': 7, 'category': 'Title'}),\n",
       " Document(page_content=\"This course studies the basic instruction set architecture and organization of a modern computer. It provides a programmer's view of how systems execute programs, store information, and communicate. Over the semester the student learns the fundamentals of translating higher level languages into assembly language, and the interpretation of machine languages by hardware. At the same time, a model of computer hardware organization is developed from the gate level upward.\", metadata={'source': './csci.pdf', 'filename': './csci.pdf', 'page_number': 7, 'category': 'NarrativeText'}),\n",
       " Document(page_content='Enrollment Preferences: current or expected Computer Science majors', metadata={'source': './csci.pdf', 'filename': './csci.pdf', 'page_number': 8, 'category': 'NarrativeText'}),\n",
       " Document(page_content='Expected Class Size: 24', metadata={'source': './csci.pdf', 'filename': './csci.pdf', 'page_number': 8, 'category': 'NarrativeText'}),\n",
       " Document(page_content='Quantative/Formal Reasoning Notes: The course will consist of programming assignments and problem sets in which quantitative/formal skills are practiced and evaluated.', metadata={'source': './csci.pdf', 'filename': './csci.pdf', 'page_number': 8, 'category': 'NarrativeText'}),\n",
       " Document(page_content='skills are practiced and evaluated.', metadata={'source': './csci.pdf', 'filename': './csci.pdf', 'page_number': 8, 'category': 'NarrativeText'}),\n",
       " Document(page_content='Fall 2023', metadata={'source': './csci.pdf', 'filename': './csci.pdf', 'page_number': 8, 'category': 'Title'}),\n",
       " Document(page_content='Section: 01 MWF 9:00 am - 9:50 am Bill K. Jannen Section: 02 MWF 11:00 am - 11:50 am Bill K. Jannen Section: 03 W 1:00 pm - 2:30 pm Bill K. Jannen Section: 04 W 2:30 pm - 4:00 pm Bill K. Jannen Section: 05 R 1:00 pm - 2:30 pm Bill K. Jannen Section: 06 R 2:30 pm - 4:00 pm Bill K. Jannen 2024 Section: 01 MWF 12:00 pm - 12:50 pm Jeannie R Section: 02 W 1:00 pm - 2:30 pm Jeannie R Albrecht Section: 03 R 1:00 pm - 2:30 pm Jeannie R Albrecht', metadata={'source': './csci.pdf', 'filename': './csci.pdf', 'page_number': 8, 'category': 'FigureCaption'}),\n",
       " Document(page_content='This course investigates methods for designing efficient and reliable algorithms. By carefully analyzing the structure of a problem within a mathematical framework, it is often possible to dramatically decrease the computational resources needed to find a solution. In addition, analysis provides a method for verifying the correctness of an algorithm and accurately estimating its running time and space requirements. We will study several algorithm design strategies that build on data structures and programming techniques introduced in Computer Science 136. These include greedy, divide-and-conquer, dynamic programming, and network flow algorithms. Additional topics of study include algorithms on graphs and strategies for handling potentially intractable problems.', metadata={'source': './csci.pdf', 'filename': './csci.pdf', 'page_number': 8, 'category': 'NarrativeText'}),\n",
       " Document(page_content='Requirements/Evaluation: Problem sets, midterm and final examinations', metadata={'source': './csci.pdf', 'filename': './csci.pdf', 'page_number': 8, 'category': 'NarrativeText'}),\n",
       " Document(page_content='Enrollment Preferences: Preference will be given to students who need the class in order to complete the major. Ties will be broken by seniority (seniors first, then juniors, etc.).', metadata={'source': './csci.pdf', 'filename': './csci.pdf', 'page_number': 8, 'category': 'NarrativeText'}),\n",
       " Document(page_content='Quantative/Formal Reasoning Notes: This course will have weekly problem sets in which students will formally prove statements about the and performance of algorithms. In short, the course is about applying abstract and mathematical reasoning to the study of algorithms and computation.', metadata={'source': './csci.pdf', 'filename': './csci.pdf', 'page_number': 8, 'category': 'NarrativeText'}),\n",
       " Document(page_content='LEC Section:', metadata={'source': './csci.pdf', 'filename': './csci.pdf', 'page_number': 8, 'category': 'ListItem'}),\n",
       " Document(page_content='MWF', metadata={'source': './csci.pdf', 'filename': './csci.pdf', 'page_number': 8, 'category': 'ListItem'}),\n",
       " Document(page_content=':', metadata={'source': './csci.pdf', 'filename': './csci.pdf', 'page_number': 8, 'category': 'ListItem'}),\n",
       " Document(page_content='pm -', metadata={'source': './csci.pdf', 'filename': './csci.pdf', 'page_number': 8, 'category': 'ListItem'}),\n",
       " Document(page_content=':', metadata={'source': './csci.pdf', 'filename': './csci.pdf', 'page_number': 8, 'category': 'ListItem'}),\n",
       " Document(page_content='pm Aaron M. Spring', metadata={'source': './csci.pdf', 'filename': './csci.pdf', 'page_number': 8, 'category': 'ListItem'}),\n",
       " Document(page_content='LEC Section:', metadata={'source': './csci.pdf', 'filename': './csci.pdf', 'page_number': 8, 'category': 'ListItem'}),\n",
       " Document(page_content='MR', metadata={'source': './csci.pdf', 'filename': './csci.pdf', 'page_number': 8, 'category': 'ListItem'}),\n",
       " Document(page_content=':', metadata={'source': './csci.pdf', 'filename': './csci.pdf', 'page_number': 8, 'category': 'ListItem'}),\n",
       " Document(page_content='pm -', metadata={'source': './csci.pdf', 'filename': './csci.pdf', 'page_number': 8, 'category': 'ListItem'}),\n",
       " Document(page_content=':', metadata={'source': './csci.pdf', 'filename': './csci.pdf', 'page_number': 8, 'category': 'ListItem'}),\n",
       " Document(page_content='pm Samuel M', metadata={'source': './csci.pdf', 'filename': './csci.pdf', 'page_number': 8, 'category': 'ListItem'}),\n",
       " Document(page_content='auley LEC Section:', metadata={'source': './csci.pdf', 'filename': './csci.pdf', 'page_number': 8, 'category': 'ListItem'}),\n",
       " Document(page_content='MR', metadata={'source': './csci.pdf', 'filename': './csci.pdf', 'page_number': 8, 'category': 'ListItem'}),\n",
       " Document(page_content=':', metadata={'source': './csci.pdf', 'filename': './csci.pdf', 'page_number': 8, 'category': 'ListItem'}),\n",
       " Document(page_content='pm -', metadata={'source': './csci.pdf', 'filename': './csci.pdf', 'page_number': 8, 'category': 'ListItem'}),\n",
       " Document(page_content=':', metadata={'source': './csci.pdf', 'filename': './csci.pdf', 'page_number': 8, 'category': 'ListItem'}),\n",
       " Document(page_content='pm Samuel M', metadata={'source': './csci.pdf', 'filename': './csci.pdf', 'page_number': 8, 'category': 'ListItem'}),\n",
       " Document(page_content='auley', metadata={'source': './csci.pdf', 'filename': './csci.pdf', 'page_number': 8, 'category': 'ListItem'}),\n",
       " Document(page_content='Cross-listings: PHYS 315 CSCI 315', metadata={'source': './csci.pdf', 'filename': './csci.pdf', 'page_number': 9, 'category': 'Title'}),\n",
       " Document(page_content='Secondary Cross-listing', metadata={'source': './csci.pdf', 'filename': './csci.pdf', 'page_number': 9, 'category': 'Title'}),\n",
       " Document(page_content='This course will provide an overview of Computational Biology, the application of computational, mathematical, statistical, and physical problem-solving techniques to interpret the rapidly expanding amount of biological data. Topics covered will include database searching, DNA sequence alignment, clustering, RNA structure prediction, protein structural alignment, methods of analyzing gene expression, networks, and assembly using techniques such as string matching, dynamic programming, hidden Markov models, and statistics.', metadata={'source': './csci.pdf', 'filename': './csci.pdf', 'page_number': 9, 'category': 'NarrativeText'}),\n",
       " Document(page_content='Prerequisites: programming experience (e.g., CSCI 136), mathematics (PHYS/MATH 210 or MATH 150), and physical science (PHYS 142 or 151, or CHEM 151 or 153 or 155), or permission of instructor', metadata={'source': './csci.pdf', 'filename': './csci.pdf', 'page_number': 9, 'category': 'NarrativeText'}),\n",
       " Document(page_content='Enrollment Preferences: courage', metadata={'source': './csci.pdf', 'filename': './csci.pdf', 'page_number': 9, 'category': 'NarrativeText'}),\n",
       " Document(page_content='Quantative/Formal Reasoning Notes: problem sets and programming', metadata={'source': './csci.pdf', 'filename': './csci.pdf', 'page_number': 9, 'category': 'NarrativeText'}),\n",
       " Document(page_content='Cross-listings: MATH 319 CHEM 319 BIOL 319 PHYS 319 CSCI 319', metadata={'source': './csci.pdf', 'filename': './csci.pdf', 'page_number': 9, 'category': 'NarrativeText'}),\n",
       " Document(page_content='Secondary Cross-listing', metadata={'source': './csci.pdf', 'filename': './csci.pdf', 'page_number': 9, 'category': 'Title'}),\n",
       " Document(page_content='What can computational biology teach us about cancer? In this lab-intensive experience for the Genomics, Proteomics, and Bioinformatics computational analysis and wet-lab investigations will inform each other, as students majoring in biology, chemistry, computer science, mathematics/statistics, and physics contribute their own expertise to explore how ever-growing gene and protein data-sets can provide key into human disease. In this course, we will take advantage of one well-studied system, the highly conserved Ras-related family of proteins, which a central role in numerous fundamental processes within the cell. The course will integrate bioinformatics and molecular biology, using database searching, alignments and pattern matching, and phylogenetics to reconstruct the evolution of gene families by focusing on the gene duplication events and gene rearrangements that have occurred over the course of eukaryotic speciation. By utilizing high through-put approaches to genes involved in the inflammatory and MAPK signal transduction pathways in human colon cancer cell lines, students will uncover regulatory mechanisms that are aberrantly altered by siRNA knockdown of putative regulatory components. This functional genomic strategy will be coupled independent projects using phosphorylation-state specific antisera to test our hypotheses. Proteomic analysis will introduce the students to de structural prediction and threading algorithms, as well as data-mining approaches and Bayesian modeling of protein network dynamics in single Flow cytometry and mass spectrometry may also be used to study networks of interacting proteins in colon tumor cells.', metadata={'source': './csci.pdf', 'filename': './csci.pdf', 'page_number': 9, 'category': 'NarrativeText'}),\n",
       " Document(page_content='Enrollment Preferences: seniors, then juniors, then sophomores', metadata={'source': './csci.pdf', 'filename': './csci.pdf', 'page_number': 9, 'category': 'NarrativeText'}),\n",
       " Document(page_content='MATH 319 (D3) CHEM 319 (D3) BIOL 319 (D3) PHYS 319 (D3) CSCI 319 (D3)', metadata={'source': './csci.pdf', 'filename': './csci.pdf', 'page_number': 10, 'category': 'Title'}),\n",
       " Document(page_content='Quantative/Formal Reasoning Notes: Through lab work, homework sets and a major project, students will learn or further develop their skills in programming in Python, and about the basis of Bayesian approaches to phylogenetic tree estimation.', metadata={'source': './csci.pdf', 'filename': './csci.pdf', 'page_number': 10, 'category': 'NarrativeText'}),\n",
       " Document(page_content='Attributes: BIGP Courses BIMO Interdepartmental Electives', metadata={'source': './csci.pdf', 'filename': './csci.pdf', 'page_number': 10, 'category': 'NarrativeText'}),\n",
       " Document(page_content='CSCI 331 (F) Introduction to Computer Security (QFR)', metadata={'source': './csci.pdf', 'filename': './csci.pdf', 'page_number': 10, 'category': 'Title'}),\n",
       " Document(page_content='This class explores common vulnerabilities in computer systems, how attackers exploit them, and how systems engineers design defenses to mitigate them. The goal is to be able to recognize potential vulnerabilities in one\\'s own software and to practice defensive design. Hands-on experience writing assembly language and C code to inspect and modify the low-level operation of running programs is emphasized. Finally, regular reading and writing assignments round out the course to help students understand the cultural and historical background of the computer security \"arms race.\"', metadata={'source': './csci.pdf', 'filename': './csci.pdf', 'page_number': 10, 'category': 'NarrativeText'}),\n",
       " Document(page_content='Class Format: This course has twice-weekly lecture meetings as well as a weekly lab meeting.', metadata={'source': './csci.pdf', 'filename': './csci.pdf', 'page_number': 10, 'category': 'NarrativeText'}),\n",
       " Document(page_content='Quantative/Formal Reasoning Notes: This course include regular and substantial problem sets and labs in which quantitative/formal reasoning are practiced and evaluated.', metadata={'source': './csci.pdf', 'filename': './csci.pdf', 'page_number': 10, 'category': 'NarrativeText'}),\n",
       " Document(page_content='CSCI 333 (S) Storage Systems (QFR)', metadata={'source': './csci.pdf', 'filename': './csci.pdf', 'page_number': 10, 'category': 'Title'}),\n",
       " Document(page_content='This course will examine topics in the design, implementation, and evaluation of storage systems. Topics include the memory hierarchy; ways that data is organized (both logically and physically); storage hardware and its influence on storage software designs; data structures; performance models; and system measurement/evaluation. Readings will be taken from recent technical literature, and an emphasis will be placed on identifying and evaluating design trade-offs.', metadata={'source': './csci.pdf', 'filename': './csci.pdf', 'page_number': 10, 'category': 'NarrativeText'}),\n",
       " Document(page_content='and evaluating design trade-offs.', metadata={'source': './csci.pdf', 'filename': './csci.pdf', 'page_number': 10, 'category': 'NarrativeText'}),\n",
       " Document(page_content='Enrollment Preferences: current Computer Science majors, students with research experience or', metadata={'source': './csci.pdf', 'filename': './csci.pdf', 'page_number': 10, 'category': 'NarrativeText'}),\n",
       " Document(page_content='Reasoning Notes: This course will have students develop quantitative/formal reasoning skills through problem sets assignments.', metadata={'source': './csci.pdf', 'filename': './csci.pdf', 'page_number': 10, 'category': 'NarrativeText'}),\n",
       " Document(page_content='This course examines the concepts and structures governing the design and implementation of programming languages. It presents an introduction to the concepts behind compilers and run-time representations of programming languages; features of programming languages supporting abstraction and polymorphism; and the procedural, functional, object-oriented, and concurrent programming paradigms. Programs will be required in languages illustrating each of these paradigms.', metadata={'source': './csci.pdf', 'filename': './csci.pdf', 'page_number': 11, 'category': 'NarrativeText'}),\n",
       " Document(page_content='Enrollment Preferences: current or expected Computer Science majors', metadata={'source': './csci.pdf', 'filename': './csci.pdf', 'page_number': 11, 'category': 'NarrativeText'}),\n",
       " Document(page_content='Quantative/Formal Reasoning Notes: This course include regular and substantial problem sets and labs in which quantitative/formal reasoning skills are practiced and evaluated.', metadata={'source': './csci.pdf', 'filename': './csci.pdf', 'page_number': 11, 'category': 'NarrativeText'}),\n",
       " Document(page_content='This course studies the key design principles of distributed systems, which are collections of independent networked computers that function as coherent systems. Covered topics include communication protocols, processes and threads, naming, synchronization, consistency and replication, fault tolerance, and security. Students also examine some specific real-world distributed systems case studies, including Google and Amazon. Class discussion is based on readings from the textbook and research papers. The goals of this course are to understand how large-scale computational systems are built, and to provide students with the tools necessary to evaluate new technologies after the course ends.', metadata={'source': './csci.pdf', 'filename': './csci.pdf', 'page_number': 11, 'category': 'NarrativeText'}),\n",
       " Document(page_content='Enrollment Preferences: current or expected Computer Science majors', metadata={'source': './csci.pdf', 'filename': './csci.pdf', 'page_number': 11, 'category': 'NarrativeText'}),\n",
       " Document(page_content='Quantative/Formal Reasoning Notes: The course will consist of programming assignments and problem sets in which quantitative/formal skills are practiced and evaluated.', metadata={'source': './csci.pdf', 'filename': './csci.pdf', 'page_number': 11, 'category': 'NarrativeText'}),\n",
       " Document(page_content='CSCI 345 (S) Robotics and Digital Fabrication (QFR)', metadata={'source': './csci.pdf', 'filename': './csci.pdf', 'page_number': 11, 'category': 'Title'}),\n",
       " Document(page_content='This course is a hands-on exploration of topics in robotics and digital fabrication. We will experience firsthand how ideas and methods from science can be applied to make physical objects, including robots and other machines. The emphasis will be on creative, hands-on experimentation. Along the way, students will learn the basics of embedded systems programming (Arduino), breadboarding, soldering, printed circuit board (PCB) design, mechanical computer-aided design (CAD)--both conventional (OnShape) and programmatic (OpenSCAD)--as well digital fabrication (3D-printing, laser cutting). Students will learn both how to build their own prototypes and how to send out designs to have parts machined professionally. Students will work in teams throughout. The course will culminate in a team robotic design competition testing both functionality and creativity.', metadata={'source': './csci.pdf', 'filename': './csci.pdf', 'page_number': 11, 'category': 'NarrativeText'}),\n",
       " Document(page_content='Requirements/Evaluation: Evaluation based on assignments, projects, and exams.', metadata={'source': './csci.pdf', 'filename': './csci.pdf', 'page_number': 11, 'category': 'NarrativeText'}),\n",
       " Document(page_content='Quantative/Formal Reasoning Notes: The course will include programming assignments and problem sets in which quantitative/formal skills are practiced and evaluated.', metadata={'source': './csci.pdf', 'filename': './csci.pdf', 'page_number': 12, 'category': 'NarrativeText'}),\n",
       " Document(page_content='skills are practiced and evaluated.', metadata={'source': './csci.pdf', 'filename': './csci.pdf', 'page_number': 12, 'category': 'NarrativeText'}),\n",
       " Document(page_content='Spring 2024', metadata={'source': './csci.pdf', 'filename': './csci.pdf', 'page_number': 12, 'category': 'Title'}),\n",
       " Document(page_content='CSCI 357 (S) Algorithmic Game Theory (QFR)', metadata={'source': './csci.pdf', 'filename': './csci.pdf', 'page_number': 12, 'category': 'Title'}),\n",
       " Document(page_content=\"This course focuses on topics in game theory and mechanism design from a computational perspective. We will explore questions design algorithms that incentivize truthful behavior, that is, where the participants have no incentive to cheat? Should we let drivers their commute time or let a central algorithm direct traffic? Does Arrow's impossibility result mean that all voting protocols are overarching goal of these questions is to understand and analyze selfish behavior and whether it can or should influence system learn how to model and reason about incentives in computational systems both theoretically and empirically. Topics include types of efficiency of equilibria, auction design and mechanism design with money, two-sided markets and mechanism design without computational applications such as P2P systems, and computational social choice.\", metadata={'source': './csci.pdf', 'filename': './csci.pdf', 'page_number': 12, 'category': 'NarrativeText'}),\n",
       " Document(page_content='Enrollment Preferences: current or expected Computer Science majors', metadata={'source': './csci.pdf', 'filename': './csci.pdf', 'page_number': 12, 'category': 'NarrativeText'}),\n",
       " Document(page_content='Quantative/Formal Reasoning Notes: The course will consist problem sets and programming assignments in which quantitative/formal skills are practiced and evaluated.', metadata={'source': './csci.pdf', 'filename': './csci.pdf', 'page_number': 12, 'category': 'NarrativeText'}),\n",
       " Document(page_content='CSCI 358 (F) Applied Algorithms (QFR)', metadata={'source': './csci.pdf', 'filename': './csci.pdf', 'page_number': 12, 'category': 'Title'}),\n",
       " Document(page_content=\"This course is about bridging the gap between theoretical running time and writing fast code in practice. The course is divided into two basic topics. The first is algorithmic: we will discuss some of the most useful tools in a coder's toolkit. This includes topics like randomization (hashing, filters, approximate counters), linear and convex programming, similarity search, and cache-efficient algorithms. Our goal is to talk about why these efficient algorithms make seemingly difficult problems solvable in practice. The second topic is applications: we will discuss how to implement algorithms in an efficient way that takes advantage of modern hardware. Specific topics covered will include blocking, loop unrolling, pipelining, as well as strategies for performance analysis. Projects and assessments will include both basic theoretical aspects (understanding why the algorithms we discuss actually work), and practical aspects (implementing the algorithms we discuss to solve important problems, and optimizing the code so it runs as quickly as possible).\", metadata={'source': './csci.pdf', 'filename': './csci.pdf', 'page_number': 12, 'category': 'NarrativeText'}),\n",
       " Document(page_content='Prerequisites: CSCI 256 and CSCI 237', metadata={'source': './csci.pdf', 'filename': './csci.pdf', 'page_number': 12, 'category': 'NarrativeText'}),\n",
       " Document(page_content='skills are practiced and evaluated.', metadata={'source': './csci.pdf', 'filename': './csci.pdf', 'page_number': 13, 'category': 'NarrativeText'}),\n",
       " Document(page_content='Not offered current academic year', metadata={'source': './csci.pdf', 'filename': './csci.pdf', 'page_number': 13, 'category': 'NarrativeText'}),\n",
       " Document(page_content='Cross-listings: MATH 361 CSCI 361', metadata={'source': './csci.pdf', 'filename': './csci.pdf', 'page_number': 13, 'category': 'Title'}),\n",
       " Document(page_content='Primary Cross-listing', metadata={'source': './csci.pdf', 'filename': './csci.pdf', 'page_number': 13, 'category': 'Title'}),\n",
       " Document(page_content='This course introduces a formal framework for investigating both the computability and complexity of problems. We study several models of computation including finite automata, regular languages, context-free grammars, and Turing machines. These models provide a mathematical basis for the study of computability theory--the examination of what problems can be solved and what problems cannot be solved--and the study of complexity theory--the examination of how efficiently problems can be solved. Topics include the halting problem and the P versus NP problem.', metadata={'source': './csci.pdf', 'filename': './csci.pdf', 'page_number': 13, 'category': 'NarrativeText'}),\n",
       " Document(page_content='Class Format: Students should sign up for lecture and one conference section.', metadata={'source': './csci.pdf', 'filename': './csci.pdf', 'page_number': 13, 'category': 'NarrativeText'}),\n",
       " Document(page_content='Enrollment Preferences: current or expected Computer Science majors', metadata={'source': './csci.pdf', 'filename': './csci.pdf', 'page_number': 13, 'category': 'NarrativeText'}),\n",
       " Document(page_content='Quantative/Formal Reasoning Notes: This course include regular and substantial problem sets in which quantitative/formal reasoning skills practiced and evaluated.', metadata={'source': './csci.pdf', 'filename': './csci.pdf', 'page_number': 13, 'category': 'NarrativeText'}),\n",
       " Document(page_content='Attributes: COGS Interdepartmental Electives', metadata={'source': './csci.pdf', 'filename': './csci.pdf', 'page_number': 13, 'category': 'NarrativeText'}),\n",
       " Document(page_content='CSCI 371 (S) Computer Graphics (QFR)', metadata={'source': './csci.pdf', 'filename': './csci.pdf', 'page_number': 13, 'category': 'Title'}),\n",
       " Document(page_content='This course covers the fundamental mathematics and techniques behind computer graphics, and will teach students how to represent and draw 2D and 3D geometry for real-time and photorealistic applications. Students will write challenging implementations from the ground up in C/C++, OpenGL, and GLSL. Topics include transformations, rasterization, ray tracing, immediate mode GUI, forward and inverse kinematics, and physically-based animation. Examples are drawn from video games, movies, and robotics.', metadata={'source': './csci.pdf', 'filename': './csci.pdf', 'page_number': 13, 'category': 'NarrativeText'}),\n",
       " Document(page_content='Requirements/Evaluation: evaluation based on assignments, projects, and exams.', metadata={'source': './csci.pdf', 'filename': './csci.pdf', 'page_number': 13, 'category': 'NarrativeText'}),\n",
       " Document(page_content='skills are practiced and evaluated.', metadata={'source': './csci.pdf', 'filename': './csci.pdf', 'page_number': 14, 'category': 'NarrativeText'}),\n",
       " Document(page_content='Not offered current academic year', metadata={'source': './csci.pdf', 'filename': './csci.pdf', 'page_number': 14, 'category': 'NarrativeText'}),\n",
       " Document(page_content='CSCI 373 (S) Artificial Intelligence (QFR)', metadata={'source': './csci.pdf', 'filename': './csci.pdf', 'page_number': 14, 'category': 'Title'}),\n",
       " Document(page_content='Artificial Intelligence (AI) has become part of everyday life, but what is it, and how does it work? This course introduces theories and techniques that serve as a foundation for the study of artificial intelligence. Potential topics include the following: Problem solving by search, Planning, Constraint satisfaction problems, Reasoning under uncertainty, Probabilistic graphical models, and Automated Learning.', metadata={'source': './csci.pdf', 'filename': './csci.pdf', 'page_number': 14, 'category': 'NarrativeText'}),\n",
       " Document(page_content='Requirements/Evaluation: Evaluation based on assignments, projects, and exams.', metadata={'source': './csci.pdf', 'filename': './csci.pdf', 'page_number': 14, 'category': 'NarrativeText'}),\n",
       " Document(page_content='Prerequisites: CSCI 136 and (CSCI 256 or permission of instructor)', metadata={'source': './csci.pdf', 'filename': './csci.pdf', 'page_number': 14, 'category': 'NarrativeText'}),\n",
       " Document(page_content='Enrollment Preferences: current or expected Computer Science majors', metadata={'source': './csci.pdf', 'filename': './csci.pdf', 'page_number': 14, 'category': 'NarrativeText'}),\n",
       " Document(page_content='Quantative/Formal Reasoning Notes: The course will consist of programming assignments and problem sets in which quantitative/formal', metadata={'source': './csci.pdf', 'filename': './csci.pdf', 'page_number': 14, 'category': 'NarrativeText'}),\n",
       " Document(page_content='Attributes: COGS Interdepartmental Electives', metadata={'source': './csci.pdf', 'filename': './csci.pdf', 'page_number': 14, 'category': 'NarrativeText'}),\n",
       " Document(page_content='CSCI 374 (F) Machine Learning', metadata={'source': './csci.pdf', 'filename': './csci.pdf', 'page_number': 14, 'category': 'Title'}),\n",
       " Document(page_content='Machine learning is a field that derives from artificial intelligence and statistics, and is concerned with the design and analysis of computer algorithms that \"learn\" automatically through the use of data. Computer algorithms are capable of discerning subtle patterns and structure in the data that would be practically impossible for a human to find. As a result, real-world decisions, such as treatment options and loan approvals, are being increasingly automated based on predictions or factual knowledge derived from such algorithms. This course explores topics in supervised learning (e.g., random forests and neural networks), unsupervised learning (e.g., k-means clustering and expectation maximization), and possibly reinforcement learning (e.g., Q-learning and temporal difference learning.) It will also introduce methods for the evaluation of learning algorithms (with an emphasis on analysis of generalizability and robustness of the algorithms to distribution/environmental shift), as well as topics in computational learning theory and ethics.', metadata={'source': './csci.pdf', 'filename': './csci.pdf', 'page_number': 14, 'category': 'NarrativeText'}),\n",
       " Document(page_content='CSCI 136 and CSCI 256 or permission of instructor', metadata={'source': './csci.pdf', 'filename': './csci.pdf', 'page_number': 14, 'category': 'NarrativeText'}),\n",
       " Document(page_content='Enrollment Preferences: Current or expected Computer Science majors.', metadata={'source': './csci.pdf', 'filename': './csci.pdf', 'page_number': 14, 'category': 'NarrativeText'}),\n",
       " Document(page_content='Quantative/Formal Reasoning Notes: This course heavily relies on discrete mathematics, calculus, and elementary statistics. Students will be proving theorems, among many other mathematically oriented assignments. Additionally, they will be programming, which involves analytical and logical thinking.', metadata={'source': './csci.pdf', 'filename': './csci.pdf', 'page_number': 14, 'category': 'NarrativeText'}),\n",
       " Document(page_content='Natural language processing (NLP) is a set of methods for making human language accessible to computers. NLP underlies many technologies we use on a daily basis including automatic machine translation, search engines, email spam detection, and automated personalized assistants. These methods draw from a combination of algorithms, linguistics and statistics. This course will provide a foundation in building NLP models to classify, generate, and learn from text data.', metadata={'source': './csci.pdf', 'filename': './csci.pdf', 'page_number': 15, 'category': 'NarrativeText'}),\n",
       " Document(page_content='Requirements/Evaluation: Evaluation based on assignments, projects, and exams.', metadata={'source': './csci.pdf', 'filename': './csci.pdf', 'page_number': 15, 'category': 'NarrativeText'}),\n",
       " Document(page_content='Prerequisites: CSCI 136, and either CSCI 256 or STAT 201/202.', metadata={'source': './csci.pdf', 'filename': './csci.pdf', 'page_number': 15, 'category': 'NarrativeText'}),\n",
       " Document(page_content='Enrollment Preferences: current or expected Computer Science majors.', metadata={'source': './csci.pdf', 'filename': './csci.pdf', 'page_number': 15, 'category': 'NarrativeText'}),\n",
       " Document(page_content='Quantative/Formal Reasoning Notes: The course will consist of programming assignments and problem sets in which quantitative/formal reasoning skills are practiced and evaluated.', metadata={'source': './csci.pdf', 'filename': './csci.pdf', 'page_number': 15, 'category': 'NarrativeText'}),\n",
       " Document(page_content='CSCI 378 (S) Human Artificial Intelligence Interaction', metadata={'source': './csci.pdf', 'filename': './csci.pdf', 'page_number': 15, 'category': 'NarrativeText'}),\n",
       " Document(page_content='Primary Cross-listing', metadata={'source': './csci.pdf', 'filename': './csci.pdf', 'page_number': 15, 'category': 'Title'}),\n",
       " Document(page_content='Artificial intelligence (AI) is already transforming society and every industry today. In order to ensure that AI serves the collective needs of we as computer scientists must guide AI so that it has a positive impact on the human experience. This course is an introduction to harnessing the power of AI so that it benefits people and communities. We will cover a number of general topics such as: agency and initiative, AI and ethics, bias transparency, confidence and errors, human augmentation and amplification, trust and explainability, and mixed-initiative systems. We explore topics via readings and projects across the AI spectrum, including: dialog and speech-controlled systems, computer vision, data science, recommender systems, text summarization, and UI personalization, among others.', metadata={'source': './csci.pdf', 'filename': './csci.pdf', 'page_number': 15, 'category': 'NarrativeText'}),\n",
       " Document(page_content='Enrollment Preferences: current or expected Computer Science majors', metadata={'source': './csci.pdf', 'filename': './csci.pdf', 'page_number': 15, 'category': 'NarrativeText'}),\n",
       " Document(page_content='This course is cross-listed and the prefixes carry the following divisional credit:', metadata={'source': './csci.pdf', 'filename': './csci.pdf', 'page_number': 15, 'category': 'NarrativeText'}),\n",
       " Document(page_content='LEC Section: 01 TF 1:10 pm - 2:25 pm Iris Howley', metadata={'source': './csci.pdf', 'filename': './csci.pdf', 'page_number': 15, 'category': 'NarrativeText'}),\n",
       " Document(page_content='Does X cause Y? If so, how? And what is the strength of this causal relation? Seeking answers to such causal (as opposed to associational) is a fundamental human endeavor; the answers we find can be used to support decision-making in various settings such as healthcare and public', metadata={'source': './csci.pdf', 'filename': './csci.pdf', 'page_number': 15, 'category': 'NarrativeText'}),\n",
       " Document(page_content='causation.\" In this course, we will re-examine this phrase and learn how to reason with confidence about the validity of causal conclusions drawn from messy real-world data. We will cover core topics in causal inference including causal graphical models, unsupervised learning of the structure of these models, expression of causal quantities as functions of observed data, and robust/efficient estimation of these quantities using statistical and machine learning methods. Concepts in the course will be contextualized via regular case studies.', metadata={'source': './csci.pdf', 'filename': './csci.pdf', 'page_number': 16, 'category': 'NarrativeText'}),\n",
       " Document(page_content='Requirements/Evaluation: Problem sets, programming exercises, empirical analyses, case studies, and a final project.', metadata={'source': './csci.pdf', 'filename': './csci.pdf', 'page_number': 16, 'category': 'NarrativeText'}),\n",
       " Document(page_content='Prerequisites: CSCI 136, and either CSCI 256 or STAT', metadata={'source': './csci.pdf', 'filename': './csci.pdf', 'page_number': 16, 'category': 'NarrativeText'}),\n",
       " Document(page_content='Enrollment Preferences: Computer science majors and prospective majors.', metadata={'source': './csci.pdf', 'filename': './csci.pdf', 'page_number': 16, 'category': 'NarrativeText'}),\n",
       " Document(page_content='Quantative/Formal Reasoning Notes: This course heavily relies on discrete mathematics, algorithms, and elementary statistics. There will be regular assignments requiring rigorous quantitative or formal reasoning.', metadata={'source': './csci.pdf', 'filename': './csci.pdf', 'page_number': 16, 'category': 'NarrativeText'}),\n",
       " Document(page_content='assignments requiring rigorous quantitative or formal reasoning.', metadata={'source': './csci.pdf', 'filename': './csci.pdf', 'page_number': 16, 'category': 'NarrativeText'}),\n",
       " Document(page_content='Attributes: COGS Interdepartmental Electives', metadata={'source': './csci.pdf', 'filename': './csci.pdf', 'page_number': 16, 'category': 'NarrativeText'}),\n",
       " Document(page_content='LEC Section: 01 MR 1:10 pm - 2:25 pm Rohit Bhattacharya', metadata={'source': './csci.pdf', 'filename': './csci.pdf', 'page_number': 16, 'category': 'NarrativeText'}),\n",
       " Document(page_content='This course is an introduction to deep neural networks and how to train them. Beginning with the fundamentals of regression and optimization, the course then surveys a variety of neural network architectures, which may include multilayer feedforward neural networks, convolutional neural networks, recurrent neural networks, and transformer networks. Students will also learn how to use deep learning software such as PyTorch or Tensorflow.', metadata={'source': './csci.pdf', 'filename': './csci.pdf', 'page_number': 16, 'category': 'NarrativeText'}),\n",
       " Document(page_content='Requirements/Evaluation: Evaluation based on assignments, projects, and exams.', metadata={'source': './csci.pdf', 'filename': './csci.pdf', 'page_number': 16, 'category': 'NarrativeText'}),\n",
       " Document(page_content='Prerequisites: CSCI 136 and fulfillment of the Discrete Mathematics Proficiency requirement', metadata={'source': './csci.pdf', 'filename': './csci.pdf', 'page_number': 16, 'category': 'NarrativeText'}),\n",
       " Document(page_content='Enrollment Preferences: Current or expected Computer Science majors', metadata={'source': './csci.pdf', 'filename': './csci.pdf', 'page_number': 16, 'category': 'NarrativeText'}),\n",
       " Document(page_content='Reasoning Notes: The course will consist of programming assignments and problem sets in which quantitative/formal are practiced and evaluated.', metadata={'source': './csci.pdf', 'filename': './csci.pdf', 'page_number': 16, 'category': 'NarrativeText'}),\n",
       " Document(page_content='skills are practiced and evaluated.', metadata={'source': './csci.pdf', 'filename': './csci.pdf', 'page_number': 16, 'category': 'NarrativeText'}),\n",
       " Document(page_content='Spring 2024', metadata={'source': './csci.pdf', 'filename': './csci.pdf', 'page_number': 16, 'category': 'Title'}),\n",
       " Document(page_content='CSCI 397 (F) Independent Reading: Computer Science', metadata={'source': './csci.pdf', 'filename': './csci.pdf', 'page_number': 16, 'category': 'NarrativeText'}),\n",
       " Document(page_content='Directed independent reading in Computer Science.', metadata={'source': './csci.pdf', 'filename': './csci.pdf', 'page_number': 16, 'category': 'NarrativeText'}),\n",
       " Document(page_content='Requirements/Evaluation: To be determined by supervising faculty member.', metadata={'source': './csci.pdf', 'filename': './csci.pdf', 'page_number': 16, 'category': 'NarrativeText'}),\n",
       " Document(page_content='Prerequisites: permission of department', metadata={'source': './csci.pdf', 'filename': './csci.pdf', 'page_number': 16, 'category': 'NarrativeText'}),\n",
       " Document(page_content='Fall 2023', metadata={'source': './csci.pdf', 'filename': './csci.pdf', 'page_number': 17, 'category': 'Title'}),\n",
       " Document(page_content='Directed independent reading in Computer Science.', metadata={'source': './csci.pdf', 'filename': './csci.pdf', 'page_number': 17, 'category': 'NarrativeText'}),\n",
       " Document(page_content='Requirements/Evaluation: To be determined by supervising faculty member.', metadata={'source': './csci.pdf', 'filename': './csci.pdf', 'page_number': 17, 'category': 'NarrativeText'}),\n",
       " Document(page_content='Prerequisites: permission of department', metadata={'source': './csci.pdf', 'filename': './csci.pdf', 'page_number': 17, 'category': 'NarrativeText'}),\n",
       " Document(page_content='This course explores the design and implementation of computer operating systems. Topics include historical aspects of operating systems development, systems programming, process scheduling, synchronization of concurrent processes, virtual machines, memory management virtual memory, I/O and file systems, system security, os/architecture interaction, and distributed operating systems.', metadata={'source': './csci.pdf', 'filename': './csci.pdf', 'page_number': 17, 'category': 'NarrativeText'}),\n",
       " Document(page_content='Enrollment Preferences: current or expected Computer Science majors', metadata={'source': './csci.pdf', 'filename': './csci.pdf', 'page_number': 17, 'category': 'NarrativeText'}),\n",
       " Document(page_content='Quantative/Formal Reasoning Notes: The course will consist of substantial problem sets and/or programming assignments in quantitative/formal reasoning skills are practiced and evaluated.', metadata={'source': './csci.pdf', 'filename': './csci.pdf', 'page_number': 17, 'category': 'NarrativeText'}),\n",
       " Document(page_content='LEC Section: 01 TR 9:55 am - 11:10 am Jeannie R Albrecht', metadata={'source': './csci.pdf', 'filename': './csci.pdf', 'page_number': 17, 'category': 'NarrativeText'}),\n",
       " Document(page_content='Cross-listings: MATH 441 CSCI 441 STAT 441', metadata={'source': './csci.pdf', 'filename': './csci.pdf', 'page_number': 17, 'category': 'NarrativeText'}),\n",
       " Document(page_content=\"What is information? And how do we communicate information effectively? This course will introduce students to the fundamental ideas of Information Theory including entropy, communication channels, mutual information, and Kolmogorov complexity. These ideas have surprising connections to a fields as diverse as physics (statistical mechanics, thermodynamics), mathematics (ergodic theory and number theory), statistics and machine learning (Fisher information, Occam's razor), and electrical engineering (communication theory).\", metadata={'source': './csci.pdf', 'filename': './csci.pdf', 'page_number': 17, 'category': 'NarrativeText'}),\n",
       " Document(page_content='Requirements/Evaluation: Weekly homeworks, midterm(s), final exam.', metadata={'source': './csci.pdf', 'filename': './csci.pdf', 'page_number': 17, 'category': 'NarrativeText'}),\n",
       " Document(page_content='Prerequisites: Math/Stat 341; Math 150 or 151; or permission of instructor.', metadata={'source': './csci.pdf', 'filename': './csci.pdf', 'page_number': 17, 'category': 'NarrativeText'}),\n",
       " Document(page_content='This course is cross-listed and the prefixes carry the following divisional', metadata={'source': './csci.pdf', 'filename': './csci.pdf', 'page_number': 18, 'category': 'NarrativeText'}),\n",
       " Document(page_content='Not offered current academic year', metadata={'source': './csci.pdf', 'filename': './csci.pdf', 'page_number': 18, 'category': 'NarrativeText'}),\n",
       " Document(page_content='This course provides highly-motivated students an opportunity to work independently with faculty on research topics chosen by individual faculty. Students are generally expected to perform a literature review, identify areas of potential contribution, and explore extensions to existing results. The course culminates in a concise, well-written report describing a problem, its background history, any independent results achieved, and directions for', metadata={'source': './csci.pdf', 'filename': './csci.pdf', 'page_number': 18, 'category': 'NarrativeText'}),\n",
       " Document(page_content='Requirements/Evaluation: class participation, presentations, and the final written report', metadata={'source': './csci.pdf', 'filename': './csci.pdf', 'page_number': 18, 'category': 'NarrativeText'}),\n",
       " Document(page_content='CSCI 494 (S) Senior Thesis: Computer Science', metadata={'source': './csci.pdf', 'filename': './csci.pdf', 'page_number': 18, 'category': 'NarrativeText'}),\n",
       " Document(page_content='Computer Science thesis; this is part of a full-year thesis (493-494).', metadata={'source': './csci.pdf', 'filename': './csci.pdf', 'page_number': 18, 'category': 'NarrativeText'}),\n",
       " Document(page_content='Requirements/Evaluation: class participation, presentations, and the final written report', metadata={'source': './csci.pdf', 'filename': './csci.pdf', 'page_number': 18, 'category': 'NarrativeText'}),\n",
       " Document(page_content='Enrollment Preferences: open to senior Computer Science majors with permission of instructor', metadata={'source': './csci.pdf', 'filename': './csci.pdf', 'page_number': 18, 'category': 'NarrativeText'}),\n",
       " Document(page_content='CSCI 497 (F) Independent Reading: Computer Science', metadata={'source': './csci.pdf', 'filename': './csci.pdf', 'page_number': 18, 'category': 'NarrativeText'}),\n",
       " Document(page_content='Directed independent reading in Computer Science.', metadata={'source': './csci.pdf', 'filename': './csci.pdf', 'page_number': 18, 'category': 'NarrativeText'}),\n",
       " Document(page_content='Requirements/Evaluation: To be determined by supervising faculty member.', metadata={'source': './csci.pdf', 'filename': './csci.pdf', 'page_number': 18, 'category': 'NarrativeText'}),\n",
       " Document(page_content='Prerequisites: permission of department', metadata={'source': './csci.pdf', 'filename': './csci.pdf', 'page_number': 18, 'category': 'NarrativeText'}),\n",
       " Document(page_content='Enrollment Limit: none', metadata={'source': './csci.pdf', 'filename': './csci.pdf', 'page_number': 18, 'category': 'NarrativeText'}),\n",
       " Document(page_content='CSCI 498 (S) Independent Reading: Computer Science', metadata={'source': './csci.pdf', 'filename': './csci.pdf', 'page_number': 19, 'category': 'NarrativeText'}),\n",
       " Document(page_content='Directed independent reading in Computer Science.', metadata={'source': './csci.pdf', 'filename': './csci.pdf', 'page_number': 19, 'category': 'NarrativeText'}),\n",
       " Document(page_content='Requirements/Evaluation: To be determined by supervising faculty member.', metadata={'source': './csci.pdf', 'filename': './csci.pdf', 'page_number': 19, 'category': 'NarrativeText'}),\n",
       " Document(page_content='Prerequisites: permission of department', metadata={'source': './csci.pdf', 'filename': './csci.pdf', 'page_number': 19, 'category': 'NarrativeText'}),\n",
       " Document(page_content='Winter Study ----------------------------------------------------------------------------', metadata={'source': './csci.pdf', 'filename': './csci.pdf', 'page_number': 19, 'category': 'NarrativeText'}),\n",
       " Document(page_content=\"course serves as a guided introduction to the Unix operating system and a variety of software tools. Students in this course will work on Unix available in the Department's laboratory. By the end of the course, students will be familiar with Unix and will be able to use Git as a tool. As a final project, students will work together in teams to explore an API of their choice. The exact topics to be covered may vary upon the needs and desires of the students. The course is designed for individuals who understand basic program development discussed in an introductory programming course (Computer Science 134 or equivalent), but who wish to become familiar with a broader variety of systems and programming languages. This course is not intended for students who have completed a course at the 200 level or above.\", metadata={'source': './csci.pdf', 'filename': './csci.pdf', 'page_number': 19, 'category': 'NarrativeText'}),\n",
       " Document(page_content='Requirements/Evaluation: final project or presentation', metadata={'source': './csci.pdf', 'filename': './csci.pdf', 'page_number': 19, 'category': 'NarrativeText'}),\n",
       " Document(page_content='Unit Notes: Lida graduated from Williams in 2002 as a double major in CS and Psych. She returned in 2014 and spent 4 years working in Relations before joining the staff of the CS Dept in 2019 where she provides instruction support for the intro classes.', metadata={'source': './csci.pdf', 'filename': './csci.pdf', 'page_number': 19, 'category': 'NarrativeText'}),\n",
       " Document(page_content='Attributes: EXPE Experiential Education Courses STUX Winter Study Student Exploration', metadata={'source': './csci.pdf', 'filename': './csci.pdf', 'page_number': 19, 'category': 'NarrativeText'}),\n",
       " Document(page_content='Not offered current academic year', metadata={'source': './csci.pdf', 'filename': './csci.pdf', 'page_number': 19, 'category': 'NarrativeText'}),\n",
       " Document(page_content='CSCI 13 (W) Designing for People', metadata={'source': './csci.pdf', 'filename': './csci.pdf', 'page_number': 19, 'category': 'Title'}),\n",
       " Document(page_content='Many innovative products and entrepreneurial endeavors fail because they are not sensitive to the attitudes and behaviors of the people who interact with them. The fields of Human Factors and Design Thinking combine aspects of psychology with software development, behavioral economics, architecture, and other fields, to create products and processes that provide an easy, enjoyable, efficient and safe user experience. The course will provide students with a theoretical framework for analyzing usability, as well as practical experience with iterative design techniques, prototyping, and', metadata={'source': './csci.pdf', 'filename': './csci.pdf', 'page_number': 19, 'category': 'NarrativeText'}),\n",
       " Document(page_content='Requirements/Evaluation: final project or presentation', metadata={'source': './csci.pdf', 'filename': './csci.pdf', 'page_number': 20, 'category': 'NarrativeText'}),\n",
       " Document(page_content='Enrollment Preferences: instructor seeks a diverse group of students with interests in design, psychology, human-computer interaction, and other', metadata={'source': './csci.pdf', 'filename': './csci.pdf', 'page_number': 20, 'category': 'NarrativeText'}),\n",
       " Document(page_content='Expected Class Size: NA', metadata={'source': './csci.pdf', 'filename': './csci.pdf', 'page_number': 20, 'category': 'NarrativeText'}),\n",
       " Document(page_content=\"Unit Notes: Rich Cohen '82 has designed communications, social networking and education applications used by over 100 million people and has conducted usability research on five continents.\", metadata={'source': './csci.pdf', 'filename': './csci.pdf', 'page_number': 20, 'category': 'NarrativeText'}),\n",
       " Document(page_content='Attributes: EXPE Experiential Education Courses STUX Winter Study Student Exploration', metadata={'source': './csci.pdf', 'filename': './csci.pdf', 'page_number': 20, 'category': 'NarrativeText'}),\n",
       " Document(page_content='Not offered current academic year', metadata={'source': './csci.pdf', 'filename': './csci.pdf', 'page_number': 20, 'category': 'Title'}),\n",
       " Document(page_content='This course introduces students to the research process in Computer Science. Students will learn how to find and critically read research papers, formulate and describe a research problem, propose a solution to that problem, and design an evaluation plan for assessing the effectiveness of proposed solution. Students will learn about the general research framework through readings, videos, in-class activities, and class discussions. Throughout the course, students will apply those general research methods to a research question in an area of their choice (e.g., machine algorithms, parallel architecture, etc.), working in groups of up to three students. Each group will create a written research project proposal that includes a description of the research context and the specific problem to be solved with appropriate related work citations, a description of the proposed solution or approach, and a plan for evaluating the proposed solution. Assessment will be based on a written project proposal and an', metadata={'source': './csci.pdf', 'filename': './csci.pdf', 'page_number': 20, 'category': 'NarrativeText'}),\n",
       " Document(page_content='Attributes: EXPE Experiential Education Courses', metadata={'source': './csci.pdf', 'filename': './csci.pdf', 'page_number': 20, 'category': 'NarrativeText'}),\n",
       " Document(page_content='CSCI 23 (W) Research and Development in Computing', metadata={'source': './csci.pdf', 'filename': './csci.pdf', 'page_number': 20, 'category': 'Title'}),\n",
       " Document(page_content=\"An independent project is completed in collaboration with a member of the Computer Science Department. The projects undertaken will either involve the exploration of a research topic related to the faculty member's work or the implementation of a software system that will extend the students and implementation skills. It is expected that the student will spend 20 hours per week working on the project. At the completion of the project, each student will submit a 10-page written report or the software developed together with appropriate documentation of its behavior and design. In students will be expected to give a short presentation or demonstration of their work. Prior to the beginning of the Winter Study registration period, student interested in enrolling must have arranged with a faculty member in the department to serve as their supervisor for the course.\", metadata={'source': './csci.pdf', 'filename': './csci.pdf', 'page_number': 20, 'category': 'NarrativeText'}),\n",
       " Document(page_content='Requirements/Evaluation: short paper and final project or presentation', metadata={'source': './csci.pdf', 'filename': './csci.pdf', 'page_number': 20, 'category': 'NarrativeText'}),\n",
       " Document(page_content='Prerequisites: project must be pre-approved by the faculty', metadata={'source': './csci.pdf', 'filename': './csci.pdf', 'page_number': 20, 'category': 'NarrativeText'}),\n",
       " Document(page_content='Attributes: EXPE Experiential Education Courses STUX Winter Study Student Exploration', metadata={'source': './csci.pdf', 'filename': './csci.pdf', 'page_number': 20, 'category': 'NarrativeText'}),\n",
       " Document(page_content='Cross-listings: ECON 28 CSCI 28', metadata={'source': './csci.pdf', 'filename': './csci.pdf', 'page_number': 21, 'category': 'Title'}),\n",
       " Document(page_content='Secondary Cross-listing', metadata={'source': './csci.pdf', 'filename': './csci.pdf', 'page_number': 21, 'category': 'Title'}),\n",
       " Document(page_content='In this course, students will work in small teams to design a software product that solves a problem of their choosing. To support this endeavor, we examine, critique, and apply methodologies intended to solve these problems, including those developed by Marty Cagan, Steve Blank, Don Steve Krug and Eric Ries. Students will learn to act as effective product managers, achieving alignment between business, technology, and UI/UX design. Such alignment is crucial given that technology projects often fail not because of the quality of technical engineering but due to these three areas. Google Glass failed to account for its price tag, fashion, and the privacy panic. The initial Obamacare website failed to address management issues and predict the volume of website visitors. Flexcube failed to update and incorporate users into the design of their product, resulting in a $500 M UX mistake for Citi bank. These organizations did not identify the right problem, or did not build the right solution. The conflict is IT teams like to be told what to build, but users often do not know what they want or how to express it. We will learn how product', metadata={'source': './csci.pdf', 'filename': './csci.pdf', 'page_number': 21, 'category': 'NarrativeText'}),\n",
       " Document(page_content='and their interdisciplinary teams can bridge that gap.', metadata={'source': './csci.pdf', 'filename': './csci.pdf', 'page_number': 21, 'category': 'NarrativeText'}),\n",
       " Document(page_content='Requirements/Evaluation: final project or presentation', metadata={'source': './csci.pdf', 'filename': './csci.pdf', 'page_number': 21, 'category': 'NarrativeText'}),\n",
       " Document(page_content=\"Unit Notes: Allan joined DataArt in 2014 through the acquisition of AW Systems, where he was a founding partner, and instrumental in developing the Solution Design Framework Methodology, a process designed to guide large-scale/complex technology projects to success. Allan now heads DataArt's Solution Design consulting group as well as their product management competency.\", metadata={'source': './csci.pdf', 'filename': './csci.pdf', 'page_number': 21, 'category': 'NarrativeText'}),\n",
       " Document(page_content='This course is cross-listed and the prefixes carry the following divisional credit:', metadata={'source': './csci.pdf', 'filename': './csci.pdf', 'page_number': 21, 'category': 'NarrativeText'}),\n",
       " Document(page_content='ECON 28 CSCI 28', metadata={'source': './csci.pdf', 'filename': './csci.pdf', 'page_number': 21, 'category': 'Title'}),\n",
       " Document(page_content='Attributes: EXPE Experiential Education Courses', metadata={'source': './csci.pdf', 'filename': './csci.pdf', 'page_number': 21, 'category': 'NarrativeText'}),\n",
       " Document(page_content='Not offered current academic year', metadata={'source': './csci.pdf', 'filename': './csci.pdf', 'page_number': 21, 'category': 'NarrativeText'}),\n",
       " Document(page_content='To be taken by students registered for Computer Science 493-494.', metadata={'source': './csci.pdf', 'filename': './csci.pdf', 'page_number': 21, 'category': 'NarrativeText'}),\n",
       " Document(page_content='Class Format: independent study', metadata={'source': './csci.pdf', 'filename': './csci.pdf', 'page_number': 21, 'category': 'NarrativeText'}),\n",
       " Document(page_content='Open to upperclass students. Students interested in doing an independent project (99) during Winter Study must make prior arrangements with faculty sponsor. The student and professor then complete the independent study proposal form available online. The deadline is typically in late September. Proposals are reviewed by the pertinent department and the Winter Study Committee. Students will be notified if their proposal is approved prior to the Winter Study registration period.', metadata={'source': './csci.pdf', 'filename': './csci.pdf', 'page_number': 21, 'category': 'NarrativeText'}),\n",
       " Document(page_content='approved prior to the Winter Study registration period.', metadata={'source': './csci.pdf', 'filename': './csci.pdf', 'page_number': 21, 'category': 'NarrativeText'}),\n",
       " Document(page_content='Class Format: independent study', metadata={'source': './csci.pdf', 'filename': './csci.pdf', 'page_number': 21, 'category': 'NarrativeText'})]"
      ]
     },
     "execution_count": 22,
     "metadata": {},
     "output_type": "execute_result"
    }
   ],
   "source": [
    "documents"
   ]
  },
  {
   "cell_type": "code",
   "execution_count": 29,
   "id": "07bdd918",
   "metadata": {},
   "outputs": [],
   "source": [
    "# Load Data to vectorstore\n",
    "embeddings = OpenAIEmbeddings()\n",
    "vectorstore = FAISS.from_documents(documents, embeddings)\n",
    "\n",
    "\n",
    "# Save vectorstore\n",
    "with open(\"./vectorstore.pkl\", \"wb\") as f:\n",
    "    pickle.dump(vectorstore, f)\n",
    "\n",
    "# embeddings = OpenAIEmbeddings()\n",
    "# db = Chroma.from_documents(documents, embeddings)"
   ]
  },
  {
   "cell_type": "code",
   "execution_count": 30,
   "id": "2eccb507",
   "metadata": {},
   "outputs": [],
   "source": [
    "from langchain.chains import ConversationalRetrievalChain\n",
    "from langchain.llms import OpenAI\n",
    "\n",
    "qa = ConversationalRetrievalChain.from_llm(OpenAI(temperature=0), vectorstore.as_retriever(), return_source_documents=True)"
   ]
  },
  {
   "cell_type": "code",
   "execution_count": 31,
   "id": "1ab2930e",
   "metadata": {},
   "outputs": [],
   "source": [
    "chat_history = []\n",
    "query = \"What is the full name of the course 'Computer Science 256?'\"\n",
    "result = qa({\"question\": query, \"chat_history\": chat_history})"
   ]
  },
  {
   "cell_type": "code",
   "execution_count": 32,
   "id": "686a0e93",
   "metadata": {},
   "outputs": [
    {
     "data": {
      "text/plain": [
       "' Computer Science 256 is the full name of the course.'"
      ]
     },
     "execution_count": 32,
     "metadata": {},
     "output_type": "execute_result"
    }
   ],
   "source": [
    "result[\"answer\"]"
   ]
  },
  {
   "cell_type": "code",
   "execution_count": 35,
   "id": "a3ed6599",
   "metadata": {},
   "outputs": [
    {
     "data": {
      "text/plain": [
       "[Document(page_content='Computer Science 256 Algorithm Design and Analysis', metadata={'source': './csci.pdf', 'filename': './csci.pdf', 'page_number': 2, 'category': 'Title'}),\n",
       " Document(page_content='Prerequisites:  CSCI 256', metadata={'source': './csci.pdf', 'filename': './csci.pdf', 'page_number': 12, 'category': 'Title'}),\n",
       " Document(page_content='general programming, Computer Science 134 followed by 136 and 256 will provide students with a strong background in algorithm and data structure', metadata={'source': './csci.pdf', 'filename': './csci.pdf', 'page_number': 4, 'category': 'NarrativeText'}),\n",
       " Document(page_content='Computer Science 134 Introduction to Computer Science', metadata={'source': './csci.pdf', 'filename': './csci.pdf', 'page_number': 1, 'category': 'Title'})]"
      ]
     },
     "execution_count": 35,
     "metadata": {},
     "output_type": "execute_result"
    }
   ],
   "source": [
    "result['source_documents']"
   ]
  },
  {
   "cell_type": "code",
   "execution_count": 33,
   "id": "740ba076",
   "metadata": {},
   "outputs": [
    {
     "data": {
      "text/plain": [
       "' The Discrete Mathematics Proficiency Requirement is the requirement that students must demonstrate proficiency in discrete mathematics by either passing the departmental Discrete Mathematics Proficiency Exam or by earning a grade of C- or better in MATH 200.'"
      ]
     },
     "execution_count": 33,
     "metadata": {},
     "output_type": "execute_result"
    }
   ],
   "source": [
    "query = \"What is the Discrete Mathematics Proficiency Requirement?\"\n",
    "result = qa({\"question\": query, \"chat_history\": chat_history})\n",
    "result[\"answer\"]"
   ]
  },
  {
   "cell_type": "code",
   "execution_count": null,
   "id": "cf548943",
   "metadata": {},
   "outputs": [],
   "source": []
  },
  {
   "cell_type": "code",
   "execution_count": 34,
   "id": "5286f58f",
   "metadata": {},
   "outputs": [
    {
     "data": {
      "text/plain": [
       "' You need to take a minimum of 8 courses in Computer Science, including the four core courses (Computer Science 237, 256, 334, and 361) and two or more electives (bringing the total number of Computer Science courses to at least 8).'"
      ]
     },
     "execution_count": 34,
     "metadata": {},
     "output_type": "execute_result"
    }
   ],
   "source": [
    "query = \"How many CS courses do I need to take to graduate?\"\n",
    "result = qa({\"question\": query, \"chat_history\": chat_history})\n",
    "result[\"answer\"]"
   ]
  },
  {
   "cell_type": "code",
   "execution_count": 35,
   "id": "6ea209d9",
   "metadata": {},
   "outputs": [
    {
     "data": {
      "text/plain": [
       "' No, you cannot take Computer Graphics since it requires CSCI 256 and CSCI 237 as prerequisites.'"
      ]
     },
     "execution_count": 35,
     "metadata": {},
     "output_type": "execute_result"
    }
   ],
   "source": [
    "query = \"I haven't taken CS237. Can I take Computer Graphics?\"\n",
    "result = qa({\"question\": query, \"chat_history\": chat_history})\n",
    "chat_history = [(query, result[\"answer\"])]\n",
    "result[\"answer\"]"
   ]
  },
  {
   "cell_type": "code",
   "execution_count": 50,
   "id": "4a95e1fb",
   "metadata": {},
   "outputs": [
    {
     "data": {
      "text/plain": [
       "' CSCI 237 is a prerequisite for CSCI 371 Computer Graphics because it provides the foundational knowledge needed to understand the concepts taught in the course.'"
      ]
     },
     "execution_count": 50,
     "metadata": {},
     "output_type": "execute_result"
    }
   ],
   "source": [
    "query = \"Why not?\"\n",
    "result = qa({\"question\": query, \"chat_history\": chat_history})\n",
    "result[\"answer\"]"
   ]
  },
  {
   "cell_type": "code",
   "execution_count": 8,
   "id": "005a47e9",
   "metadata": {},
   "outputs": [],
   "source": [
    "from langchain.chains.qa_with_sources import load_qa_with_sources_chain\n",
    "from langchain.llms import OpenAI"
   ]
  },
  {
   "cell_type": "markdown",
   "id": "5b119026",
   "metadata": {},
   "source": [
    "## Quickstart\n",
    "If you just want to get started as quickly as possible, this is the recommended way to do it:"
   ]
  },
  {
   "cell_type": "code",
   "execution_count": 9,
   "id": "3722373b",
   "metadata": {},
   "outputs": [
    {
     "data": {
      "text/plain": [
       "{'output_text': ' The president thanked Justice Breyer for his service.\\nSOURCES: 30-pl'}"
      ]
     },
     "execution_count": 9,
     "metadata": {},
     "output_type": "execute_result"
    }
   ],
   "source": [
    "chain = load_qa_with_sources_chain(OpenAI(temperature=0), chain_type=\"stuff\")\n",
    "query = \"What did the president say about Justice Breyer\"\n",
    "chain({\"input_documents\": docs, \"question\": query}, return_only_outputs=True)"
   ]
  },
  {
   "cell_type": "markdown",
   "id": "bdaf9268",
   "metadata": {},
   "source": [
    "If you want more control and understanding over what is happening, please see the information below."
   ]
  },
  {
   "cell_type": "markdown",
   "id": "d82f899a",
   "metadata": {},
   "source": [
    "## The `stuff` Chain\n",
    "\n",
    "This sections shows results of using the `stuff` Chain to do question answering with sources."
   ]
  },
  {
   "cell_type": "code",
   "execution_count": 6,
   "id": "fc1a5ed6",
   "metadata": {},
   "outputs": [],
   "source": [
    "chain = load_qa_with_sources_chain(OpenAI(temperature=0), chain_type=\"stuff\")"
   ]
  },
  {
   "cell_type": "code",
   "execution_count": 7,
   "id": "7d766417",
   "metadata": {},
   "outputs": [
    {
     "data": {
      "text/plain": [
       "{'output_text': ' The president thanked Justice Breyer for his service.\\nSOURCES: 30-pl'}"
      ]
     },
     "execution_count": 7,
     "metadata": {},
     "output_type": "execute_result"
    }
   ],
   "source": [
    "query = \"What did the president say about Justice Breyer\"\n",
    "chain({\"input_documents\": docs, \"question\": query}, return_only_outputs=True)"
   ]
  },
  {
   "cell_type": "markdown",
   "id": "e966aea8",
   "metadata": {},
   "source": [
    "**Custom Prompts**\n",
    "\n",
    "You can also use your own prompts with this chain. In this example, we will respond in Italian."
   ]
  },
  {
   "cell_type": "code",
   "execution_count": 7,
   "id": "426c570b",
   "metadata": {},
   "outputs": [
    {
     "data": {
      "text/plain": [
       "{'output_text': '\\nNon so cosa abbia detto il presidente riguardo a Justice Breyer.\\nSOURCES: 30, 31, 33'}"
      ]
     },
     "execution_count": 7,
     "metadata": {},
     "output_type": "execute_result"
    }
   ],
   "source": [
    "template = \"\"\"Given the following extracted parts of a long document and a question, create a final answer with references (\"SOURCES\"). \n",
    "If you don't know the answer, just say that you don't know. Don't try to make up an answer.\n",
    "ALWAYS return a \"SOURCES\" part in your answer.\n",
    "Respond in Italian.\n",
    "\n",
    "QUESTION: {question}\n",
    "=========\n",
    "{summaries}\n",
    "=========\n",
    "FINAL ANSWER IN ITALIAN:\"\"\"\n",
    "PROMPT = PromptTemplate(template=template, input_variables=[\"summaries\", \"question\"])\n",
    "\n",
    "chain = load_qa_with_sources_chain(OpenAI(temperature=0), chain_type=\"stuff\", prompt=PROMPT)\n",
    "query = \"What did the president say about Justice Breyer\"\n",
    "chain({\"input_documents\": docs, \"question\": query}, return_only_outputs=True)"
   ]
  },
  {
   "cell_type": "markdown",
   "id": "c5dbb304",
   "metadata": {},
   "source": [
    "## The `map_reduce` Chain\n",
    "\n",
    "This sections shows results of using the `map_reduce` Chain to do question answering with sources."
   ]
  },
  {
   "cell_type": "code",
   "execution_count": 8,
   "id": "921db0a4",
   "metadata": {},
   "outputs": [],
   "source": [
    "chain = load_qa_with_sources_chain(OpenAI(temperature=0), chain_type=\"map_reduce\")"
   ]
  },
  {
   "cell_type": "code",
   "execution_count": 9,
   "id": "e417926a",
   "metadata": {},
   "outputs": [
    {
     "data": {
      "text/plain": [
       "{'output_text': ' The president thanked Justice Breyer for his service.\\nSOURCES: 30-pl'}"
      ]
     },
     "execution_count": 9,
     "metadata": {},
     "output_type": "execute_result"
    }
   ],
   "source": [
    "query = \"What did the president say about Justice Breyer\"\n",
    "chain({\"input_documents\": docs, \"question\": query}, return_only_outputs=True)"
   ]
  },
  {
   "cell_type": "markdown",
   "id": "ae2f6d97",
   "metadata": {},
   "source": [
    "**Intermediate Steps**\n",
    "\n",
    "We can also return the intermediate steps for `map_reduce` chains, should we want to inspect them. This is done with the `return_map_steps` variable."
   ]
  },
  {
   "cell_type": "code",
   "execution_count": 16,
   "id": "15af265f",
   "metadata": {},
   "outputs": [],
   "source": [
    "chain = load_qa_with_sources_chain(OpenAI(temperature=0), chain_type=\"map_reduce\", return_intermediate_steps=True)"
   ]
  },
  {
   "cell_type": "code",
   "execution_count": 17,
   "id": "21b136e5",
   "metadata": {},
   "outputs": [
    {
     "data": {
      "text/plain": [
       "{'intermediate_steps': [' \"Tonight, I’d like to honor someone who has dedicated his life to serve this country: Justice Stephen Breyer—an Army veteran, Constitutional scholar, and retiring Justice of the United States Supreme Court. Justice Breyer, thank you for your service.\"',\n",
       "  ' None',\n",
       "  ' None',\n",
       "  ' None'],\n",
       " 'output_text': ' The president thanked Justice Breyer for his service.\\nSOURCES: 30-pl'}"
      ]
     },
     "execution_count": 17,
     "metadata": {},
     "output_type": "execute_result"
    }
   ],
   "source": [
    "chain({\"input_documents\": docs, \"question\": query}, return_only_outputs=True)"
   ]
  },
  {
   "cell_type": "markdown",
   "id": "d56e101a",
   "metadata": {},
   "source": [
    "**Custom Prompts**\n",
    "\n",
    "You can also use your own prompts with this chain. In this example, we will respond in Italian."
   ]
  },
  {
   "cell_type": "code",
   "execution_count": 8,
   "id": "47f0d517",
   "metadata": {},
   "outputs": [
    {
     "data": {
      "text/plain": [
       "{'intermediate_steps': [\"\\nStasera vorrei onorare qualcuno che ha dedicato la sua vita a servire questo paese: il giustizia Stephen Breyer - un veterano dell'esercito, uno studioso costituzionale e un giustizia in uscita della Corte Suprema degli Stati Uniti. Giustizia Breyer, grazie per il tuo servizio.\",\n",
       "  ' Non pertinente.',\n",
       "  ' Non rilevante.',\n",
       "  \" Non c'è testo pertinente.\"],\n",
       " 'output_text': ' Non conosco la risposta. SOURCES: 30, 31, 33, 20.'}"
      ]
     },
     "execution_count": 8,
     "metadata": {},
     "output_type": "execute_result"
    }
   ],
   "source": [
    "\n",
    "question_prompt_template = \"\"\"Use the following portion of a long document to see if any of the text is relevant to answer the question. \n",
    "Return any relevant text in Italian.\n",
    "{context}\n",
    "Question: {question}\n",
    "Relevant text, if any, in Italian:\"\"\"\n",
    "QUESTION_PROMPT = PromptTemplate(\n",
    "    template=question_prompt_template, input_variables=[\"context\", \"question\"]\n",
    ")\n",
    "\n",
    "combine_prompt_template = \"\"\"Given the following extracted parts of a long document and a question, create a final answer with references (\"SOURCES\"). \n",
    "If you don't know the answer, just say that you don't know. Don't try to make up an answer.\n",
    "ALWAYS return a \"SOURCES\" part in your answer.\n",
    "Respond in Italian.\n",
    "\n",
    "QUESTION: {question}\n",
    "=========\n",
    "{summaries}\n",
    "=========\n",
    "FINAL ANSWER IN ITALIAN:\"\"\"\n",
    "COMBINE_PROMPT = PromptTemplate(\n",
    "    template=combine_prompt_template, input_variables=[\"summaries\", \"question\"]\n",
    ")\n",
    "\n",
    "chain = load_qa_with_sources_chain(OpenAI(temperature=0), chain_type=\"map_reduce\", return_intermediate_steps=True, question_prompt=QUESTION_PROMPT, combine_prompt=COMBINE_PROMPT)\n",
    "chain({\"input_documents\": docs, \"question\": query}, return_only_outputs=True)"
   ]
  },
  {
   "cell_type": "markdown",
   "id": "d943c6c1",
   "metadata": {},
   "source": [
    "**Batch Size**\n",
    "\n",
    "When using the `map_reduce` chain, one thing to keep in mind is the batch size you are using during the map step. If this is too high, it could cause rate limiting errors. You can control this by setting the batch size on the LLM used. Note that this only applies for LLMs with this parameter. Below is an example of doing so:\n",
    "\n",
    "```python\n",
    "llm = OpenAI(batch_size=5, temperature=0)\n",
    "```"
   ]
  },
  {
   "cell_type": "markdown",
   "id": "5bf0e1ab",
   "metadata": {},
   "source": [
    "## The `refine` Chain\n",
    "\n",
    "This sections shows results of using the `refine` Chain to do question answering with sources."
   ]
  },
  {
   "cell_type": "code",
   "execution_count": 12,
   "id": "904835c8",
   "metadata": {},
   "outputs": [],
   "source": [
    "chain = load_qa_with_sources_chain(OpenAI(temperature=0), chain_type=\"refine\")"
   ]
  },
  {
   "cell_type": "code",
   "execution_count": 13,
   "id": "f60875c6",
   "metadata": {},
   "outputs": [
    {
     "data": {
      "text/plain": [
       "{'output_text': \"\\n\\nThe president said that he was honoring Justice Breyer for his dedication to serving the country and that he was a retiring Justice of the United States Supreme Court. He also thanked him for his service and praised his career as a top litigator in private practice, a former federal public defender, and a family of public school educators and police officers. He noted Justice Breyer's reputation as a consensus builder and the broad range of support he has received from the Fraternal Order of Police to former judges appointed by Democrats and Republicans. He also highlighted the importance of securing the border and fixing the immigration system in order to advance liberty and justice, and mentioned the new technology, joint patrols, dedicated immigration judges, and commitments to support partners in South and Central America that have been put in place. He also expressed his commitment to the LGBTQ+ community, noting the need for the bipartisan Equality Act and the importance of protecting transgender Americans from state laws targeting them. He also highlighted his commitment to bipartisanship, noting the 80 bipartisan bills he signed into law last year, and his plans to strengthen the Violence Against Women Act. Additionally, he announced that the Justice Department will name a chief prosecutor for pandemic fraud and his plan to lower the deficit by more than one trillion dollars in a\"}"
      ]
     },
     "execution_count": 13,
     "metadata": {},
     "output_type": "execute_result"
    }
   ],
   "source": [
    "query = \"What did the president say about Justice Breyer\"\n",
    "chain({\"input_documents\": docs, \"question\": query}, return_only_outputs=True)"
   ]
  },
  {
   "cell_type": "markdown",
   "id": "ac357530",
   "metadata": {},
   "source": [
    "**Intermediate Steps**\n",
    "\n",
    "We can also return the intermediate steps for `refine` chains, should we want to inspect them. This is done with the `return_intermediate_steps` variable."
   ]
  },
  {
   "cell_type": "code",
   "execution_count": 18,
   "id": "3396a773",
   "metadata": {},
   "outputs": [],
   "source": [
    "chain = load_qa_with_sources_chain(OpenAI(temperature=0), chain_type=\"refine\", return_intermediate_steps=True)"
   ]
  },
  {
   "cell_type": "code",
   "execution_count": 19,
   "id": "be5739ef",
   "metadata": {},
   "outputs": [
    {
     "data": {
      "text/plain": [
       "{'intermediate_steps': ['\\nThe president said that he was honoring Justice Breyer for his dedication to serving the country and that he was a retiring Justice of the United States Supreme Court. He also thanked Justice Breyer for his service.',\n",
       "  '\\n\\nThe president said that he was honoring Justice Breyer for his dedication to serving the country and that he was a retiring Justice of the United States Supreme Court. He also thanked Justice Breyer for his service, noting his background as a top litigator in private practice, a former federal public defender, and a family of public school educators and police officers. He praised Justice Breyer for being a consensus builder and for receiving a broad range of support from the Fraternal Order of Police to former judges appointed by Democrats and Republicans. He also noted that in order to advance liberty and justice, it was necessary to secure the border and fix the immigration system, and that the government was taking steps to do both. \\n\\nSource: 31',\n",
       "  '\\n\\nThe president said that he was honoring Justice Breyer for his dedication to serving the country and that he was a retiring Justice of the United States Supreme Court. He also thanked Justice Breyer for his service, noting his background as a top litigator in private practice, a former federal public defender, and a family of public school educators and police officers. He praised Justice Breyer for being a consensus builder and for receiving a broad range of support from the Fraternal Order of Police to former judges appointed by Democrats and Republicans. He also noted that in order to advance liberty and justice, it was necessary to secure the border and fix the immigration system, and that the government was taking steps to do both. He also mentioned the need to pass the bipartisan Equality Act to protect LGBTQ+ Americans, and to strengthen the Violence Against Women Act that he had written three decades ago. \\n\\nSource: 31, 33',\n",
       "  '\\n\\nThe president said that he was honoring Justice Breyer for his dedication to serving the country and that he was a retiring Justice of the United States Supreme Court. He also thanked Justice Breyer for his service, noting his background as a top litigator in private practice, a former federal public defender, and a family of public school educators and police officers. He praised Justice Breyer for being a consensus builder and for receiving a broad range of support from the Fraternal Order of Police to former judges appointed by Democrats and Republicans. He also noted that in order to advance liberty and justice, it was necessary to secure the border and fix the immigration system, and that the government was taking steps to do both. He also mentioned the need to pass the bipartisan Equality Act to protect LGBTQ+ Americans, and to strengthen the Violence Against Women Act that he had written three decades ago. Additionally, he mentioned his plan to lower costs to give families a fair shot, lower the deficit, and go after criminals who stole billions in relief money meant for small businesses and millions of Americans. He also announced that the Justice Department will name a chief prosecutor for pandemic fraud. \\n\\nSource: 20, 31, 33'],\n",
       " 'output_text': '\\n\\nThe president said that he was honoring Justice Breyer for his dedication to serving the country and that he was a retiring Justice of the United States Supreme Court. He also thanked Justice Breyer for his service, noting his background as a top litigator in private practice, a former federal public defender, and a family of public school educators and police officers. He praised Justice Breyer for being a consensus builder and for receiving a broad range of support from the Fraternal Order of Police to former judges appointed by Democrats and Republicans. He also noted that in order to advance liberty and justice, it was necessary to secure the border and fix the immigration system, and that the government was taking steps to do both. He also mentioned the need to pass the bipartisan Equality Act to protect LGBTQ+ Americans, and to strengthen the Violence Against Women Act that he had written three decades ago. Additionally, he mentioned his plan to lower costs to give families a fair shot, lower the deficit, and go after criminals who stole billions in relief money meant for small businesses and millions of Americans. He also announced that the Justice Department will name a chief prosecutor for pandemic fraud. \\n\\nSource: 20, 31, 33'}"
      ]
     },
     "execution_count": 19,
     "metadata": {},
     "output_type": "execute_result"
    }
   ],
   "source": [
    "chain({\"input_documents\": docs, \"question\": query}, return_only_outputs=True)"
   ]
  },
  {
   "cell_type": "markdown",
   "id": "cf08c8a1",
   "metadata": {},
   "source": [
    "**Custom Prompts**\n",
    "\n",
    "You can also use your own prompts with this chain. In this example, we will respond in Italian."
   ]
  },
  {
   "cell_type": "code",
   "execution_count": 9,
   "id": "97e33bd9",
   "metadata": {},
   "outputs": [],
   "source": [
    "refine_template = (\n",
    "    \"The original question is as follows: {question}\\n\"\n",
    "    \"We have provided an existing answer, including sources: {existing_answer}\\n\"\n",
    "    \"We have the opportunity to refine the existing answer\"\n",
    "    \"(only if needed) with some more context below.\\n\"\n",
    "    \"------------\\n\"\n",
    "    \"{context_str}\\n\"\n",
    "    \"------------\\n\"\n",
    "    \"Given the new context, refine the original answer to better \"\n",
    "    \"answer the question (in Italian)\"\n",
    "    \"If you do update it, please update the sources as well. \"\n",
    "    \"If the context isn't useful, return the original answer.\"\n",
    ")\n",
    "refine_prompt = PromptTemplate(\n",
    "    input_variables=[\"question\", \"existing_answer\", \"context_str\"],\n",
    "    template=refine_template,\n",
    ")\n",
    "\n",
    "\n",
    "question_template = (\n",
    "    \"Context information is below. \\n\"\n",
    "    \"---------------------\\n\"\n",
    "    \"{context_str}\"\n",
    "    \"\\n---------------------\\n\"\n",
    "    \"Given the context information and not prior knowledge, \"\n",
    "    \"answer the question in Italian: {question}\\n\"\n",
    ")\n",
    "question_prompt = PromptTemplate(\n",
    "    input_variables=[\"context_str\", \"question\"], template=question_template\n",
    ")"
   ]
  },
  {
   "cell_type": "code",
   "execution_count": 10,
   "id": "41565992",
   "metadata": {},
   "outputs": [
    {
     "data": {
      "text/plain": [
       "{'intermediate_steps': ['\\nIl presidente ha detto che Justice Breyer ha dedicato la sua vita al servizio di questo paese e ha onorato la sua carriera.',\n",
       "  \"\\n\\nIl presidente ha detto che Justice Breyer ha dedicato la sua vita al servizio di questo paese, ha onorato la sua carriera e ha contribuito a costruire un consenso. Ha ricevuto un ampio sostegno, dall'Ordine Fraterno della Polizia a ex giudici nominati da democratici e repubblicani. Inoltre, ha sottolineato l'importanza di avanzare la libertà e la giustizia attraverso la sicurezza delle frontiere e la risoluzione del sistema di immigrazione. Ha anche menzionato le nuove tecnologie come scanner all'avanguardia per rilevare meglio il traffico di droga, le pattuglie congiunte con Messico e Guatemala per catturare più trafficanti di esseri umani, l'istituzione di giudici di immigrazione dedicati per far sì che le famiglie che fuggono da per\",\n",
       "  \"\\n\\nIl presidente ha detto che Justice Breyer ha dedicato la sua vita al servizio di questo paese, ha onorato la sua carriera e ha contribuito a costruire un consenso. Ha ricevuto un ampio sostegno, dall'Ordine Fraterno della Polizia a ex giudici nominati da democratici e repubblicani. Inoltre, ha sottolineato l'importanza di avanzare la libertà e la giustizia attraverso la sicurezza delle frontiere e la risoluzione del sistema di immigrazione. Ha anche menzionato le nuove tecnologie come scanner all'avanguardia per rilevare meglio il traffico di droga, le pattuglie congiunte con Messico e Guatemala per catturare più trafficanti di esseri umani, l'istituzione di giudici di immigrazione dedicati per far sì che le famiglie che fuggono da per\",\n",
       "  \"\\n\\nIl presidente ha detto che Justice Breyer ha dedicato la sua vita al servizio di questo paese, ha onorato la sua carriera e ha contribuito a costruire un consenso. Ha ricevuto un ampio sostegno, dall'Ordine Fraterno della Polizia a ex giudici nominati da democratici e repubblicani. Inoltre, ha sottolineato l'importanza di avanzare la libertà e la giustizia attraverso la sicurezza delle frontiere e la risoluzione del sistema di immigrazione. Ha anche menzionato le nuove tecnologie come scanner all'avanguardia per rilevare meglio il traffico di droga, le pattuglie congiunte con Messico e Guatemala per catturare più trafficanti di esseri umani, l'istituzione di giudici di immigrazione dedicati per far sì che le famiglie che fuggono da per\"],\n",
       " 'output_text': \"\\n\\nIl presidente ha detto che Justice Breyer ha dedicato la sua vita al servizio di questo paese, ha onorato la sua carriera e ha contribuito a costruire un consenso. Ha ricevuto un ampio sostegno, dall'Ordine Fraterno della Polizia a ex giudici nominati da democratici e repubblicani. Inoltre, ha sottolineato l'importanza di avanzare la libertà e la giustizia attraverso la sicurezza delle frontiere e la risoluzione del sistema di immigrazione. Ha anche menzionato le nuove tecnologie come scanner all'avanguardia per rilevare meglio il traffico di droga, le pattuglie congiunte con Messico e Guatemala per catturare più trafficanti di esseri umani, l'istituzione di giudici di immigrazione dedicati per far sì che le famiglie che fuggono da per\"}"
      ]
     },
     "execution_count": 10,
     "metadata": {},
     "output_type": "execute_result"
    }
   ],
   "source": [
    "chain = load_qa_with_sources_chain(OpenAI(temperature=0), chain_type=\"refine\", return_intermediate_steps=True, question_prompt=question_prompt, refine_prompt=refine_prompt)\n",
    "chain({\"input_documents\": docs, \"question\": query}, return_only_outputs=True)"
   ]
  },
  {
   "cell_type": "markdown",
   "id": "07ff756e",
   "metadata": {},
   "source": [
    "## The `map-rerank` Chain\n",
    "\n",
    "This sections shows results of using the `map-rerank` Chain to do question answering with sources."
   ]
  },
  {
   "cell_type": "code",
   "execution_count": 10,
   "id": "46b52ef9",
   "metadata": {},
   "outputs": [],
   "source": [
    "chain = load_qa_with_sources_chain(OpenAI(temperature=0), chain_type=\"map_rerank\", metadata_keys=['source'], return_intermediate_steps=True)"
   ]
  },
  {
   "cell_type": "code",
   "execution_count": 11,
   "id": "7ce2da04",
   "metadata": {},
   "outputs": [],
   "source": [
    "query = \"What did the president say about Justice Breyer\"\n",
    "result = chain({\"input_documents\": docs, \"question\": query}, return_only_outputs=True)"
   ]
  },
  {
   "cell_type": "code",
   "execution_count": 12,
   "id": "cbdcd3c5",
   "metadata": {},
   "outputs": [
    {
     "data": {
      "text/plain": [
       "' The President thanked Justice Breyer for his service and honored him for dedicating his life to serve the country.'"
      ]
     },
     "execution_count": 12,
     "metadata": {},
     "output_type": "execute_result"
    }
   ],
   "source": [
    "result[\"output_text\"]"
   ]
  },
  {
   "cell_type": "code",
   "execution_count": 14,
   "id": "6f0b3d03",
   "metadata": {},
   "outputs": [
    {
     "data": {
      "text/plain": [
       "[{'answer': ' The President thanked Justice Breyer for his service and honored him for dedicating his life to serve the country.',\n",
       "  'score': '100'},\n",
       " {'answer': ' This document does not answer the question', 'score': '0'},\n",
       " {'answer': ' This document does not answer the question', 'score': '0'},\n",
       " {'answer': ' This document does not answer the question', 'score': '0'}]"
      ]
     },
     "execution_count": 14,
     "metadata": {},
     "output_type": "execute_result"
    }
   ],
   "source": [
    "result[\"intermediate_steps\"]"
   ]
  },
  {
   "cell_type": "markdown",
   "id": "b94bfeb6",
   "metadata": {},
   "source": [
    "**Custom Prompts**\n",
    "\n",
    "You can also use your own prompts with this chain. In this example, we will respond in Italian."
   ]
  },
  {
   "cell_type": "code",
   "execution_count": 11,
   "id": "cb46ba3f",
   "metadata": {},
   "outputs": [],
   "source": [
    "from langchain.output_parsers import RegexParser\n",
    "\n",
    "output_parser = RegexParser(\n",
    "    regex=r\"(.*?)\\nScore: (.*)\",\n",
    "    output_keys=[\"answer\", \"score\"],\n",
    ")\n",
    "\n",
    "prompt_template = \"\"\"Use the following pieces of context to answer the question at the end. If you don't know the answer, just say that you don't know, don't try to make up an answer.\n",
    "\n",
    "In addition to giving an answer, also return a score of how fully it answered the user's question. This should be in the following format:\n",
    "\n",
    "Question: [question here]\n",
    "Helpful Answer In Italian: [answer here]\n",
    "Score: [score between 0 and 100]\n",
    "\n",
    "Begin!\n",
    "\n",
    "Context:\n",
    "---------\n",
    "{context}\n",
    "---------\n",
    "Question: {question}\n",
    "Helpful Answer In Italian:\"\"\"\n",
    "PROMPT = PromptTemplate(\n",
    "    template=prompt_template,\n",
    "    input_variables=[\"context\", \"question\"],\n",
    "    output_parser=output_parser,\n",
    ")\n",
    "chain = load_qa_with_sources_chain(OpenAI(temperature=0), chain_type=\"map_rerank\", metadata_keys=['source'], return_intermediate_steps=True, prompt=PROMPT)\n",
    "query = \"What did the president say about Justice Breyer\"\n",
    "result = chain({\"input_documents\": docs, \"question\": query}, return_only_outputs=True)"
   ]
  },
  {
   "cell_type": "code",
   "execution_count": 12,
   "id": "fee7b055",
   "metadata": {},
   "outputs": [
    {
     "data": {
      "text/plain": [
       "{'source': 30,\n",
       " 'intermediate_steps': [{'answer': ' Il presidente ha detto che Justice Breyer ha dedicato la sua vita a servire questo paese e ha onorato la sua carriera.',\n",
       "   'score': '100'},\n",
       "  {'answer': ' Il presidente non ha detto nulla sulla Giustizia Breyer.',\n",
       "   'score': '100'},\n",
       "  {'answer': ' Non so.', 'score': '0'},\n",
       "  {'answer': ' Il presidente non ha detto nulla sulla giustizia Breyer.',\n",
       "   'score': '100'}],\n",
       " 'output_text': ' Il presidente ha detto che Justice Breyer ha dedicato la sua vita a servire questo paese e ha onorato la sua carriera.'}"
      ]
     },
     "execution_count": 12,
     "metadata": {},
     "output_type": "execute_result"
    }
   ],
   "source": [
    "result"
   ]
  },
  {
   "cell_type": "code",
   "execution_count": null,
   "id": "5a51c987",
   "metadata": {},
   "outputs": [],
   "source": []
  }
 ],
 "metadata": {
  "kernelspec": {
   "display_name": "Python 3 (ipykernel)",
   "language": "python",
   "name": "python3"
  },
  "language_info": {
   "codemirror_mode": {
    "name": "ipython",
    "version": 3
   },
   "file_extension": ".py",
   "mimetype": "text/x-python",
   "name": "python",
   "nbconvert_exporter": "python",
   "pygments_lexer": "ipython3",
   "version": "3.8.16"
  },
  "vscode": {
   "interpreter": {
    "hash": "b1677b440931f40d89ef8be7bf03acb108ce003de0ac9b18e8d43753ea2e7103"
   }
  }
 },
 "nbformat": 4,
 "nbformat_minor": 5
}
