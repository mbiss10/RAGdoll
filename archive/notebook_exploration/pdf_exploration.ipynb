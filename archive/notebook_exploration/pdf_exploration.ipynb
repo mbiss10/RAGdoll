{
 "cells": [
  {
   "cell_type": "markdown",
   "id": "74148cee",
   "metadata": {},
   "source": [
    "# CS Course Data Prep"
   ]
  },
  {
   "cell_type": "markdown",
   "id": "ca2f0efc",
   "metadata": {},
   "source": [
    "## Prepare Data"
   ]
  },
  {
   "cell_type": "code",
   "execution_count": null,
   "id": "7e25f20f",
   "metadata": {},
   "outputs": [],
   "source": [
    "data_path = \"./data/csci.pdf\""
   ]
  },
  {
   "cell_type": "markdown",
   "id": "7658a8bd",
   "metadata": {},
   "source": [
    "### Inference using high-res strategy"
   ]
  },
  {
   "cell_type": "code",
   "execution_count": null,
   "id": "4da195a3",
   "metadata": {},
   "outputs": [],
   "source": [
    "from unstructured.partition.pdf import partition_pdf\n",
    "\n",
    "# Returns a List[Element] present in the pages of the parsed pdf document\n",
    "elements = partition_pdf(data_path)"
   ]
  },
  {
   "cell_type": "code",
   "execution_count": null,
   "id": "2dcffa9b",
   "metadata": {},
   "outputs": [],
   "source": [
    "for element in elements[:100]:\n",
    "    print(element, \"\\n\\n\")"
   ]
  },
  {
   "cell_type": "markdown",
   "id": "dc836532",
   "metadata": {},
   "source": [
    "### Explore layout"
   ]
  },
  {
   "cell_type": "code",
   "execution_count": null,
   "id": "21e56c48",
   "metadata": {},
   "outputs": [],
   "source": [
    "from unstructured_inference.inference.layout import DocumentLayout\n",
    "\n",
    "layout = DocumentLayout.from_file(data_path)"
   ]
  },
  {
   "cell_type": "code",
   "execution_count": null,
   "id": "e11e099e",
   "metadata": {},
   "outputs": [],
   "source": [
    "layout.pages[0].elements[0]"
   ]
  },
  {
   "cell_type": "code",
   "execution_count": null,
   "id": "748983d0",
   "metadata": {},
   "outputs": [],
   "source": [
    "for page in layout.pages:\n",
    "    for el in page.elements:\n",
    "        print(el.type)\n",
    "        print(el.text)\n",
    "        print(\"____\\n\")"
   ]
  },
  {
   "cell_type": "markdown",
   "id": "0b455a48",
   "metadata": {},
   "source": [
    "### Try fast strategy"
   ]
  },
  {
   "cell_type": "code",
   "execution_count": null,
   "id": "764cb9c6",
   "metadata": {},
   "outputs": [],
   "source": [
    "elements_fast = partition_pdf(data_path, strategy=\"fast\")"
   ]
  },
  {
   "cell_type": "code",
   "execution_count": null,
   "id": "d0f1c7e9",
   "metadata": {},
   "outputs": [],
   "source": [
    "for element in elements_fast:\n",
    "#     print(type(element))\n",
    "    print(element, \"\")"
   ]
  },
  {
   "cell_type": "markdown",
   "id": "6f855b67",
   "metadata": {},
   "source": [
    "### PDFMiner"
   ]
  },
  {
   "cell_type": "code",
   "execution_count": null,
   "id": "507ca19d",
   "metadata": {},
   "outputs": [],
   "source": [
    "from pdfminer.high_level import extract_text\n",
    "from io import StringIO\n",
    "from pdfminer.high_level import extract_text_to_fp\n",
    "from pdfminer.layout import LAParams"
   ]
  },
  {
   "cell_type": "code",
   "execution_count": null,
   "id": "f6f03cc2",
   "metadata": {},
   "outputs": [],
   "source": [
    "output_string = StringIO()\n",
    "with open('samples/simple1.pdf', 'rb') as fin:\n",
    "    extract_text_to_fp(fin, output_string, laparams=LAParams(),\n",
    "    output_type='html', codec=None)"
   ]
  },
  {
   "cell_type": "code",
   "execution_count": null,
   "id": "a03ff234",
   "metadata": {},
   "outputs": [],
   "source": [
    "text"
   ]
  },
  {
   "cell_type": "code",
   "execution_count": null,
   "id": "84cce2f7",
   "metadata": {},
   "outputs": [],
   "source": [
    "import json\n",
    "\n",
    "cs_courses = None\n",
    "\n",
    "with open(\"./data/courses.json\", \"r\") as f:\n",
    "    course_dict = json.load(f)\n",
    "    courses = course_dict[\"courses\"]\n",
    "    \n",
    "    print(f\"Found info on {len(courses)} courses\")\n",
    "    \n",
    "    cs_courses = [course for course in courses if course[\"department\"] == \"CSCI\"]"
   ]
  },
  {
   "cell_type": "code",
   "execution_count": null,
   "id": "97276936",
   "metadata": {},
   "outputs": [],
   "source": [
    "# cs_courses"
   ]
  }
 ],
 "metadata": {
  "kernelspec": {
   "display_name": "Python 3 (ipykernel)",
   "language": "python",
   "name": "python3"
  },
  "language_info": {
   "codemirror_mode": {
    "name": "ipython",
    "version": 3
   },
   "file_extension": ".py",
   "mimetype": "text/x-python",
   "name": "python",
   "nbconvert_exporter": "python",
   "pygments_lexer": "ipython3",
   "version": "3.8.16"
  },
  "vscode": {
   "interpreter": {
    "hash": "b1677b440931f40d89ef8be7bf03acb108ce003de0ac9b18e8d43753ea2e7103"
   }
  }
 },
 "nbformat": 4,
 "nbformat_minor": 5
}
