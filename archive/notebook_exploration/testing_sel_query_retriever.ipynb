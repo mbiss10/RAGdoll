{
 "cells": [
  {
   "cell_type": "code",
   "execution_count": 42,
   "id": "e2af39dd",
   "metadata": {},
   "outputs": [],
   "source": [
    "from dotenv import load_dotenv\n",
    "import pickle\n",
    "import os\n",
    "from langchain.retrievers import TFIDFRetriever\n",
    "from langchain.schema import Document"
   ]
  },
  {
   "cell_type": "code",
   "execution_count": 43,
   "id": "20403897",
   "metadata": {},
   "outputs": [],
   "source": [
    "load_dotenv()\n",
    "API_KEY = os.getenv('OPENAI_API_KEY')\n",
    "os.environ[\"OPENAI_API_KEY\"] = API_KEY"
   ]
  },
  {
   "cell_type": "code",
   "execution_count": 44,
   "id": "12fb6491",
   "metadata": {},
   "outputs": [],
   "source": [
    "db = None\n",
    "with open(\"../../data/dev/db_cs_with_sources.pkl\", \"rb\") as f:\n",
    "    db = pickle.load(f)"
   ]
  },
  {
   "cell_type": "code",
   "execution_count": 59,
   "id": "789c178d",
   "metadata": {},
   "outputs": [],
   "source": [
    "query = \"On what days does Deep Learning meet?\"\n",
    "res = db.similarity_search_with_relevance_scores(query, k=12) # score_threshold"
   ]
  },
  {
   "cell_type": "code",
   "execution_count": null,
   "id": "3f2c77b0",
   "metadata": {},
   "outputs": [],
   "source": [
    "res"
   ]
  },
  {
   "cell_type": "code",
   "execution_count": 68,
   "id": "a5bb144c",
   "metadata": {},
   "outputs": [],
   "source": [
    "query = \"On what days does Deep Learning meet?\"\n",
    "res = db.search(query, k=12, search_type=\"mmr\") # score_threshold"
   ]
  },
  {
   "cell_type": "code",
   "execution_count": 69,
   "id": "dc59b026",
   "metadata": {},
   "outputs": [
    {
     "data": {
      "text/plain": [
       "[Document(page_content=\"CSCI 381 (Deep Learning) Section 01 year: 2024, semester: Spring, courseID: 022329, sectionType: in-person, peoplesoftNumber: 3244, classType: Lecture, instructors: [{'id': 13529, 'name': 'Mark Hopkins'}], meetings: [{'days': 'MWF', 'start': '11:00', 'end': '11:50', 'facility': ''}]\\n\", metadata={'source': 'https://catalog.williams.edu/csci/detail/?strm=&cn=381&crsid=022329&req_year=0'}),\n",
       " Document(page_content=\"CSCI 374 (Machine Learning) classReqEval: Presentations, problem sets, programming exercises, empirical analyses of algorithms, critical analysis of current literature; the final two weeks are focused on a project of the student's design.\\n\", metadata={'source': 'https://catalog.williams.edu/csci/detail/?strm=&cn=374&crsid=017427&req_year=0'}),\n",
       " Document(page_content='CSCI 381 (Deep Learning) prereqs: CSCI 136 and fulfillment of the Discrete Mathematics Proficiency requirement\\n', metadata={'source': 'https://catalog.williams.edu/csci/detail/?strm=&cn=381&crsid=022329&req_year=0'}),\n",
       " Document(page_content='CSCI 381 (Deep Learning) gradingBasisDesc: No Pass/Fail and No Fifth Course\\n', metadata={'source': 'https://catalog.williams.edu/csci/detail/?strm=&cn=381&crsid=022329&req_year=0'}),\n",
       " Document(page_content='CSCI 381 (Deep Learning) descriptionSearch: This course is an introduction to deep neural networks and how to train them. Beginning with the fundamentals of regression and optimization, the course then surveys a variety of neural network architectures, which may include multilayer feedforward neural networks, convolutional neural networks, recurrent neural networks, and transformer networks. Students will also learn how to use deep learning software such as PyTorch or Tensorflow.\\n', metadata={'source': 'https://catalog.williams.edu/csci/detail/?strm=&cn=381&crsid=022329&req_year=0'}),\n",
       " Document(page_content=\"CSCI 381 (Deep Learning) classFormat: , extraInfo: , crossListing: ['CSCI 381'], components: ['Lecture'], departmentNotes: \\n\", metadata={'source': 'https://catalog.williams.edu/csci/detail/?strm=&cn=381&crsid=022329&req_year=0'}),\n",
       " Document(page_content='CSCI 381 (Deep Learning) enrolmentPreferences: Current or expected Computer Science majors\\n', metadata={'source': 'https://catalog.williams.edu/csci/detail/?strm=&cn=381&crsid=022329&req_year=0'}),\n",
       " Document(page_content='CSCI 374 (Machine Learning) prereqs: CSCI 136 and CSCI 256 or permission of instructor\\n', metadata={'source': 'https://catalog.williams.edu/csci/detail/?strm=&cn=374&crsid=017427&req_year=0'}),\n",
       " Document(page_content=\"CSCI 345 (Robotics And Digital Fabrication) Section 02 year: 2024, semester: Spring, courseID: 022328, sectionType: in-person, peoplesoftNumber: 3207, classType: Laboratory, instructors: [{'id': 13530, 'name': 'James M. Bern'}], meetings: [{'days': 'T', 'start': '13:00', 'end': '14:30', 'facility': ''}]\\n\", metadata={'source': 'https://catalog.williams.edu/csci/detail/?strm=&cn=345&crsid=022328&req_year=0'}),\n",
       " Document(page_content=\"CSCI 378 (Human Artificial Intelligence Interaction) Section 01 year: 2024, semester: Spring, courseID: 021759, sectionType: in-person, peoplesoftNumber: 3241, classType: Lecture, instructors: [{'id': 9479, 'name': 'Iris Howley'}], meetings: [{'days': 'TF', 'start': '13:10', 'end': '14:25', 'facility': ''}]\\n\", metadata={'source': 'https://catalog.williams.edu/csci/detail/?strm=&cn=378&crsid=021759&req_year=0'}),\n",
       " Document(page_content=\"CSCI 374 (Machine Learning) Section 02 year: 2024, semester: Fall, courseID: 017427, sectionType: in-person, peoplesoftNumber: 1205, classType: Lecture, instructors: [{'id': 12780, 'name': 'Rohit Bhattacharya'}], meetings: [{'days': 'MR', 'start': '14:35', 'end': '15:50', 'facility': ''}]\\n\", metadata={'source': 'https://catalog.williams.edu/csci/detail/?strm=&cn=374&crsid=017427&req_year=0'}),\n",
       " Document(page_content=\"CSCI 381 (Deep Learning) Section 02 year: 2024, semester: Spring, courseID: 022329, sectionType: in-person, peoplesoftNumber: 3932, classType: Lecture, instructors: [{'id': 13529, 'name': 'Mark Hopkins'}], meetings: [{'days': 'MWF', 'start': '12:00', 'end': '12:50', 'facility': ''}]\\n\", metadata={'source': 'https://catalog.williams.edu/csci/detail/?strm=&cn=381&crsid=022329&req_year=0'})]"
      ]
     },
     "execution_count": 69,
     "metadata": {},
     "output_type": "execute_result"
    }
   ],
   "source": [
    "res"
   ]
  },
  {
   "cell_type": "raw",
   "id": "324aebf2",
   "metadata": {},
   "source": [
    "query = \"Which philosophy courses are prereqs for CS 256?\"\n",
    "res = db.similarity_search_with_relevance_scores(query, k=12, score_threshold=0.75)"
   ]
  },
  {
   "cell_type": "code",
   "execution_count": 65,
   "id": "3cb55ca2",
   "metadata": {},
   "outputs": [
    {
     "data": {
      "text/plain": [
       "[(Document(page_content='CSCI 361 (Theory Of Computation) prereqs: CSCI 256 or both a 300-level MATH course and permission of instructor\\n', metadata={'source': 'https://catalog.williams.edu/csci/detail/?strm=&cn=361&crsid=010814&req_year=0'}),\n",
       "  0.8150098322326814),\n",
       " (Document(page_content='MAJOR REQUIREMENTS Core Courses: Computer Science 237 Computer Organization, Computer Science 256 Algorithm Design and Analysis, Computer Science 334 Principles of Programming Languages, Computer Science 361 Theory of Computation \\n', metadata={'source': 'https://catalog.williams.edu/pdf/csci.pdf'}),\n",
       "  0.8128031496851965),\n",
       " (Document(page_content='MAJOR REQUIREMENTS Introductory Courses: Computer Science 134 Introduction to Computer Science, Computer Science 136 Data Structures and Advanced Programming \\n', metadata={'source': 'https://catalog.williams.edu/pdf/csci.pdf'}),\n",
       "  0.8122888106193938),\n",
       " (Document(page_content='CSCI 256 (Algorithm Design And Analysis) prereqs: CSCI 136 and fulfillment of the Discrete Mathematics Proficiency requirement\\n', metadata={'source': 'https://catalog.williams.edu/csci/detail/?strm=&cn=256&crsid=010806&req_year=0'}),\n",
       "  0.8116131755643399),\n",
       " (Document(page_content='CSCI 136 (Data Structures And Advanced Programming) prereqs: CSCI 134 or equivalent; fulfilling the Discrete Mathematics Proficiency requirement is recommended, but not required\\n', metadata={'source': 'https://catalog.williams.edu/csci/detail/?strm=&cn=136&crsid=010803&req_year=0'}),\n",
       "  0.79826214977415),\n",
       " (Document(page_content='To be eligible for admission to the major, a student must have completed at least two Computer Science courses, including Computer Science 136, as well as fulfilled the Discrete Mathematics Proficiency Requirement by the end of the sophomore year. A Mathematics course at the 200-level or higher (except for MATH 200) must be completed by the end of the junior year. Students are urged to have completed two of the four core courses (Computer Science 237, 256, 334, and 361) by the end of the sophomore year and must normally have completed at least three out of the four core courses by the end of the junior year.\\n', metadata={'source': 'https://catalog.williams.edu/pdf/csci.pdf'}),\n",
       "  0.7947688082353246),\n",
       " (Document(page_content='INTRODUCTORY COURSES: Computer Science 134 provides an introduction to computer science with a focus on developing computer programming skills. These skills are essential to most upper-level courses in the department. As a result, Computer Science 134 together with Computer Science 136, are required as a prerequisite to most advanced courses in the department. Those students intending to take several Computer Science courses are urged to take 134 early.\\n', metadata={'source': 'https://catalog.williams.edu/pdf/csci.pdf'}),\n",
       "  0.793201177278386),\n",
       " (Document(page_content='CSCI 334 (Principles Of Programming Languages) prereqs: CSCI 136\\n', metadata={'source': 'https://catalog.williams.edu/csci/detail/?strm=&cn=334&crsid=010808&req_year=0'}),\n",
       "  0.7887330634272007),\n",
       " (Document(page_content='CSCI 381 (Deep Learning) prereqs: CSCI 136 and fulfillment of the Discrete Mathematics Proficiency requirement\\n', metadata={'source': 'https://catalog.williams.edu/csci/detail/?strm=&cn=381&crsid=022329&req_year=0'}),\n",
       "  0.7882365735517424),\n",
       " (Document(page_content='INTRODUCTORY COURSES: Students with significant programming experience should consider electing Computer Science 136 (see “Advanced Placement” below). Please see https://csci.williams.edu/placement-for-introductory-computer-science-classes/ for a more details on selecting among our classes.\\n', metadata={'source': 'https://catalog.williams.edu/pdf/csci.pdf'}),\n",
       "  0.7860913621828106),\n",
       " (Document(page_content='CSCI 237 (Computer Organization) prereqs: CSCI 136\\n', metadata={'source': 'https://catalog.williams.edu/csci/detail/?strm=&cn=237&crsid=010805&req_year=0'}),\n",
       "  0.7854700754889115),\n",
       " (Document(page_content='CSCI 134 (Introduction To Computer Science) prereqs: None, except for the standard prerequisites for a (QFR) course; previous programming experience is not required\\n', metadata={'source': 'https://catalog.williams.edu/csci/detail/?strm=&cn=134&crsid=010801&req_year=0'}),\n",
       "  0.7845063245774372)]"
      ]
     },
     "execution_count": 65,
     "metadata": {},
     "output_type": "execute_result"
    }
   ],
   "source": [
    "res"
   ]
  },
  {
   "cell_type": "code",
   "execution_count": 66,
   "id": "6a232080",
   "metadata": {},
   "outputs": [],
   "source": [
    "query = \"How many computer labs does the Computer Science Department have?\"\n",
    "res = db.similarity_search_with_relevance_scores(query, k=12, score_threshold=0.75)"
   ]
  },
  {
   "cell_type": "code",
   "execution_count": 67,
   "id": "d5aae6ba",
   "metadata": {},
   "outputs": [
    {
     "data": {
      "text/plain": [
       "[(Document(page_content='LABORATORY FACILITIES: The Computer Science Department maintains five departmental computer laboratories for students taking Computer Science courses, as well as a lab that can be configured for teaching specialized topics such as robotics. The workstations in these laboratories also support student and faculty research in computer science.\\n', metadata={'source': 'https://catalog.williams.edu/pdf/csci.pdf'}),\n",
       "  0.861918494908609),\n",
       " (Document(page_content='INTRODUCTORY COURSES: The department offers a choice of introductory courses; Computer Science 102 The Socio-Techno Web, 103 Electronic Textiles, 104 Data Science and Computation for All, and 134 Introduction to Computer Science.\\n', metadata={'source': 'https://catalog.williams.edu/pdf/csci.pdf'}),\n",
       "  0.7952909866149502),\n",
       " (Document(page_content='Alternate Year Courses: Computer Science 102, 103, 104, and our electives are each usually offered at least every other year. All other Computer Science courses are normally offered every year.\\n', metadata={'source': 'https://catalog.williams.edu/pdf/csci.pdf'}),\n",
       "  0.7922449074325224),\n",
       " (Document(page_content='We encourage students to be intellectually engaged in our field beyond the formal structure of courses. As such, all computer science majors must attend at least twenty Computer Science colloquia. Juniors and seniors are encouraged to attend at least five during each semester they are present on campus. Prospective majors in their first and second years are also encouraged to attend. A student studying away on a program approved by the International Education and Study Away Office will receive four colloquium credits for each semester away, up to a total of eight credits.\\n', metadata={'source': 'https://catalog.williams.edu/pdf/csci.pdf'}),\n",
       "  0.7897206694549321),\n",
       " (Document(page_content='COMPUTER SCIENCE (Div III) \\n', metadata={'source': 'https://catalog.williams.edu/pdf/csci.pdf'}),\n",
       "  0.7826255214626385),\n",
       " (Document(page_content='Elective Courses: Two or more electives (bringing the total number of Computer Science courses to at least 8) chosen from 300- or 400-level courses in Computer Science. Computer Science courses with 9 as the middle digit (reading, research, and thesis courses) will normally not be used to satisfy the elective requirements. Students may petition the department to waive this restriction with good reason.\\n', metadata={'source': 'https://catalog.williams.edu/pdf/csci.pdf'}),\n",
       "  0.7817746187380521),\n",
       " (Document(page_content='The department recognizes that students’ interests in computer science will vary widely. The department attempts to meet these varying interests through: (1) the major; (2) a selection of courses intended for those who are interested primarily in an introduction to computer science; (3) recommended course sequences for the non-major who wants a more extensive introduction to computer science in general or who seeks to develop some specific expertise in computing for application in some other discipline. \\n', metadata={'source': 'https://catalog.williams.edu/pdf/csci.pdf'}),\n",
       "  0.7797874580510362),\n",
       " (Document(page_content='Does your department/program place restrictions on the number of major/concentration credits that a student might earn through study away? Yes. Typically no more than two CSCI courses and one Math course.\\n', metadata={'source': 'https://catalog.williams.edu/pdf/csci.pdf'}),\n",
       "  0.7704875662662891),\n",
       " (Document(page_content='Course Descriptions: Brief descriptions of the courses in Computer Science can be found below. More detailed information on the offerings in the department is available at http://www.cs.williams.edu/.\\n', metadata={'source': 'https://catalog.williams.edu/pdf/csci.pdf'}),\n",
       "  0.7662775597153844),\n",
       " (Document(page_content='INTRODUCTORY COURSES: Computer Science 134 provides an introduction to computer science with a focus on developing computer programming skills. These skills are essential to most upper-level courses in the department. As a result, Computer Science 134 together with Computer Science 136, are required as a prerequisite to most advanced courses in the department. Those students intending to take several Computer Science courses are urged to take 134 early.\\n', metadata={'source': 'https://catalog.williams.edu/pdf/csci.pdf'}),\n",
       "  0.7634002786612427),\n",
       " (Document(page_content='MAJOR REQUIREMENTS Introductory Courses: Computer Science 134 Introduction to Computer Science, Computer Science 136 Data Structures and Advanced Programming \\n', metadata={'source': 'https://catalog.williams.edu/pdf/csci.pdf'}),\n",
       "  0.7610647321244357),\n",
       " (Document(page_content='MAJOR REQUIREMENTS Core Courses: Computer Science 237 Computer Organization, Computer Science 256 Algorithm Design and Analysis, Computer Science 334 Principles of Programming Languages, Computer Science 361 Theory of Computation \\n', metadata={'source': 'https://catalog.williams.edu/pdf/csci.pdf'}),\n",
       "  0.759923163659094)]"
      ]
     },
     "execution_count": 67,
     "metadata": {},
     "output_type": "execute_result"
    }
   ],
   "source": [
    "res"
   ]
  },
  {
   "cell_type": "code",
   "execution_count": 3,
   "id": "11aa8e06",
   "metadata": {},
   "outputs": [
    {
     "name": "stderr",
     "output_type": "stream",
     "text": [
      "Using embedded DuckDB with persistence: data will be stored in: ../../data/dev/cs_courses_vectorstore\n"
     ]
    }
   ],
   "source": [
    "from langchain.vectorstores import Chroma\n",
    "from langchain.embeddings.openai import OpenAIEmbeddings\n",
    "\n",
    "embeddings = OpenAIEmbeddings()\n",
    "vectordb = Chroma(persist_directory=\"../../data/dev/cs_courses_vectorstore\", embedding_function=embeddings)"
   ]
  },
  {
   "cell_type": "code",
   "execution_count": 38,
   "id": "ec37998c",
   "metadata": {},
   "outputs": [],
   "source": [
    "from langchain.llms import OpenAI\n",
    "from langchain.retrievers.self_query.base import SelfQueryRetriever\n",
    "from langchain.chains.query_constructor.base import AttributeInfo\n",
    "\n",
    "metadata_field_info=[\n",
    "    AttributeInfo(\n",
    "        name=\"department\",\n",
    "        description=\"The academic department\", \n",
    "        type=\"string\"\n",
    "    ),\n",
    "    AttributeInfo(\n",
    "        name=\"course_number\",\n",
    "        description=\"The number that comes after the department in the course name\", \n",
    "        type=\"string\"\n",
    "    ),\n",
    "    AttributeInfo(\n",
    "        name=\"year\",\n",
    "        description=\"The year this course is being offered\", \n",
    "        type=\"string\"\n",
    "    ),\n",
    "    AttributeInfo(\n",
    "        name=\"semester\",\n",
    "        description=\"The semester this course is being offered (Fall or Spring)\", \n",
    "        type=\"string\"\n",
    "    )\n",
    "]\n",
    "\n",
    "document_content_description = \"Information about a college department's courses and sections of each course\""
   ]
  },
  {
   "cell_type": "code",
   "execution_count": 39,
   "id": "db054c46",
   "metadata": {},
   "outputs": [],
   "source": [
    "llm = OpenAI(temperature=0)\n",
    "retriever = SelfQueryRetriever.from_llm(llm, vectordb, document_content_description, metadata_field_info, verbose=True, kwargs={\"k\": 6})\n",
    "retriever.search_kwargs[\"k\"] = 6\n",
    "retriever.search_type = \"mmr\""
   ]
  },
  {
   "cell_type": "code",
   "execution_count": 40,
   "id": "56b4796e",
   "metadata": {},
   "outputs": [
    {
     "name": "stderr",
     "output_type": "stream",
     "text": [
      "Retrying langchain.llms.openai.completion_with_retry.<locals>._completion_with_retry in 4.0 seconds as it raised Timeout: Request timed out: HTTPSConnectionPool(host='api.openai.com', port=443): Read timed out. (read timeout=600).\n"
     ]
    },
    {
     "name": "stdout",
     "output_type": "stream",
     "text": [
      "query='dynamic programming' filter=Operation(operator=<Operator.AND: 'and'>, arguments=[Comparison(comparator=<Comparator.EQ: 'eq'>, attribute='department', value='CSCI'), Comparison(comparator=<Comparator.EQ: 'eq'>, attribute='year', value='2024'), Comparison(comparator=<Comparator.EQ: 'eq'>, attribute='semester', value='Fall')])\n"
     ]
    }
   ],
   "source": [
    "res = retriever.get_relevant_documents(\"Which CSCI course taught in the Fall of 2024 will teach me about dynamic programming?\")"
   ]
  },
  {
   "cell_type": "code",
   "execution_count": 41,
   "id": "50b5b969",
   "metadata": {},
   "outputs": [
    {
     "data": {
      "text/plain": [
       "[Document(page_content=\"CSCI 136: Data Structures And Advanced Programming, Section 01\\n Year: 2024, Semester: Fall, Section type: in-person, Class type: Lecture, Meetings: [{'days': 'MWF', 'start': '09:00', 'end': '09:50', 'facility': ''}], Instructors: ['James M. Bern']\", metadata={'source_url': 'https://catalog.williams.edu/csci/detail/?strm=&cn=136&crsid=010803&req_year=0', 'department': 'CSCI', 'course_number': 136, 'year': 2024, 'semester': 'Fall'}),\n",
       " Document(page_content=\"CSCI 104: Data Science And Computing For All, Section 01\\n Year: 2024, Semester: Fall, Section type: in-person, Class type: Lecture, Meetings: [{'days': 'MWF', 'start': '10:00', 'end': '10:50', 'facility': ''}], Instructors: ['Stephen N. Freund']\", metadata={'source_url': 'https://catalog.williams.edu/csci/detail/?strm=&cn=104&crsid=022117&req_year=0', 'department': 'CSCI', 'course_number': 104, 'year': 2024, 'semester': 'Fall'}),\n",
       " Document(page_content=\"CSCI 334: Principles Of Programming Languages, Section 01\\n Year: 2024, Semester: Fall, Section type: in-person, Class type: Lecture, Meetings: [{'days': 'MR', 'start': '13:10', 'end': '14:25', 'facility': ''}], Instructors: ['Daniel W. Barowy']\", metadata={'source_url': 'https://catalog.williams.edu/csci/detail/?strm=&cn=334&crsid=010808&req_year=0', 'department': 'CSCI', 'course_number': 334, 'year': 2024, 'semester': 'Fall'}),\n",
       " Document(page_content=\"CSCI 136: Data Structures And Advanced Programming, Section 04\\n Year: 2024, Semester: Fall, Section type: in-person, Class type: Laboratory, Meetings: [{'days': 'W', 'start': '14:30', 'end': '16:00', 'facility': ''}], Instructors: ['James M. Bern']\", metadata={'source_url': 'https://catalog.williams.edu/csci/detail/?strm=&cn=136&crsid=010803&req_year=0', 'department': 'CSCI', 'course_number': 136, 'year': 2024, 'semester': 'Fall'}),\n",
       " Document(page_content=\"CSCI 104: Data Science And Computing For All, Section 04\\n Year: 2024, Semester: Fall, Section type: in-person, Class type: Laboratory, Meetings: [{'days': 'M', 'start': '14:30', 'end': '16:00', 'facility': ''}], Instructors: ['Stephen N. Freund']\", metadata={'source_url': 'https://catalog.williams.edu/csci/detail/?strm=&cn=104&crsid=022117&req_year=0', 'department': 'CSCI', 'course_number': 104, 'year': 2024, 'semester': 'Fall'}),\n",
       " Document(page_content=\"CSCI 104: Data Science And Computing For All, Section 02\\n Year: 2024, Semester: Fall, Section type: in-person, Class type: Lecture, Meetings: [{'days': 'MWF', 'start': '11:00', 'end': '11:50', 'facility': ''}], Instructors: ['Katie A. Keith']\", metadata={'source_url': 'https://catalog.williams.edu/csci/detail/?strm=&cn=104&crsid=022117&req_year=0', 'department': 'CSCI', 'course_number': 104, 'year': 2024, 'semester': 'Fall'})]"
      ]
     },
     "execution_count": 41,
     "metadata": {},
     "output_type": "execute_result"
    }
   ],
   "source": [
    "res"
   ]
  },
  {
   "cell_type": "code",
   "execution_count": null,
   "id": "fbc38322",
   "metadata": {},
   "outputs": [],
   "source": []
  }
 ],
 "metadata": {
  "kernelspec": {
   "display_name": "Python [conda env:nlp-final-proj] *",
   "language": "python",
   "name": "conda-env-nlp-final-proj-py"
  },
  "language_info": {
   "codemirror_mode": {
    "name": "ipython",
    "version": 3
   },
   "file_extension": ".py",
   "mimetype": "text/x-python",
   "name": "python",
   "nbconvert_exporter": "python",
   "pygments_lexer": "ipython3",
   "version": "3.8.16"
  }
 },
 "nbformat": 4,
 "nbformat_minor": 5
}
