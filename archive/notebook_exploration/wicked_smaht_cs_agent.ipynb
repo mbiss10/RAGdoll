{
 "cells": [
  {
   "cell_type": "code",
   "execution_count": 1,
   "id": "d84ab2fb",
   "metadata": {},
   "outputs": [],
   "source": [
    "import os\n",
    "from dotenv import load_dotenv\n",
    "load_dotenv()\n",
    "\n",
    "API_KEY = os.getenv('OPENAI_API_KEY')\n",
    "os.environ[\"OPENAI_API_KEY\"] = API_KEY"
   ]
  },
  {
   "cell_type": "code",
   "execution_count": 3,
   "id": "37f363a1",
   "metadata": {},
   "outputs": [],
   "source": [
    "from langchain.embeddings.openai import OpenAIEmbeddings\n",
    "from langchain.embeddings.cohere import CohereEmbeddings\n",
    "from langchain.text_splitter import RecursiveCharacterTextSplitter, CharacterTextSplitter\n",
    "from langchain.vectorstores.elastic_vector_search import ElasticVectorSearch\n",
    "from langchain.vectorstores import Chroma\n",
    "from langchain.docstore.document import Document\n",
    "from langchain.prompts import PromptTemplate\n",
    "from langchain.vectorstores.faiss import FAISS\n",
    "from langchain.chains import ConversationalRetrievalChain\n",
    "from langchain.llms import OpenAI\n",
    "import pickle"
   ]
  },
  {
   "cell_type": "code",
   "execution_count": 15,
   "id": "ae520ff0",
   "metadata": {},
   "outputs": [],
   "source": [
    "def ask_no_history(qa, query):\n",
    "    return qa({\"question\": query, \"chat_history\": []})\n",
    "\n",
    "def ask_with_history_and_append(qa, query, history):\n",
    "    res = qa({\"question\": query, \"chat_history\": history})\n",
    "    history.append((query, res[\"answer\"]))\n",
    "    return res\n",
    "\n",
    "def pretty_print_res(query, res, include_sources=True):\n",
    "    print(f\"[USER]: {query}\")\n",
    "    print(f\"[PenDragon]: {res['answer']}\\n\")\n",
    "    print(\"[PenDragon Sources Consulted]:\")\n",
    "    \n",
    "    for idx, source in enumerate(res[\"source_documents\"]):\n",
    "        print(f\"--- [{idx+1}] {source.page_content}\")"
   ]
  },
  {
   "cell_type": "code",
   "execution_count": 4,
   "id": "cd4cd755",
   "metadata": {},
   "outputs": [],
   "source": [
    "embeddings = OpenAIEmbeddings()"
   ]
  },
  {
   "cell_type": "code",
   "execution_count": 6,
   "id": "5acc9e42",
   "metadata": {},
   "outputs": [],
   "source": [
    "db = None\n",
    "with open(\"./db_everything_ultra_processed.pkl\", \"rb\") as f:\n",
    "    db = pickle.load(f)"
   ]
  },
  {
   "cell_type": "code",
   "execution_count": 34,
   "id": "da9a10f6",
   "metadata": {},
   "outputs": [],
   "source": [
    "qa = ConversationalRetrievalChain.from_llm(\n",
    "    OpenAI(temperature=0.7),\n",
    "    db.as_retriever(search_kwargs={\"k\": 10}),\n",
    "    return_source_documents=True\n",
    ")"
   ]
  },
  {
   "cell_type": "code",
   "execution_count": 35,
   "id": "4eecded0",
   "metadata": {},
   "outputs": [],
   "source": [
    "chat_history = []"
   ]
  },
  {
   "cell_type": "code",
   "execution_count": 28,
   "id": "55411afe",
   "metadata": {},
   "outputs": [
    {
     "name": "stdout",
     "output_type": "stream",
     "text": [
      "[USER]: Which CS professors are on leave?\n",
      "[PenDragon]:  Samuel McCauley, Aaron M. Williams, and Shikha Singh are on leave.\n",
      "\n",
      "[PenDragon Sources Consulted]:\n",
      "--- [1] Samuel McCauley, Assistant Professor of Computer Science; on leave 2022-2023 \n",
      "\n",
      "--- [2] Aaron M. Williams, Associate Professor of Computer Science; on leave Spring 2023 \n",
      "\n",
      "--- [3] Shikha Singh, Assistant Professor of Computer Science; on leave 2022-2023 \n",
      "\n",
      "--- [4] Iris Howley, Assistant Professor of Computer Science \n",
      "\n",
      "--- [5] Mark Hopkins, Assistant Professor of Computer Science \n",
      "\n",
      "--- [6] Bill K. Jannen, Assistant Professor of Computer Science \n",
      "\n",
      "--- [7] Kelly A. Shaw, Professor of Computer Science \n",
      "\n",
      "--- [8] Stephen N. Freund, Chair and A. Barton Hepburn Professor of Computer Science \n",
      "\n",
      "--- [9] James M. Bern, Assistant Professor of Computer Science \n",
      "\n",
      "--- [10] Katie A. Keith, Assistant Professor of Computer Science \n",
      "\n"
     ]
    }
   ],
   "source": [
    "query = \"Which CS professors are on leave?\"\n",
    "res = ask_with_history_and_append(qa, query, chat_history)\n",
    "pretty_print_res(query, res)"
   ]
  },
  {
   "cell_type": "code",
   "execution_count": 30,
   "id": "e3f0c177",
   "metadata": {},
   "outputs": [
    {
     "name": "stdout",
     "output_type": "stream",
     "text": [
      "[USER]: What courses are they teaching in 2024?\n",
      "[PenDragon]:  Samuel McCauley will be teaching CSCI 256 Section 01 and CSCI 256 Section 02 in Spring 2024. Aaron M. Williams will be teaching CSCI 361 Section 01 and CSCI 361 Section 04 in Spring 2024. Shikha Singh will be teaching CSCI 134 Section 02 and CSCI 134 Section 03 in Spring 2024.\n",
      "\n",
      "[PenDragon Sources Consulted]:\n",
      "--- [1] Samuel McCauley, Assistant Professor of Computer Science; on leave 2022-2023 \n",
      "\n",
      "--- [2] Aaron M. Williams, Associate Professor of Computer Science; on leave Spring 2023 \n",
      "\n",
      "--- [3] Shikha Singh, Assistant Professor of Computer Science; on leave 2022-2023 \n",
      "\n",
      "--- [4] CSCI 256 Section 02 year: 2024, semester: Spring, courseID: 010806, sectionType: in-person, peoplesoftNumber: 3204, classType: Lecture, instructors: [{'id': 11194, 'name': 'Samuel McCauley'}], meetings: [{'days': 'MR', 'start': '14:35', 'end': '15:50', 'facility': ''}]\n",
      "\n",
      "--- [5] CSCI 256 Section 01 year: 2024, semester: Spring, courseID: 010806, sectionType: in-person, peoplesoftNumber: 3203, classType: Lecture, instructors: [{'id': 11194, 'name': 'Samuel McCauley'}], meetings: [{'days': 'MR', 'start': '13:10', 'end': '14:25', 'facility': ''}]\n",
      "\n",
      "--- [6] CSCI 256 Section 01 year: 2024, semester: Fall, courseID: 010806, sectionType: in-person, peoplesoftNumber: 1199, classType: Lecture, instructors: [{'id': 11181, 'name': 'Aaron M. Williams'}], meetings: [{'days': 'MWF', 'start': '12:00', 'end': '12:50', 'facility': ''}]\n",
      "\n",
      "--- [7] CSCI 134 Section 03 year: 2024, semester: Spring, courseID: 010801, sectionType: in-person, peoplesoftNumber: 3186, classType: Lecture, instructors: [{'id': 11195, 'name': 'Shikha Singh'}], meetings: [{'days': 'MWF', 'start': '11:00', 'end': '11:50', 'facility': ''}]\n",
      "\n",
      "--- [8] CSCI 361 Section 01 year: 2024, semester: Spring, courseID: 010814, sectionType: in-person, peoplesoftNumber: 3224, classType: Lecture, instructors: [{'id': 11181, 'name': 'Aaron M. Williams'}], meetings: [{'days': 'MR', 'start': '14:35', 'end': '15:50', 'facility': ''}]\n",
      "\n",
      "--- [9] CSCI 134 Section 02 year: 2024, semester: Spring, courseID: 010801, sectionType: in-person, peoplesoftNumber: 3185, classType: Lecture, instructors: [{'id': 11195, 'name': 'Shikha Singh'}], meetings: [{'days': 'MWF', 'start': '10:00', 'end': '10:50', 'facility': ''}]\n",
      "\n",
      "--- [10] CSCI 361 Section 04 year: 2024, semester: Spring, courseID: 010814, sectionType: in-person, peoplesoftNumber: 3230, classType: Conference, instructors: [{'id': 11181, 'name': 'Aaron M. Williams'}], meetings: [{'days': 'W', 'start': '13:00', 'end': '14:00', 'facility': ''}]\n",
      "\n"
     ]
    }
   ],
   "source": [
    "query = \"What courses are they teaching in 2024?\"\n",
    "res = ask_with_history_and_append(qa, query, chat_history)\n",
    "pretty_print_res(query, res)"
   ]
  },
  {
   "cell_type": "markdown",
   "id": "41cfa4fb",
   "metadata": {},
   "source": [
    "As an academic advisor at Williams College who is knowledgable various courses and majors, answer the following questions from students in a friendly and concise manner."
   ]
  },
  {
   "cell_type": "code",
   "execution_count": 33,
   "id": "1cbba1dc",
   "metadata": {},
   "outputs": [
    {
     "name": "stdout",
     "output_type": "stream",
     "text": [
      "[USER]: As an academic advisor at Williams College who is knowledgable various courses and majors, answer the following questions from students in a friendly and concise manner.\n",
      "[PenDragon]:  Hi there! If you're considering taking courses abroad for major/concentration credit, you'll need to have them pre-approved prior to going abroad. You'll need to provide course title and description, and the complete syllabus, including readings and assignments. If you're considering honors work, you'll need to obtain permission from the department before registering in the fall of your senior year. If you're considering designing a plan of study outside of your major, you can discuss your plans in detail with a member of the faculty. If you're looking for introductory courses, you can find more detailed information on the offerings in the department at http://www.cs.williams.edu/. Feel free to contact a member of the department for guidance in selecting a first course.\n",
      "\n",
      "[PenDragon Sources Consulted]:\n",
      "--- [1] INTRODUCTORY COURSES: Students are always welcome to contact a member of the department for guidance in selecting a first course.\n",
      "\n",
      "--- [2] Course Descriptions: Brief descriptions of the courses in Computer Science can be found below. More detailed information on the offerings in the department is available at http://www.cs.williams.edu/.\n",
      "\n",
      "--- [3] Give examples in which students thought or assumed that courses taken away would count toward the major or concentration and then learned they wouldn’t: Students must have courses pre-approved prior to going abroad to ensure they meet the curricular goals and standards of the department\n",
      "\n",
      "--- [4] PLANS OF STUDY FOR NON-MAJORS: There are, of course, many other alternatives. We encourage interested students to consult with the department chair or other members of the department’s faculty.\n",
      "\n",
      "--- [5] What criteria will typically be used/required to determine whether a student may receive major/concentration credit for a course taken while on study away? Course title and description, and complete syllabus, including readings and assignments.\n",
      "\n",
      "--- [6] Can your department or program typically pre-approve courses for major/concentration credit? Yes, in some cases, if appropriate course information is available in advance (e.g. syllabi and/or course descriptions), though students should be sure to contact the department.\n",
      "\n",
      "--- [7] Students MUST contact departments/programs BEFORE assuming study away credit will be granted toward the major or concentration.\n",
      "\n",
      "--- [8] Students considering honors work should obtain permission from the department before registering in the fall of the senior year. Formal admission to candidacy occurs at the beginning of the spring semester of the senior year and is based on promising performance in the fall semester and winter study units of honors work. Recommendations for the degree with honors will be made for outstanding performance in the three honors courses. Highest honors will be recommended for students who have displayed exceptional ability, achievement, or originality.\n",
      "\n",
      "--- [9] PLANS OF STUDY FOR NON-MAJORS: The faculty in Computer Science believes that students can substantially enrich their academic experience by completing a coherent plan of study in one or more disciplines outside of their majors. With this in mind, we have attempted to provide students majoring in other departments with options in our department’s curriculum ranging from two-course sequences to collections of courses equivalent to what would constitute a minor at institutions that recognize such a concentration. Students interested in designing such a plan of study are invited to discuss their plans in detail with a member of the faculty. To assist students making such plans, we include some suggestions below.\n",
      "\n",
      "--- [10] INTRODUCTORY COURSES: Students with significant programming experience should consider electing Computer Science 136 (see “Advanced Placement” below). Please see https://csci.williams.edu/placement-for-introductory-computer-science-classes/ for a more details on selecting among our classes.\n",
      "\n"
     ]
    }
   ],
   "source": [
    "query = \"As an academic advisor at Williams College who is knowledgable various courses and majors, answer the following questions from students in a friendly and concise manner.\"\n",
    "res = ask_with_history_and_append(qa, query, chat_history)\n",
    "pretty_print_res(query, res)"
   ]
  },
  {
   "cell_type": "code",
   "execution_count": null,
   "id": "e6980649",
   "metadata": {},
   "outputs": [],
   "source": [
    "query = \"\"\n",
    "res = ask_with_history_and_append(qa, query, chat_history)\n",
    "pretty_print_res(query, res)"
   ]
  }
 ],
 "metadata": {
  "kernelspec": {
   "display_name": "Python [conda env:nlp-final-proj] *",
   "language": "python",
   "name": "conda-env-nlp-final-proj-py"
  },
  "language_info": {
   "codemirror_mode": {
    "name": "ipython",
    "version": 3
   },
   "file_extension": ".py",
   "mimetype": "text/x-python",
   "name": "python",
   "nbconvert_exporter": "python",
   "pygments_lexer": "ipython3",
   "version": "3.8.16"
  }
 },
 "nbformat": 4,
 "nbformat_minor": 5
}
