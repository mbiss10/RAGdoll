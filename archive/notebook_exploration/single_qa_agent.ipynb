{
 "cells": [
  {
   "cell_type": "code",
   "execution_count": 35,
   "id": "af626208",
   "metadata": {},
   "outputs": [],
   "source": [
    "import os\n",
    "from dotenv import load_dotenv\n",
    "load_dotenv()\n",
    "\n",
    "API_KEY = os.getenv('OPENAI_API_KEY')\n",
    "os.environ[\"OPENAI_API_KEY\"] = API_KEY"
   ]
  },
  {
   "cell_type": "code",
   "execution_count": 36,
   "id": "531245bb",
   "metadata": {},
   "outputs": [],
   "source": [
    "from langchain.embeddings.openai import OpenAIEmbeddings\n",
    "from langchain.embeddings.cohere import CohereEmbeddings\n",
    "from langchain.text_splitter import RecursiveCharacterTextSplitter, CharacterTextSplitter\n",
    "from langchain.vectorstores.elastic_vector_search import ElasticVectorSearch\n",
    "from langchain.vectorstores import Chroma\n",
    "from langchain.docstore.document import Document\n",
    "from langchain.prompts import PromptTemplate\n",
    "from langchain.vectorstores.faiss import FAISS\n",
    "from langchain.chains import ConversationalRetrievalChain\n",
    "from langchain.llms import OpenAI\n",
    "import pickle\n",
    "from langchain.chains.qa_with_sources import load_qa_with_sources_chain"
   ]
  },
  {
   "cell_type": "code",
   "execution_count": 95,
   "id": "e6b8a0fa",
   "metadata": {},
   "outputs": [],
   "source": [
    "def pretty_print_res_qa(res, include_sources=True):\n",
    "    print(f\"[USER]: {res['question']}\")\n",
    "    print(f\"[PenDragon]: {res['output_text']}\\n\")\n",
    "    print(\"[Passages Consulted]:\")\n",
    "    \n",
    "    for idx, source in enumerate(res[\"input_documents\"]):\n",
    "        print(f\"--- [{idx+1}] {source.page_content}\")\n",
    "\n",
    "def ask_n_print(retriever, chain, query):\n",
    "    docs = retriever.get_relevant_documents(query)\n",
    "    res = chain({\"input_documents\": docs, \"question\": query}, return_only_outputs=False)\n",
    "    pretty_print_res_qa(res)"
   ]
  },
  {
   "cell_type": "code",
   "execution_count": 74,
   "id": "cf7b1a22",
   "metadata": {},
   "outputs": [],
   "source": [
    "embeddings = OpenAIEmbeddings()"
   ]
  },
  {
   "cell_type": "code",
   "execution_count": 75,
   "id": "3bdbc76d",
   "metadata": {},
   "outputs": [],
   "source": [
    "data_w_sources = None\n",
    "with open(\"./data/everything_ultra_processed_w_sources.pkl\", \"rb\") as f:\n",
    "    data_w_sources = pickle.load(f)"
   ]
  },
  {
   "cell_type": "code",
   "execution_count": 76,
   "id": "22cc4f12",
   "metadata": {},
   "outputs": [],
   "source": [
    "texts, sources = list(zip(*data_w_sources))"
   ]
  },
  {
   "cell_type": "code",
   "execution_count": 77,
   "id": "3349391d",
   "metadata": {},
   "outputs": [],
   "source": [
    "# Create & Save vectorstore\n",
    "# db = FAISS.from_texts(texts, embeddings, metadatas=[{\"source\": source} for source in sources])\n",
    "# with open(\"./db_courses_processed_w_sources.pkl\", \"wb\") as f:\n",
    "#     pickle.dump(db, f)"
   ]
  },
  {
   "cell_type": "code",
   "execution_count": 78,
   "id": "8f8f46c1",
   "metadata": {},
   "outputs": [],
   "source": [
    "db = None\n",
    "with open(\"./db_courses_processed_w_sources.pkl\", \"rb\") as f:\n",
    "    db = pickle.load(f)\n",
    "\n",
    "retriever = db.as_retriever(search_kwargs={\"k\": 6})"
   ]
  },
  {
   "cell_type": "code",
   "execution_count": 79,
   "id": "674e31c8",
   "metadata": {},
   "outputs": [],
   "source": [
    "chain = load_qa_with_sources_chain(OpenAI(temperature=0.5), chain_type=\"stuff\")"
   ]
  },
  {
   "cell_type": "code",
   "execution_count": 80,
   "id": "3a0cce37",
   "metadata": {},
   "outputs": [],
   "source": [
    "query = \"Which CS professors are on leave?\"\n",
    "docs = retriever.get_relevant_documents(query)\n",
    "res = chain({\"input_documents\": docs, \"question\": query}, return_only_outputs=False)"
   ]
  },
  {
   "cell_type": "code",
   "execution_count": 86,
   "id": "b43a3b91",
   "metadata": {},
   "outputs": [
    {
     "name": "stdout",
     "output_type": "stream",
     "text": [
      "[USER]: Which CS professors are on leave?\n",
      "[PenDragon]:  Samuel McCauley, Aaron M. Williams, and Shikha Singh are CS professors on leave. \n",
      "SOURCES: https://catalog.williams.edu/pdf/csci.pdf\n",
      "\n",
      "[PenDragon Sources Consulted]:\n",
      "--- [1] Samuel McCauley, Assistant Professor of Computer Science; on leave 2022-2023 \n",
      "\n",
      "--- [2] Aaron M. Williams, Associate Professor of Computer Science; on leave Spring 2023 \n",
      "\n",
      "--- [3] Shikha Singh, Assistant Professor of Computer Science; on leave 2022-2023 \n",
      "\n",
      "--- [4] Iris Howley, Assistant Professor of Computer Science \n",
      "\n",
      "--- [5] Mark Hopkins, Assistant Professor of Computer Science \n",
      "\n",
      "--- [6] Bill K. Jannen, Assistant Professor of Computer Science \n",
      "\n"
     ]
    }
   ],
   "source": [
    "pretty_print_res_qa(res)"
   ]
  },
  {
   "cell_type": "code",
   "execution_count": 89,
   "id": "33be5200",
   "metadata": {},
   "outputs": [
    {
     "name": "stdout",
     "output_type": "stream",
     "text": [
      "[USER]: What are the prereqs for CS 379?\n",
      "[PenDragon]:  The prerequisites for CS 379 are CSCI 136, and either CSCI 256 or STAT 201/202.\n",
      "SOURCES: https://catalog.williams.edu/csci/detail/?strm=&cn=379&crsid=021861&req_year=0\n",
      "\n",
      "[Passages Consulted]:\n",
      "--- [1] CSCI 379 prereqs: CSCI 136, and either CSCI 256 or STAT 201/202.\n",
      "\n",
      "--- [2] CSCI 378 prereqs: CSCI 136, and at least one of CSCI 237, 256, or 334\n",
      "\n",
      "--- [3] CSCI 345 prereqs: CSCI 237\n",
      "\n",
      "--- [4] CSCI 397 prereqs: Permission of department\n",
      "\n",
      "--- [5] CSCI 331 prereqs: CSCI 237\n",
      "\n",
      "--- [6] CSCI 432 prereqs: CSCI 237 and either CSCI 256 or 334\n",
      "\n"
     ]
    }
   ],
   "source": [
    "query = \"What are the prereqs for CS 379?\"\n",
    "docs = retriever.get_relevant_documents(query)\n",
    "res = chain({\"input_documents\": docs, \"question\": query}, return_only_outputs=False)\n",
    "pretty_print_res_qa(res)"
   ]
  },
  {
   "cell_type": "code",
   "execution_count": 90,
   "id": "648544b0",
   "metadata": {},
   "outputs": [
    {
     "name": "stdout",
     "output_type": "stream",
     "text": [
      "[USER]: On what days does CSCI 381 meet?\n",
      "[PenDragon]:  CSCI 381 meets on Mondays, Wednesdays, and Fridays.\n",
      "SOURCES: https://catalog.williams.edu/csci/detail/?strm=&cn=381&crsid=022329&req_year=0\n",
      "\n",
      "[Passages Consulted]:\n",
      "--- [1] CSCI 381 departmentNotes: \n",
      "\n",
      "--- [2] CSCI 331 classFormat: This Course Has Twice-Weekly Lecture Meetings As Well As A Weekly Lab Meeting., extraInfo: , crossListing: ['CSCI 331'], components: ['Laboratory', 'Lecture']\n",
      "\n",
      "--- [3] CSCI 381 Section 01 year: 2024, semester: Spring, courseID: 022329, sectionType: in-person, peoplesoftNumber: 3244, classType: Lecture, instructors: [{'id': 13529, 'name': 'Mark Hopkins'}], meetings: [{'days': 'MWF', 'start': '11:00', 'end': '11:50', 'facility': ''}]\n",
      "\n",
      "--- [4] CSCI 381 Section 02 year: 2024, semester: Spring, courseID: 022329, sectionType: in-person, peoplesoftNumber: 3932, classType: Lecture, instructors: [{'id': 13529, 'name': 'Mark Hopkins'}], meetings: [{'days': 'MWF', 'start': '12:00', 'end': '12:50', 'facility': ''}]\n",
      "\n",
      "--- [5] CSCI 331 prereqs: CSCI 237\n",
      "\n",
      "--- [6] CSCI 331 departmentNotes: \n",
      "\n"
     ]
    }
   ],
   "source": [
    "query = \"On what days does CSCI 381 meet?\"\n",
    "docs = retriever.get_relevant_documents(query)\n",
    "res = chain({\"input_documents\": docs, \"question\": query}, return_only_outputs=False)\n",
    "pretty_print_res_qa(res)"
   ]
  },
  {
   "cell_type": "code",
   "execution_count": 91,
   "id": "d509cec8",
   "metadata": {},
   "outputs": [
    {
     "name": "stdout",
     "output_type": "stream",
     "text": [
      "[USER]: Can I take Intro To Computer Security as a fifth course?\n",
      "[PenDragon]:  Yes, you can take Intro To Computer Security as a fifth course.\n",
      "SOURCES: https://catalog.williams.edu/csci/detail/?strm=&cn=331&crsid=020794&req_year=0\n",
      "\n",
      "[Passages Consulted]:\n",
      "--- [1] CSCI 331 titleLong: Introduction To Computer Security, titleShort: Intro To Computer Security\n",
      "\n",
      "--- [2] CSCI 134 gradingBasisDesc: Pass/Fail Available, Fifth Course Available\n",
      "\n",
      "--- [3] CSCI 498 gradingBasisDesc: Pass/Fail Available, Fifth Course Available\n",
      "\n",
      "--- [4] CSCI 497 gradingBasisDesc: Pass/Fail Available, Fifth Course Available\n",
      "\n",
      "--- [5] CSCI 494 gradingBasisDesc: Pass/Fail Available, Fifth Course Available\n",
      "\n",
      "--- [6] CSCI 398 gradingBasisDesc: Pass/Fail Available, Fifth Course Available\n",
      "\n"
     ]
    }
   ],
   "source": [
    "query = \"Can I take Intro To Computer Security as a fifth course?\"\n",
    "docs = retriever.get_relevant_documents(query)\n",
    "res = chain({\"input_documents\": docs, \"question\": query}, return_only_outputs=False)\n",
    "pretty_print_res_qa(res)"
   ]
  },
  {
   "cell_type": "code",
   "execution_count": 97,
   "id": "716f0fbe",
   "metadata": {},
   "outputs": [
    {
     "name": "stdout",
     "output_type": "stream",
     "text": [
      "[USER]: Can I take CSCI 331 as a fifth course?\n",
      "[PenDragon]:  No, you cannot take CSCI 331 as a fifth course.\n",
      "SOURCES: https://catalog.williams.edu/csci/detail/?strm=&cn=331&crsid=020794&req_year=0\n",
      "\n",
      "[Passages Consulted]:\n",
      "--- [1] CSCI 134 gradingBasisDesc: Pass/Fail Available, Fifth Course Available\n",
      "\n",
      "--- [2] CSCI 331 gradingBasisDesc: No Pass/Fail and No Fifth Course\n",
      "\n",
      "--- [3] CSCI 497 gradingBasisDesc: Pass/Fail Available, Fifth Course Available\n",
      "\n",
      "--- [4] CSCI 398 gradingBasisDesc: Pass/Fail Available, Fifth Course Available\n",
      "\n",
      "--- [5] CSCI 136 gradingBasisDesc: Pass/Fail Available, Fifth Course Unavailable\n",
      "\n",
      "--- [6] CSCI 493 gradingBasisDesc: Pass/Fail Available, Fifth Course Available\n",
      "\n"
     ]
    }
   ],
   "source": [
    "query = \"Can I take CSCI 331 as a fifth course?\"\n",
    "docs = retriever.get_relevant_documents(query)\n",
    "res = chain({\"input_documents\": docs, \"question\": query}, return_only_outputs=False)\n",
    "pretty_print_res_qa(res)"
   ]
  },
  {
   "cell_type": "code",
   "execution_count": 98,
   "id": "6eaa2262",
   "metadata": {},
   "outputs": [
    {
     "name": "stdout",
     "output_type": "stream",
     "text": [
      "[USER]: Is CSCI 345 offered in the fall, spring, or both in 2024?\n",
      "[PenDragon]:  CSCI 345 is offered in the spring semester in 2024.\n",
      "SOURCES: https://catalog.williams.edu/csci/detail/?strm=&cn=345&crsid=022328&req_year=0\n",
      "\n",
      "[Passages Consulted]:\n",
      "--- [1] CSCI 345 Section 01 year: 2024, semester: Spring, courseID: 022328, sectionType: in-person, peoplesoftNumber: 3206, classType: Lecture, instructors: [{'id': 13530, 'name': 'James M. Bern'}], meetings: [{'days': 'TR', 'start': '09:55', 'end': '11:10', 'facility': ''}]\n",
      "\n",
      "--- [2] CSCI 345 enrolmentPreferences: Current or expected Computer Science majors\n",
      "\n",
      "--- [3] CSCI 345 Section 03 year: 2024, semester: Spring, courseID: 022328, sectionType: in-person, peoplesoftNumber: 3208, classType: Laboratory, instructors: [{'id': 13530, 'name': 'James M. Bern'}], meetings: [{'days': 'T', 'start': '14:30', 'end': '16:00', 'facility': ''}]\n",
      "\n",
      "--- [4] CSCI 345 Section 02 year: 2024, semester: Spring, courseID: 022328, sectionType: in-person, peoplesoftNumber: 3207, classType: Laboratory, instructors: [{'id': 13530, 'name': 'James M. Bern'}], meetings: [{'days': 'T', 'start': '13:00', 'end': '14:30', 'facility': ''}]\n",
      "\n",
      "--- [5] CSCI 361 Section 01 year: 2024, semester: Spring, courseID: 010814, sectionType: in-person, peoplesoftNumber: 3224, classType: Lecture, instructors: [{'id': 11181, 'name': 'Aaron M. Williams'}], meetings: [{'days': 'MR', 'start': '14:35', 'end': '15:50', 'facility': ''}]\n",
      "\n",
      "--- [6] CSCI 432 prereqs: CSCI 237 and either CSCI 256 or 334\n",
      "\n"
     ]
    }
   ],
   "source": [
    "query = \"Is CSCI 345 offered in the fall, spring, or both in 2024?\"\n",
    "docs = retriever.get_relevant_documents(query)\n",
    "res = chain({\"input_documents\": docs, \"question\": query}, return_only_outputs=False)\n",
    "pretty_print_res_qa(res)"
   ]
  },
  {
   "cell_type": "code",
   "execution_count": 99,
   "id": "93dfeec5",
   "metadata": {},
   "outputs": [
    {
     "data": {
      "text/plain": [
       "{'output_text': ' CSCI 345 is offered in the spring semester of 2024.\\nSOURCES: https://catalog.williams.edu/csci/detail/?strm=&cn=345&crsid=022328&req_year=0'}"
      ]
     },
     "execution_count": 99,
     "metadata": {},
     "output_type": "execute_result"
    }
   ],
   "source": [
    "query = \"Is CSCI 345 offered in the fall, spring, or both in 2024?\"\n",
    "docs = retriever.get_relevant_documents(query)\n",
    "res = chain({\"input_documents\": docs, \"question\": query}, return_only_outputs=True)\n",
    "res"
   ]
  },
  {
   "cell_type": "code",
   "execution_count": 100,
   "id": "72bae1c8",
   "metadata": {},
   "outputs": [
    {
     "data": {
      "text/plain": [
       "{'input_documents': [Document(page_content=\"CSCI 345 Section 01 year: 2024, semester: Spring, courseID: 022328, sectionType: in-person, peoplesoftNumber: 3206, classType: Lecture, instructors: [{'id': 13530, 'name': 'James M. Bern'}], meetings: [{'days': 'TR', 'start': '09:55', 'end': '11:10', 'facility': ''}]\\n\", metadata={'source': 'https://catalog.williams.edu/csci/detail/?strm=&cn=345&crsid=022328&req_year=0'}),\n",
       "  Document(page_content='CSCI 345 enrolmentPreferences: Current or expected Computer Science majors\\n', metadata={'source': 'https://catalog.williams.edu/csci/detail/?strm=&cn=345&crsid=022328&req_year=0'}),\n",
       "  Document(page_content=\"CSCI 345 Section 03 year: 2024, semester: Spring, courseID: 022328, sectionType: in-person, peoplesoftNumber: 3208, classType: Laboratory, instructors: [{'id': 13530, 'name': 'James M. Bern'}], meetings: [{'days': 'T', 'start': '14:30', 'end': '16:00', 'facility': ''}]\\n\", metadata={'source': 'https://catalog.williams.edu/csci/detail/?strm=&cn=345&crsid=022328&req_year=0'}),\n",
       "  Document(page_content=\"CSCI 345 Section 02 year: 2024, semester: Spring, courseID: 022328, sectionType: in-person, peoplesoftNumber: 3207, classType: Laboratory, instructors: [{'id': 13530, 'name': 'James M. Bern'}], meetings: [{'days': 'T', 'start': '13:00', 'end': '14:30', 'facility': ''}]\\n\", metadata={'source': 'https://catalog.williams.edu/csci/detail/?strm=&cn=345&crsid=022328&req_year=0'}),\n",
       "  Document(page_content=\"CSCI 361 Section 01 year: 2024, semester: Spring, courseID: 010814, sectionType: in-person, peoplesoftNumber: 3224, classType: Lecture, instructors: [{'id': 11181, 'name': 'Aaron M. Williams'}], meetings: [{'days': 'MR', 'start': '14:35', 'end': '15:50', 'facility': ''}]\\n\", metadata={'source': 'https://catalog.williams.edu/csci/detail/?strm=&cn=361&crsid=010814&req_year=0'}),\n",
       "  Document(page_content='CSCI 432 prereqs: CSCI 237 and either CSCI 256 or 334\\n', metadata={'source': 'https://catalog.williams.edu/csci/detail/?strm=&cn=432&crsid=010821&req_year=0'})],\n",
       " 'question': 'Is CSCI 345 offered in the fall, spring, or both in 2024?',\n",
       " 'output_text': ' CSCI 345 is offered in the spring semester in 2024.\\nSOURCES: https://catalog.williams.edu/csci/detail/?strm=&cn=345&crsid=022328&req_year=0'}"
      ]
     },
     "execution_count": 100,
     "metadata": {},
     "output_type": "execute_result"
    }
   ],
   "source": [
    "query = \"Is CSCI 345 offered in the fall, spring, or both in 2024?\"\n",
    "docs = retriever.get_relevant_documents(query)\n",
    "res = chain({\"input_documents\": docs, \"question\": query}, return_only_outputs=False)\n",
    "res"
   ]
  },
  {
   "cell_type": "code",
   "execution_count": null,
   "id": "1df6b5ed",
   "metadata": {},
   "outputs": [],
   "source": []
  }
 ],
 "metadata": {
  "kernelspec": {
   "display_name": "Python [conda env:nlp-final-proj] *",
   "language": "python",
   "name": "conda-env-nlp-final-proj-py"
  },
  "language_info": {
   "codemirror_mode": {
    "name": "ipython",
    "version": 3
   },
   "file_extension": ".py",
   "mimetype": "text/x-python",
   "name": "python",
   "nbconvert_exporter": "python",
   "pygments_lexer": "ipython3",
   "version": "3.8.16"
  }
 },
 "nbformat": 4,
 "nbformat_minor": 5
}
