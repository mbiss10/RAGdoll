{
 "cells": [
  {
   "cell_type": "markdown",
   "id": "74148cee",
   "metadata": {},
   "source": [
    "# CS Courses QA with Sources"
   ]
  },
  {
   "cell_type": "code",
   "execution_count": 1,
   "id": "b3b4cff6",
   "metadata": {},
   "outputs": [],
   "source": [
    "import os\n",
    "from dotenv import load_dotenv\n",
    "load_dotenv()\n",
    "\n",
    "API_KEY = os.getenv('OPENAI_API_KEY')\n",
    "os.environ[\"OPENAI_API_KEY\"] = API_KEY"
   ]
  },
  {
   "cell_type": "markdown",
   "id": "ca2f0efc",
   "metadata": {},
   "source": [
    "## Prepare Data"
   ]
  },
  {
   "cell_type": "code",
   "execution_count": 2,
   "id": "78f28130",
   "metadata": {},
   "outputs": [],
   "source": [
    "from langchain.embeddings.openai import OpenAIEmbeddings\n",
    "from langchain.embeddings.cohere import CohereEmbeddings\n",
    "from langchain.text_splitter import RecursiveCharacterTextSplitter, CharacterTextSplitter\n",
    "from langchain.vectorstores.elastic_vector_search import ElasticVectorSearch\n",
    "from langchain.vectorstores import Chroma\n",
    "from langchain.docstore.document import Document\n",
    "from langchain.prompts import PromptTemplate\n",
    "from langchain.vectorstores.faiss import FAISS\n",
    "import pickle"
   ]
  },
  {
   "cell_type": "code",
   "execution_count": 3,
   "id": "4da195a3",
   "metadata": {},
   "outputs": [],
   "source": [
    "from langchain.document_loaders import UnstructuredFileLoader\n",
    "\n",
    "# load raw text data from pdf\n",
    "loader = UnstructuredFileLoader(\"./data/csci.pdf\", mode=\"elements\")\n",
    "raw_documents = loader.load()"
   ]
  },
  {
   "cell_type": "code",
   "execution_count": null,
   "id": "e32e8908",
   "metadata": {},
   "outputs": [],
   "source": [
    "print(\"Num parsed documents: \", len(raw_documents))\n",
    "\n",
    "for i in range(len(raw_documents)):\n",
    "    print(raw_documents[i])\n",
    "    # print(raw_documents[i].metadata['category'], raw_documents[i].page_content)\n",
    "    \n",
    "# Merge NarrativeText up to some max length\n",
    "# Include previous title(s) before Narrative Text\n",
    "# Prob just the single prev title, but maybe multiple? Maybe use overlap?\n",
    "# Remove UncategorizedText?"
   ]
  },
  {
   "cell_type": "code",
   "execution_count": null,
   "id": "e3ea9f64",
   "metadata": {},
   "outputs": [],
   "source": [
    "# Split text\n",
    "text_splitter = CharacterTextSplitter(chunk_size = 2000, chunk_overlap = 200)\n",
    "documents = text_splitter.split_documents(raw_documents)\n",
    "documents[22]"
   ]
  },
  {
   "cell_type": "code",
   "execution_count": 10,
   "id": "07bdd918",
   "metadata": {},
   "outputs": [],
   "source": [
    "# Load Data to vectorstore\n",
    "embeddings = OpenAIEmbeddings()\n",
    "vectorstore = FAISS.from_documents(documents, embeddings)\n",
    "\n",
    "# Save vectorstore\n",
    "with open(\"./vectorstore.pkl\", \"wb\") as f:\n",
    "    pickle.dump(vectorstore, f)"
   ]
  },
  {
   "cell_type": "code",
   "execution_count": 30,
   "id": "2eccb507",
   "metadata": {},
   "outputs": [],
   "source": [
    "from langchain.chains import ConversationalRetrievalChain\n",
    "from langchain.llms import OpenAI\n",
    "\n",
    "qa = ConversationalRetrievalChain.from_llm(OpenAI(temperature=0), vectorstore.as_retriever(search_kwargs={\"k\": 6}), return_source_documents=True)"
   ]
  },
  {
   "cell_type": "code",
   "execution_count": 24,
   "id": "d0f89228",
   "metadata": {},
   "outputs": [],
   "source": [
    "def ask_no_history(qa, query):\n",
    "    return qa({\"question\": query, \"chat_history\": []})\n",
    "\n",
    "def ask_with_history_and_append(qa, query, history):\n",
    "    res = qa({\"question\": query, \"chat_history\": history})\n",
    "    history.append((query, res[\"answer\"]))\n",
    "    return res"
   ]
  },
  {
   "cell_type": "code",
   "execution_count": 45,
   "id": "1ab2930e",
   "metadata": {},
   "outputs": [
    {
     "data": {
      "text/plain": [
       "{'question': \"What is the full name of the course 'Computer Science 256?'\",\n",
       " 'chat_history': [],\n",
       " 'answer': ' Computer Science 256 is a course called Algorithm and Data Structure Design.',\n",
       " 'source_documents': [Document(page_content='Computer Science 134 Introduction to Computer Science', metadata={'source': './csci.pdf', 'filename': './csci.pdf', 'page_number': 1, 'category': 'NarrativeText'}),\n",
       "  Document(page_content='CSCI 136 and CSCI 256 or permission of instructor', metadata={'source': './csci.pdf', 'filename': './csci.pdf', 'page_number': 14, 'category': 'NarrativeText'}),\n",
       "  Document(page_content='Prerequisites: CSCI 256 and CSCI 237', metadata={'source': './csci.pdf', 'filename': './csci.pdf', 'page_number': 12, 'category': 'NarrativeText'}),\n",
       "  Document(page_content='There are several sequences of courses appropriate for those primarily interested in developing skills in programming for use in other areas. For general programming, Computer Science 134 followed by 136 and 256 will provide students with a strong background in algorithm and data structure design together with an understanding of issues of correctness and efficiency. Students of the Bioinformatics program are encouraged to take Computer Science 134 at a minimum, and should also consider Computer Science 136 and 256. The sequence of courses Computer Science 109 134 would provide sufficient competence in computer graphics for many students interested in applying such knowledge either in the arts or', metadata={'source': './csci.pdf', 'filename': './csci.pdf', 'page_number': 4, 'category': 'NarrativeText'}),\n",
       "  Document(page_content='Computer Science', metadata={'source': './csci.pdf', 'filename': './csci.pdf', 'page_number': 2, 'category': 'ListItem'}),\n",
       "  Document(page_content='Cross-listings: MATH 361 CSCI 361', metadata={'source': './csci.pdf', 'filename': './csci.pdf', 'page_number': 13, 'category': 'Title'})]}"
      ]
     },
     "execution_count": 45,
     "metadata": {},
     "output_type": "execute_result"
    }
   ],
   "source": [
    "query = \"What is the full name of the course 'Computer Science 256?'\"\n",
    "ask_no_history(qa, query)"
   ]
  },
  {
   "cell_type": "code",
   "execution_count": 47,
   "id": "740ba076",
   "metadata": {},
   "outputs": [
    {
     "data": {
      "text/plain": [
       "{'question': 'What is the Discrete Mathematics Proficiency Requirement?',\n",
       " 'chat_history': [],\n",
       " 'answer': ' The Discrete Mathematics Proficiency Requirement is a requirement that students must meet by either passing the departmental Discrete Mathematics Proficiency Exam or by earning a grade of C- or better in MATH 200.',\n",
       " 'source_documents': [Document(page_content='Students must demonstrate proficiency in discrete mathematics by either passing the departmental Discrete Mathematics Proficiency Exam or by earning a grade of C- or better in MATH 200. This requirement must be met by the end of the sophomore year.', metadata={'source': './csci.pdf', 'filename': './csci.pdf', 'page_number': 2, 'category': 'NarrativeText'}),\n",
       "  Document(page_content='Prerequisites: CSCI 136 and fulfillment of the Discrete Mathematics Proficiency requirement', metadata={'source': './csci.pdf', 'filename': './csci.pdf', 'page_number': 16, 'category': 'NarrativeText'}),\n",
       "  Document(page_content='Quantative/Formal Reasoning Notes: This course heavily relies on discrete mathematics, algorithms, and elementary statistics. There will be regular assignments requiring rigorous quantitative or formal reasoning.', metadata={'source': './csci.pdf', 'filename': './csci.pdf', 'page_number': 16, 'category': 'NarrativeText'}),\n",
       "  Document(page_content='To be eligible for admission to the major, a student must have completed at least two Computer Science courses, including Computer Science 136, as well as fulfilled the Discrete Mathematics Proficiency Requirement by the end of the sophomore year. A Mathematics course at the 200-level or higher (except for MATH 200) must be completed by the end of the junior year. Students are urged to have completed two of the four core courses (Computer Science 237, 256, 334, and 361) by the end of the sophomore year and must normally have completed at least three out of the four core courses by the end of the junior year.', metadata={'source': './csci.pdf', 'filename': './csci.pdf', 'page_number': 2, 'category': 'NarrativeText'}),\n",
       "  Document(page_content='Quantative/Formal Reasoning Notes: This course heavily relies on discrete mathematics, calculus, and elementary statistics. Students will be proving theorems, among many other mathematically oriented assignments. Additionally, they will be programming, which involves analytical and logical thinking.', metadata={'source': './csci.pdf', 'filename': './csci.pdf', 'page_number': 14, 'category': 'NarrativeText'}),\n",
       "  Document(page_content='Quantative/Formal Reasoning Notes: This course will have weekly problem sets in which students will formally prove statements about the and performance of algorithms. In short, the course is about applying abstract and mathematical reasoning to the study of algorithms and computation.', metadata={'source': './csci.pdf', 'filename': './csci.pdf', 'page_number': 8, 'category': 'NarrativeText'})]}"
      ]
     },
     "execution_count": 47,
     "metadata": {},
     "output_type": "execute_result"
    }
   ],
   "source": [
    "query = \"What is the Discrete Mathematics Proficiency Requirement?\"\n",
    "ask_no_history(qa, query)"
   ]
  },
  {
   "cell_type": "code",
   "execution_count": 34,
   "id": "5286f58f",
   "metadata": {},
   "outputs": [
    {
     "data": {
      "text/plain": [
       "' You need to take a minimum of 8 courses in Computer Science, including the four core courses (Computer Science 237, 256, 334, and 361) and two or more electives (bringing the total number of Computer Science courses to at least 8).'"
      ]
     },
     "execution_count": 34,
     "metadata": {},
     "output_type": "execute_result"
    }
   ],
   "source": [
    "query = \"How many CS courses do I need to take to graduate?\"\n",
    "ask_no_history(qa, query)"
   ]
  },
  {
   "cell_type": "code",
   "execution_count": 48,
   "id": "6ea209d9",
   "metadata": {},
   "outputs": [
    {
     "data": {
      "text/plain": [
       "{'question': \"I haven't taken CS237. Can I take Computer Graphics?\",\n",
       " 'chat_history': [],\n",
       " 'answer': ' No, you need to have taken CSCI 256 and CSCI 237 to take CSCI 371 Computer Graphics.',\n",
       " 'source_documents': [Document(page_content='CSCI 371 (S) Computer Graphics (QFR)', metadata={'source': './csci.pdf', 'filename': './csci.pdf', 'page_number': 13, 'category': 'Title'}),\n",
       "  Document(page_content='Computer Science 134 Introduction to Computer Science', metadata={'source': './csci.pdf', 'filename': './csci.pdf', 'page_number': 1, 'category': 'NarrativeText'}),\n",
       "  Document(page_content='Prerequisites: CSCI 256 and CSCI 237', metadata={'source': './csci.pdf', 'filename': './csci.pdf', 'page_number': 12, 'category': 'NarrativeText'}),\n",
       "  Document(page_content='To be taken by students registered for Computer Science 493-494.', metadata={'source': './csci.pdf', 'filename': './csci.pdf', 'page_number': 21, 'category': 'NarrativeText'}),\n",
       "  Document(page_content='Computer Science', metadata={'source': './csci.pdf', 'filename': './csci.pdf', 'page_number': 2, 'category': 'ListItem'}),\n",
       "  Document(page_content='CSCI 134 (F)(S) Introduction to Computer Science (QFR)', metadata={'source': './csci.pdf', 'filename': './csci.pdf', 'page_number': 6, 'category': 'Title'})]}"
      ]
     },
     "execution_count": 48,
     "metadata": {},
     "output_type": "execute_result"
    }
   ],
   "source": [
    "query = \"I haven't taken CS237. Can I take Computer Graphics?\"\n",
    "ask_no_history(qa, query)"
   ]
  },
  {
   "cell_type": "code",
   "execution_count": 31,
   "id": "9c94b6c0",
   "metadata": {},
   "outputs": [
    {
     "data": {
      "text/plain": [
       "{'question': \"I'm a junior interested in learning to program but I've never taken a CS course. What courses am I able to take?\",\n",
       " 'chat_history': [(\"I'm a junior interested in learning to program but I've never taken a CS course. What courses am I able to take?\",\n",
       "   ' You are able to take Computer Science 134 Introduction to Computer Science.')],\n",
       " 'answer': ' You are able to take Computer Science 134 Introduction to Computer Science.',\n",
       " 'source_documents': [Document(page_content='To be eligible for admission to the major, a student must have completed at least two Computer Science courses, including Computer Science 136, as well as fulfilled the Discrete Mathematics Proficiency Requirement by the end of the sophomore year. A Mathematics course at the 200-level or higher (except for MATH 200) must be completed by the end of the junior year. Students are urged to have completed two of the four core courses (Computer Science 237, 256, 334, and 361) by the end of the sophomore year and must normally have completed at least three out of the four core courses by the end of the junior year.', metadata={'source': './csci.pdf', 'filename': './csci.pdf', 'page_number': 2, 'category': 'NarrativeText'}),\n",
       "  Document(page_content='Enrollment Preferences: open to senior Computer Science majors with permission of instructor', metadata={'source': './csci.pdf', 'filename': './csci.pdf', 'page_number': 18, 'category': 'NarrativeText'}),\n",
       "  Document(page_content='The department recognizes that students’ interests in computer science will vary widely. The department attempts to meet these varying interests through: (1) the major; (2) a selection of courses intended for those who are interested primarily in an introduction to computer science; (3) recommended course sequences for the non-major who wants a more extensive introduction to computer science in general or who seeks to develop some specific expertise in computing for application in some other discipline.', metadata={'source': './csci.pdf', 'filename': './csci.pdf', 'page_number': 1, 'category': 'NarrativeText'}),\n",
       "  Document(page_content='Computer Science 134 Introduction to Computer Science', metadata={'source': './csci.pdf', 'filename': './csci.pdf', 'page_number': 1, 'category': 'NarrativeText'}),\n",
       "  Document(page_content='Computer Science', metadata={'source': './csci.pdf', 'filename': './csci.pdf', 'page_number': 2, 'category': 'ListItem'}),\n",
       "  Document(page_content='We encourage students to be intellectually engaged in our field beyond the formal structure of courses. As such, all computer science majors must attend at least twenty Computer Science colloquia. Juniors and seniors are encouraged to attend at least five during each semester they are present on campus. Prospective majors in their first and second years are also encouraged to attend. A student studying away on a program approved by the International Education and Study Away Office will receive four colloquium credits for each semester away, up to a total of eight credits.', metadata={'source': './csci.pdf', 'filename': './csci.pdf', 'page_number': 2, 'category': 'NarrativeText'})]}"
      ]
     },
     "execution_count": 31,
     "metadata": {},
     "output_type": "execute_result"
    }
   ],
   "source": [
    "chat_history = []\n",
    "query = \"I'm a junior interested in learning to program but I've never taken a CS course. What courses am I able to take?\"\n",
    "ask_with_history_and_append(qa, query, chat_history)"
   ]
  },
  {
   "cell_type": "code",
   "execution_count": 32,
   "id": "b700a4d9",
   "metadata": {},
   "outputs": [
    {
     "data": {
      "text/plain": [
       "[(\"I'm a junior interested in learning to program but I've never taken a CS course. What courses am I able to take?\",\n",
       "  ' You are able to take Computer Science 134 Introduction to Computer Science.')]"
      ]
     },
     "execution_count": 32,
     "metadata": {},
     "output_type": "execute_result"
    }
   ],
   "source": [
    "chat_history"
   ]
  },
  {
   "cell_type": "code",
   "execution_count": 33,
   "id": "1c1112d5",
   "metadata": {},
   "outputs": [
    {
     "data": {
      "text/plain": [
       "{'question': 'Are there any electives I can take? What about CSCI 103?',\n",
       " 'chat_history': [(\"I'm a junior interested in learning to program but I've never taken a CS course. What courses am I able to take?\",\n",
       "   ' You are able to take Computer Science 134 Introduction to Computer Science.'),\n",
       "  ('Are there any electives I can take? What about CSCI 103?',\n",
       "   ' Students who have not taken a CS course before can take the four core courses required of majors to provide a broad knowledge of topics underlying all of computer science. They can also take one of the upper-level electives. Appropriate mathematics classes numbered 300 or above, and appropriate statistics courses numbered 200 or above may also be substituted for one Computer Science elective with the advance permission of the department.')],\n",
       " 'answer': ' Students who have not taken a CS course before can take the four core courses required of majors to provide a broad knowledge of topics underlying all of computer science. They can also take one of the upper-level electives. Appropriate mathematics classes numbered 300 or above, and appropriate statistics courses numbered 200 or above may also be substituted for one Computer Science elective with the advance permission of the department.',\n",
       " 'source_documents': [Document(page_content='Two or more electives (bringing the total number of Computer Science courses to at least 8) chosen from 300- or 400-level courses in Computer Science. Computer Science courses with 9 as the middle digit (reading, research, and thesis courses) will normally not be used to satisfy the elective requirements. Students may petition the department to waive this restriction with good reason.', metadata={'source': './csci.pdf', 'filename': './csci.pdf', 'page_number': 2, 'category': 'NarrativeText'}),\n",
       "  Document(page_content='With the advance permission of the department, two appropriate mathematics or statistics courses may be substituted for one Computer Science elective. Appropriate mathematics classes are those numbered 300 or above, and appropriate statistics courses are those numbered 200 or above. Other variations in the required courses, adapting the requirements to the special needs and interests of the individual student, may be arranged in consultation with the department.', metadata={'source': './csci.pdf', 'filename': './csci.pdf', 'page_number': 2, 'category': 'NarrativeText'}),\n",
       "  Document(page_content='Elective Courses', metadata={'source': './csci.pdf', 'filename': './csci.pdf', 'page_number': 2, 'category': 'Title'}),\n",
       "  Document(page_content='The department recognizes that students’ interests in computer science will vary widely. The department attempts to meet these varying interests through: (1) the major; (2) a selection of courses intended for those who are interested primarily in an introduction to computer science; (3) recommended course sequences for the non-major who wants a more extensive introduction to computer science in general or who seeks to develop some specific expertise in computing for application in some other discipline.', metadata={'source': './csci.pdf', 'filename': './csci.pdf', 'page_number': 1, 'category': 'NarrativeText'}),\n",
       "  Document(page_content='Students seeking to develop an extensive knowledge of computer science without majoring in the department are encouraged to use the major requirements as a guide. In particular, the four core courses required of majors are intended to provide a broad knowledge of topics underlying all of computer science. Students seeking a concentration in Computer Science are urged to complete at least two of these courses followed by one of our upper-level electives. Such a program would typically require the completion of a total of five Computer Science courses in addition to the Discrete', metadata={'source': './csci.pdf', 'filename': './csci.pdf', 'page_number': 4, 'category': 'NarrativeText'}),\n",
       "  Document(page_content='Computer Science', metadata={'source': './csci.pdf', 'filename': './csci.pdf', 'page_number': 2, 'category': 'ListItem'})]}"
      ]
     },
     "execution_count": 33,
     "metadata": {},
     "output_type": "execute_result"
    }
   ],
   "source": [
    "query = \"Are there any electives I can take? What about CSCI 103?\"\n",
    "ask_with_history_and_append(qa, query, chat_history)"
   ]
  },
  {
   "cell_type": "code",
   "execution_count": 38,
   "id": "6614b5f2",
   "metadata": {},
   "outputs": [
    {
     "data": {
      "text/plain": [
       "{'question': \"How many CS courses do I need to take to major in CS? Please respond as concisely as possible with an exact answer, or say 'I don't know' if you don't know\",\n",
       " 'chat_history': [],\n",
       " 'answer': ' 8 courses',\n",
       " 'source_documents': [Document(page_content='Students seeking to develop an extensive knowledge of computer science without majoring in the department are encouraged to use the major requirements as a guide. In particular, the four core courses required of majors are intended to provide a broad knowledge of topics underlying all of computer science. Students seeking a concentration in Computer Science are urged to complete at least two of these courses followed by one of our upper-level electives. Such a program would typically require the completion of a total of five Computer Science courses in addition to the Discrete', metadata={'source': './csci.pdf', 'filename': './csci.pdf', 'page_number': 4, 'category': 'NarrativeText'}),\n",
       "  Document(page_content='To be eligible for admission to the major, a student must have completed at least two Computer Science courses, including Computer Science 136, as well as fulfilled the Discrete Mathematics Proficiency Requirement by the end of the sophomore year. A Mathematics course at the 200-level or higher (except for MATH 200) must be completed by the end of the junior year. Students are urged to have completed two of the four core courses (Computer Science 237, 256, 334, and 361) by the end of the sophomore year and must normally have completed at least three out of the four core courses by the end of the junior year.', metadata={'source': './csci.pdf', 'filename': './csci.pdf', 'page_number': 2, 'category': 'NarrativeText'}),\n",
       "  Document(page_content='A minimum of 8 courses is required in Computer Science, including the following:', metadata={'source': './csci.pdf', 'filename': './csci.pdf', 'page_number': 1, 'category': 'NarrativeText'}),\n",
       "  Document(page_content='Enrollment Preferences: Current or expected Computer Science majors', metadata={'source': './csci.pdf', 'filename': './csci.pdf', 'page_number': 16, 'category': 'NarrativeText'}),\n",
       "  Document(page_content='Enrollment Preferences: current or expected Computer Science majors', metadata={'source': './csci.pdf', 'filename': './csci.pdf', 'page_number': 8, 'category': 'NarrativeText'}),\n",
       "  Document(page_content='Enrollment Preferences: current or expected Computer Science majors', metadata={'source': './csci.pdf', 'filename': './csci.pdf', 'page_number': 11, 'category': 'NarrativeText'})]}"
      ]
     },
     "execution_count": 38,
     "metadata": {},
     "output_type": "execute_result"
    }
   ],
   "source": [
    "query = \"How many CS courses do I need to take to major in CS? Please respond as concisely as possible with an exact answer, or say 'I don't know' if you don't know\"\n",
    "ask_no_history(qa, query)"
   ]
  },
  {
   "cell_type": "code",
   "execution_count": 39,
   "id": "ee4591cd",
   "metadata": {},
   "outputs": [
    {
     "data": {
      "text/plain": [
       "{'question': \"How many biology courses do I need to take to major in CS? Please respond as concisely as possible with an exact answer, or say 'I don't know' if you don't know\",\n",
       " 'chat_history': [],\n",
       " 'answer': \" I don't know.\",\n",
       " 'source_documents': [Document(page_content='Students seeking to develop an extensive knowledge of computer science without majoring in the department are encouraged to use the major requirements as a guide. In particular, the four core courses required of majors are intended to provide a broad knowledge of topics underlying all of computer science. Students seeking a concentration in Computer Science are urged to complete at least two of these courses followed by one of our upper-level electives. Such a program would typically require the completion of a total of five Computer Science courses in addition to the Discrete', metadata={'source': './csci.pdf', 'filename': './csci.pdf', 'page_number': 4, 'category': 'NarrativeText'}),\n",
       "  Document(page_content='A minimum of 8 courses is required in Computer Science, including the following:', metadata={'source': './csci.pdf', 'filename': './csci.pdf', 'page_number': 1, 'category': 'NarrativeText'}),\n",
       "  Document(page_content='Enrollment Preferences: Current or expected Computer Science majors', metadata={'source': './csci.pdf', 'filename': './csci.pdf', 'page_number': 16, 'category': 'NarrativeText'}),\n",
       "  Document(page_content='Computer Science', metadata={'source': './csci.pdf', 'filename': './csci.pdf', 'page_number': 2, 'category': 'ListItem'}),\n",
       "  Document(page_content='To be eligible for admission to the major, a student must have completed at least two Computer Science courses, including Computer Science 136, as well as fulfilled the Discrete Mathematics Proficiency Requirement by the end of the sophomore year. A Mathematics course at the 200-level or higher (except for MATH 200) must be completed by the end of the junior year. Students are urged to have completed two of the four core courses (Computer Science 237, 256, 334, and 361) by the end of the sophomore year and must normally have completed at least three out of the four core courses by the end of the junior year.', metadata={'source': './csci.pdf', 'filename': './csci.pdf', 'page_number': 2, 'category': 'NarrativeText'}),\n",
       "  Document(page_content='Enrollment Preferences: current or expected Computer Science majors', metadata={'source': './csci.pdf', 'filename': './csci.pdf', 'page_number': 8, 'category': 'NarrativeText'})]}"
      ]
     },
     "execution_count": 39,
     "metadata": {},
     "output_type": "execute_result"
    }
   ],
   "source": [
    "query = \"How many biology courses do I need to take to major in CS? Please respond as concisely as possible with an exact answer, or say 'I don't know' if you don't know\"\n",
    "ask_no_history(qa, query)"
   ]
  },
  {
   "cell_type": "code",
   "execution_count": 44,
   "id": "652f5c47",
   "metadata": {},
   "outputs": [
    {
     "data": {
      "text/plain": [
       "{'question': 'How do I graduate with a degree with honors in computer science?',\n",
       " 'chat_history': [],\n",
       " 'answer': ' To graduate with a degree with honors in computer science, you must demonstrate outstanding intellectual achievement in study extending beyond the requirements of the regular major. This includes mastery of core material, ability to pursue independent study of computer science, originality in methods of investigation, and creativity. You must also have completed at least two Computer Science courses, including Computer Science 136, as well as fulfilled the Discrete Mathematics Proficiency Requirement by the end of the sophomore year. You must also have completed two of the four core courses (Computer Science 237, 256, 334, and 361) by the end of the sophomore year and must normally have completed at least three out of the four core courses by the end of the junior year. Additionally, you must attend at least twenty Computer Science colloquia and have completed two or more electives (bringing the total number of Computer Science courses to at least 8) chosen from 300- or 400-level courses in Computer Science.',\n",
       " 'source_documents': [Document(page_content='THE DEGREE WITH HONORS IN COMPUTER SCIENCE', metadata={'source': './csci.pdf', 'filename': './csci.pdf', 'page_number': 2, 'category': 'Title'}),\n",
       "  Document(page_content='The degree with honors in Computer Science is awarded to students who have demonstrated outstanding intellectual achievement in study extending beyond the requirements of the regular major. The principal considerations in recommending a student for the degree be: mastery of core material, ability to pursue independent study of computer science, originality in methods of investigation, and creativity Honors study is highly recommended for those students with strong academic records in computer science who wish to attend graduate pursue high-level industrial positions in computing, or who would simply like to experience research in computer science.', metadata={'source': './csci.pdf', 'filename': './csci.pdf', 'page_number': 2, 'category': 'NarrativeText'}),\n",
       "  Document(page_content='Computer Science', metadata={'source': './csci.pdf', 'filename': './csci.pdf', 'page_number': 2, 'category': 'ListItem'}),\n",
       "  Document(page_content='To be eligible for admission to the major, a student must have completed at least two Computer Science courses, including Computer Science 136, as well as fulfilled the Discrete Mathematics Proficiency Requirement by the end of the sophomore year. A Mathematics course at the 200-level or higher (except for MATH 200) must be completed by the end of the junior year. Students are urged to have completed two of the four core courses (Computer Science 237, 256, 334, and 361) by the end of the sophomore year and must normally have completed at least three out of the four core courses by the end of the junior year.', metadata={'source': './csci.pdf', 'filename': './csci.pdf', 'page_number': 2, 'category': 'NarrativeText'}),\n",
       "  Document(page_content='We encourage students to be intellectually engaged in our field beyond the formal structure of courses. As such, all computer science majors must attend at least twenty Computer Science colloquia. Juniors and seniors are encouraged to attend at least five during each semester they are present on campus. Prospective majors in their first and second years are also encouraged to attend. A student studying away on a program approved by the International Education and Study Away Office will receive four colloquium credits for each semester away, up to a total of eight credits.', metadata={'source': './csci.pdf', 'filename': './csci.pdf', 'page_number': 2, 'category': 'NarrativeText'}),\n",
       "  Document(page_content='Two or more electives (bringing the total number of Computer Science courses to at least 8) chosen from 300- or 400-level courses in Computer Science. Computer Science courses with 9 as the middle digit (reading, research, and thesis courses) will normally not be used to satisfy the elective requirements. Students may petition the department to waive this restriction with good reason.', metadata={'source': './csci.pdf', 'filename': './csci.pdf', 'page_number': 2, 'category': 'NarrativeText'})]}"
      ]
     },
     "execution_count": 44,
     "metadata": {},
     "output_type": "execute_result"
    }
   ],
   "source": [
    "query = \"How do I graduate with a degree with honors in computer science?\"\n",
    "ask_no_history(qa, query)"
   ]
  },
  {
   "cell_type": "code",
   "execution_count": 56,
   "id": "32e87f99",
   "metadata": {},
   "outputs": [],
   "source": [
    "texts = []\n",
    "with open(\"./data/cs_gold.txt\", \"r\") as f:\n",
    "    for line in f:\n",
    "        texts.append(line)"
   ]
  },
  {
   "cell_type": "code",
   "execution_count": 58,
   "id": "44c7549f",
   "metadata": {},
   "outputs": [],
   "source": [
    "db2 = FAISS.from_texts(texts, embeddings)\n",
    "\n",
    "# Save vectorstore\n",
    "with open(\"./db_cs_gold.pkl\", \"wb\") as f:\n",
    "    pickle.dump(db2, f)"
   ]
  },
  {
   "cell_type": "code",
   "execution_count": 59,
   "id": "f36bfecb",
   "metadata": {},
   "outputs": [],
   "source": [
    "qa2 = ConversationalRetrievalChain.from_llm(OpenAI(temperature=0), db2.as_retriever(search_kwargs={\"k\": 6}), return_source_documents=True)"
   ]
  },
  {
   "cell_type": "code",
   "execution_count": 60,
   "id": "e00b1124",
   "metadata": {},
   "outputs": [],
   "source": [
    "query = \"I'm a junior interested in learning to program but I've never taken a CS course. What courses am I able to take?\"\n",
    "res = ask_no_history(qa2, query)\n",
    "res[\"answer\"]"
   ]
  },
  {
   "cell_type": "code",
   "execution_count": 62,
   "id": "b522c65a",
   "metadata": {},
   "outputs": [
    {
     "data": {
      "text/plain": [
       "' Yes, you can study abroad if you are majoring in Computer Science. You should discuss your plans in advance with the chair of the department or the departmental study away advisor to ensure that you will be able to complete the major.'"
      ]
     },
     "execution_count": 62,
     "metadata": {},
     "output_type": "execute_result"
    }
   ],
   "source": [
    "query = \"Can I study abroad if I’m majoring in CS?\"\n",
    "res = ask_no_history(qa2, query)\n",
    "print(res[\"answer\"])\n",
    "print(res[\"source_documents\"])"
   ]
  },
  {
   "cell_type": "code",
   "execution_count": 67,
   "id": "477bd856",
   "metadata": {},
   "outputs": [
    {
     "name": "stdout",
     "output_type": "stream",
     "text": [
      " Java and Python.\n",
      "[Document(page_content='INTRODUCTORY COURSES: Computer Science 134 provides an introduction to computer science with a focus on developing computer programming skills. These skills are essential to most upper-level courses in the department. As a result, Computer Science 134 together with Computer Science 136, are required as a prerequisite to most advanced courses in the department. Those students intending to take several Computer Science courses are urged to take 134 early.\\n', metadata={}), Document(page_content='MAJOR REQUIREMENTS Introductory Courses: Computer Science 134 Introduction to Computer Science, Computer Science 136 Data Structures and Advanced Programming \\n', metadata={}), Document(page_content='PLANS OF STUDY FOR NON-MAJORS: There are several sequences of courses appropriate for those primarily interested in developing skills in programming for use in other areas. For general programming, Computer Science 134 followed by 136 and 256 will provide students with a strong background in algorithm and data structure design together with an understanding of issues of correctness and efficiency. Students of the Bioinformatics program are encouraged to take Computer Science 134 at a minimum, and should also consider Computer Science 136 and 256. The sequence of courses Computer Science 109 and 134 would provide sufficient competence in computer graphics for many students interested in applying such knowledge either in the arts or sciences.\\n', metadata={}), Document(page_content='COMPUTER SCIENCE 134: Introduction to Computer Science covers fundamental concepts in the design, implementation and testing of computer programs including loops, conditionals, functions, elementary data types and recursion. There is a strong focus on constructing correct, understandable and efficient programs in a structured language such as Java or Python.\\n', metadata={}), Document(page_content='INTRODUCTORY COURSES: Students with significant programming experience should consider electing Computer Science 136 (see “Advanced Placement” below). Please see https://csci.williams.edu/placement-for-introductory-computer-science-classes/ for a more details on selecting among our classes.\\n', metadata={}), Document(page_content='ADVANCED PLACEMENT: Students who wish to be placed in Computer Science 136 but who have not taken the Advanced Placement Examination should consult with the department. Such students should have had a good course in computer science using a structured language such as Java or Python.\\n', metadata={})]\n"
     ]
    }
   ],
   "source": [
    "query = \"Which programming languages are taught in CS 134?\"\n",
    "res = ask_no_history(qa2, query)\n",
    "print(res[\"answer\"])\n",
    "print(res[\"source_documents\"])"
   ]
  },
  {
   "cell_type": "code",
   "execution_count": 72,
   "id": "f7aaa6d6",
   "metadata": {},
   "outputs": [
    {
     "name": "stdout",
     "output_type": "stream",
     "text": [
      "Found info on 1785 courses\n"
     ]
    }
   ],
   "source": [
    "import json\n",
    "\n",
    "cs_courses = None\n",
    "\n",
    "with open(\"./data/courses.json\", \"r\") as f:\n",
    "    course_dict = json.load(f)\n",
    "    courses = course_dict[\"courses\"]\n",
    "    \n",
    "    print(f\"Found info on {len(courses)} courses\")\n",
    "    \n",
    "    cs_courses = [course for course in courses if course[\"department\"] == \"CSCI\"]"
   ]
  },
  {
   "cell_type": "code",
   "execution_count": 73,
   "id": "13309f69",
   "metadata": {},
   "outputs": [],
   "source": [
    "with open(\"./data/cs_courses.txt\", \"w\") as f:\n",
    "    for course in cs_courses:\n",
    "        f.write(str(course) + \"\\n\")"
   ]
  },
  {
   "cell_type": "code",
   "execution_count": 74,
   "id": "f8199728",
   "metadata": {},
   "outputs": [],
   "source": [
    "cs_course_json_linearized = []\n",
    "\n",
    "with open(\"./data/cs_courses.txt\", \"r\") as f:\n",
    "    for line in f:\n",
    "        cs_course_json_linearized.append(line)"
   ]
  },
  {
   "cell_type": "code",
   "execution_count": 76,
   "id": "8929fa40",
   "metadata": {},
   "outputs": [],
   "source": [
    "db_courses = FAISS.from_texts(cs_course_json_linearized, embeddings)"
   ]
  },
  {
   "cell_type": "code",
   "execution_count": 78,
   "id": "a10cf4f4",
   "metadata": {},
   "outputs": [],
   "source": [
    "db2.merge_from(db_courses)\n",
    "\n",
    "# Save vectorstore\n",
    "with open(\"./db_cs_gold_plus_courses.pkl\", \"wb\") as f:\n",
    "    pickle.dump(db2, f)"
   ]
  },
  {
   "cell_type": "code",
   "execution_count": null,
   "id": "c11d4c6c",
   "metadata": {},
   "outputs": [],
   "source": [
    "db2.docstore._dict"
   ]
  },
  {
   "cell_type": "code",
   "execution_count": 79,
   "id": "19f1e283",
   "metadata": {},
   "outputs": [],
   "source": [
    "qa3 = ConversationalRetrievalChain.from_llm(OpenAI(temperature=0), db2.as_retriever(search_kwargs={\"k\": 6}), return_source_documents=True)"
   ]
  },
  {
   "cell_type": "code",
   "execution_count": 80,
   "id": "35d806ef",
   "metadata": {},
   "outputs": [
    {
     "name": "stdout",
     "output_type": "stream",
     "text": [
      " Computer Science 361 Theory of Computation.\n",
      "[Document(page_content='INTRODUCTORY COURSES: Those students interested in learning more about exciting new ideas in computer science, but not necessarily interested in developing extensive programming skills, should consider Computer Science 102 The Socio-Techno Web, 103 Electronic Textiles, or 104 Data Science and Computation for All.\\n', metadata={}), Document(page_content='INTRODUCTORY COURSES: The department offers a choice of introductory courses; Computer Science 102 The Socio-Techno Web, 103 Electronic Textiles, 104 Data Science and Computation for All, and 134 Introduction to Computer Science.\\n', metadata={}), Document(page_content='COMPUTER SCIENCE 134: Introduction to Computer Science covers fundamental concepts in the design, implementation and testing of computer programs including loops, conditionals, functions, elementary data types and recursion. There is a strong focus on constructing correct, understandable and efficient programs in a structured language such as Java or Python.\\n', metadata={}), Document(page_content='MAJOR REQUIREMENTS Introductory Courses: Computer Science 134 Introduction to Computer Science, Computer Science 136 Data Structures and Advanced Programming \\n', metadata={}), Document(page_content='MAJOR REQUIREMENTS Core Courses: Computer Science 237 Computer Organization, Computer Science 256 Algorithm Design and Analysis, Computer Science 334 Principles of Programming Languages, Computer Science 361 Theory of Computation \\n', metadata={}), Document(page_content='INTRODUCTORY COURSES: Students with significant programming experience should consider electing Computer Science 136 (see “Advanced Placement” below). Please see https://csci.williams.edu/placement-for-introductory-computer-science-classes/ for a more details on selecting among our classes.\\n', metadata={})]\n"
     ]
    }
   ],
   "source": [
    "query = \"Which CS course talks about Turing Machines?\"\n",
    "res = ask_no_history(qa3, query)\n",
    "print(res[\"answer\"])\n",
    "print(res[\"source_documents\"])"
   ]
  },
  {
   "cell_type": "code",
   "execution_count": 81,
   "id": "711dcf4a",
   "metadata": {},
   "outputs": [
    {
     "name": "stdout",
     "output_type": "stream",
     "text": [
      " I don't know.\n",
      "[Document(page_content='Students who take Computer Science 102T, 103, or 104 prior to Fall 2023 may use that course as one of the two electives required for the major in Computer Science. Those classes cannot be counted toward the major if taken in Fall 2023 or later semesters. Computer Science 102T, 103, 104, and 134 are not open to students who have taken a Computer Science course numbered 136 or higher.\\n', metadata={}), Document(page_content='Alternate Year Courses: Computer Science 102, 103, 104, and our electives are each usually offered at least every other year. All other Computer Science courses are normally offered every year.\\n', metadata={}), Document(page_content='INTRODUCTORY COURSES: Computer Science 134 provides an introduction to computer science with a focus on developing computer programming skills. These skills are essential to most upper-level courses in the department. As a result, Computer Science 134 together with Computer Science 136, are required as a prerequisite to most advanced courses in the department. Those students intending to take several Computer Science courses are urged to take 134 early.\\n', metadata={}), Document(page_content='INTRODUCTORY COURSES: The department offers a choice of introductory courses; Computer Science 102 The Socio-Techno Web, 103 Electronic Textiles, 104 Data Science and Computation for All, and 134 Introduction to Computer Science.\\n', metadata={}), Document(page_content='MAJOR REQUIREMENTS Introductory Courses: Computer Science 134 Introduction to Computer Science, Computer Science 136 Data Structures and Advanced Programming \\n', metadata={}), Document(page_content='To be eligible for admission to the major, a student must have completed at least two Computer Science courses, including Computer Science 136, as well as fulfilled the Discrete Mathematics Proficiency Requirement by the end of the sophomore year. A Mathematics course at the 200-level or higher (except for MATH 200) must be completed by the end of the junior year. Students are urged to have completed two of the four core courses (Computer Science 237, 256, 334, and 361) by the end of the sophomore year and must normally have completed at least three out of the four core courses by the end of the junior year.\\n', metadata={})]\n"
     ]
    }
   ],
   "source": [
    "query = \"How many sections of CS 134 are being offered in fall 2024?\"\n",
    "res = ask_no_history(qa3, query)\n",
    "print(res[\"answer\"])\n",
    "print(res[\"source_documents\"])"
   ]
  },
  {
   "cell_type": "code",
   "execution_count": 82,
   "id": "c459371e",
   "metadata": {},
   "outputs": [
    {
     "name": "stdout",
     "output_type": "stream",
     "text": [
      " No, CS 136 is a required prerequisite for most advanced courses in the department and must be taken as one of the two electives required for the major in Computer Science.\n",
      "[Document(page_content='Students who take Computer Science 102T, 103, or 104 prior to Fall 2023 may use that course as one of the two electives required for the major in Computer Science. Those classes cannot be counted toward the major if taken in Fall 2023 or later semesters. Computer Science 102T, 103, 104, and 134 are not open to students who have taken a Computer Science course numbered 136 or higher.\\n', metadata={}), Document(page_content='INTRODUCTORY COURSES: Computer Science 134 provides an introduction to computer science with a focus on developing computer programming skills. These skills are essential to most upper-level courses in the department. As a result, Computer Science 134 together with Computer Science 136, are required as a prerequisite to most advanced courses in the department. Those students intending to take several Computer Science courses are urged to take 134 early.\\n', metadata={}), Document(page_content='MAJOR REQUIREMENTS Introductory Courses: Computer Science 134 Introduction to Computer Science, Computer Science 136 Data Structures and Advanced Programming \\n', metadata={}), Document(page_content='INTRODUCTORY COURSES: Students with significant programming experience should consider electing Computer Science 136 (see “Advanced Placement” below). Please see https://csci.williams.edu/placement-for-introductory-computer-science-classes/ for a more details on selecting among our classes.\\n', metadata={}), Document(page_content='Alternate Year Courses: Computer Science 102, 103, 104, and our electives are each usually offered at least every other year. All other Computer Science courses are normally offered every year.\\n', metadata={}), Document(page_content='To be eligible for admission to the major, a student must have completed at least two Computer Science courses, including Computer Science 136, as well as fulfilled the Discrete Mathematics Proficiency Requirement by the end of the sophomore year. A Mathematics course at the 200-level or higher (except for MATH 200) must be completed by the end of the junior year. Students are urged to have completed two of the four core courses (Computer Science 237, 256, 334, and 361) by the end of the sophomore year and must normally have completed at least three out of the four core courses by the end of the junior year.\\n', metadata={})]\n"
     ]
    }
   ],
   "source": [
    "query = \"Can I take CS 136 as a fifth course?\"\n",
    "res = ask_no_history(qa3, query)\n",
    "print(res[\"answer\"])\n",
    "print(res[\"source_documents\"])"
   ]
  },
  {
   "cell_type": "code",
   "execution_count": 84,
   "id": "6be24b50",
   "metadata": {},
   "outputs": [
    {
     "name": "stdout",
     "output_type": "stream",
     "text": [
      " I don't know.\n",
      "[Document(page_content='MAJOR REQUIREMENTS Introductory Courses: Computer Science 134 Introduction to Computer Science, Computer Science 136 Data Structures and Advanced Programming \\n', metadata={}), Document(page_content='INTRODUCTORY COURSES: Computer Science 134 provides an introduction to computer science with a focus on developing computer programming skills. These skills are essential to most upper-level courses in the department. As a result, Computer Science 134 together with Computer Science 136, are required as a prerequisite to most advanced courses in the department. Those students intending to take several Computer Science courses are urged to take 134 early.\\n', metadata={}), Document(page_content='COMPUTER SCIENCE 134: Introduction to Computer Science covers fundamental concepts in the design, implementation and testing of computer programs including loops, conditionals, functions, elementary data types and recursion. There is a strong focus on constructing correct, understandable and efficient programs in a structured language such as Java or Python.\\n', metadata={}), Document(page_content='INTRODUCTORY COURSES: The department offers a choice of introductory courses; Computer Science 102 The Socio-Techno Web, 103 Electronic Textiles, 104 Data Science and Computation for All, and 134 Introduction to Computer Science.\\n', metadata={}), Document(page_content='MAJOR REQUIREMENTS Core Courses: Computer Science 237 Computer Organization, Computer Science 256 Algorithm Design and Analysis, Computer Science 334 Principles of Programming Languages, Computer Science 361 Theory of Computation \\n', metadata={}), Document(page_content='INTRODUCTORY COURSES: Those students interested in learning more about exciting new ideas in computer science, but not necessarily interested in developing extensive programming skills, should consider Computer Science 102 The Socio-Techno Web, 103 Electronic Textiles, or 104 Data Science and Computation for All.\\n', metadata={})]\n"
     ]
    }
   ],
   "source": [
    "query = \"What's the full name for CSCI 374 and what topics does it cover?\"\n",
    "res = ask_no_history(qa3, query)\n",
    "print(res[\"answer\"])\n",
    "print(res[\"source_documents\"])"
   ]
  },
  {
   "cell_type": "code",
   "execution_count": null,
   "id": "f8d5d12b",
   "metadata": {},
   "outputs": [],
   "source": [
    "courses_prefixed_separated = []\n",
    "with open(\"./data/courses_prefixed_separated.txt\", \"r\") as f:\n",
    "    for line in f:\n",
    "        courses_prefixed_separated.append(line)\n",
    "\n",
    "# courses_prefixed_separated"
   ]
  },
  {
   "cell_type": "code",
   "execution_count": 89,
   "id": "737be9c7",
   "metadata": {},
   "outputs": [],
   "source": [
    "db_courses_processed = FAISS.from_texts(courses_prefixed_separated, embeddings)\n",
    "\n",
    "# Save vectorstore\n",
    "with open(\"./db_courses_processed.pkl\", \"wb\") as f:\n",
    "    pickle.dump(db_courses_processed, f)"
   ]
  },
  {
   "cell_type": "code",
   "execution_count": 90,
   "id": "0de64d4b",
   "metadata": {},
   "outputs": [],
   "source": [
    "qa_processed_data = ConversationalRetrievalChain.from_llm(OpenAI(temperature=0), db_courses_processed.as_retriever(search_kwargs={\"k\": 6}), return_source_documents=True)"
   ]
  },
  {
   "cell_type": "code",
   "execution_count": 98,
   "id": "7d9d7312",
   "metadata": {},
   "outputs": [
    {
     "name": "stdout",
     "output_type": "stream",
     "text": [
      " Mark Hopkins and Bill K. Jannen.\n",
      "page_content='CSCI 136: This course builds on the programming skills acquired in Computer Science 134. It couples work on program design, analysis, and verification with an introduction to the study of data structures. Data structures capture common ways in which to store and manipulate data, and they are important in the construction of sophisticated computer programs. Students are introduced to some of the most important and frequently used data structures: lists, stacks, queues, trees, hash tables, graphs, and files. Students will be expected to write several programs, ranging from very short programs to more elaborate systems. Emphasis will be placed on the development of clear, modular programs that are easy to read, debug, verify, analyze, and modify.\\n' metadata={}\n",
      "page_content=\"{course: CSCI 134 Section 01, year: 2024, semester: Fall, courseID: 010801, department: CSCI, number: 134, section: 01, sectionType: in-person, peoplesoftNumber: 1176, consent: N, gradingBasisDesc: Pass/Fail Available, Fifth Course Available, classType: Lecture, titleLong: Introduction To Computer Science, titleShort: Intro To Computer Science, instructors: [{'id': 13529, 'name': 'Mark Hopkins'}], meetings: [{'days': 'MWF', 'start': '09:00', 'end': '09:50', 'facility': ''}], courseAttributes: {'div1': False, 'div2': False, 'div3': True, 'dpe': False, 'qfr': True, 'wac': False, 'passFail': True, 'fifthCourse': True}, classFormat: , classReqEval: Weekly programming projects, weekly written homeworks, and two examinations., extraInfo: , prereqs: None, except for the standard prerequisites for a (QFR) course; previous programming experience is not required, departmentNotes: Please see the Computer Science Department website for more information on selecting an introductory computer science class: https://csci.williams.edu/.  Students with prior experience with object-oriented programming should discuss appropriate course placement with members of the department., enrolmentPreferences: If the course is over-enrolled, enrollment will be determined by lottery., crossListing: ['CSCI 134'], components: ['Lecture', 'Laboratory']}\\n\" metadata={}\n",
      "page_content=\"{course: CSCI 134 Section 08, year: 2024, semester: Spring, courseID: 010801, department: CSCI, number: 134, section: 08, sectionType: in-person, peoplesoftNumber: 3192, consent: N, gradingBasisDesc: Pass/Fail Available, Fifth Course Available, classType: Laboratory, titleLong: Introduction To Computer Science, titleShort: Intro To Computer Science, instructors: [{'id': 10127, 'name': 'Bill K. Jannen'}], meetings: [{'days': 'T', 'start': '14:30', 'end': '16:00', 'facility': ''}], courseAttributes: {'div1': False, 'div2': False, 'div3': True, 'dpe': False, 'qfr': True, 'wac': False, 'passFail': True, 'fifthCourse': True}, classFormat: , classReqEval: Weekly programming projects, weekly written homeworks, and two examinations., extraInfo: , prereqs: None, except for the standard prerequisites for a (QFR) course; previous programming experience is not required, departmentNotes: Please see the Computer Science Department website for more information on selecting an introductory computer science class: https://csci.williams.edu/.  Students with prior experience with object-oriented programming should discuss appropriate course placement with members of the department., enrolmentPreferences: If the course is over-enrolled, enrollment will be determined by lottery., crossListing: ['CSCI 134'], components: ['Lecture', 'Laboratory']}\\n\" metadata={}\n",
      "page_content=\"{course: CSCI 134 Section 05, year: 2024, semester: Fall, courseID: 010801, department: CSCI, number: 134, section: 05, sectionType: in-person, peoplesoftNumber: 1182, consent: N, gradingBasisDesc: Pass/Fail Available, Fifth Course Available, classType: Laboratory, titleLong: Introduction To Computer Science, titleShort: Intro To Computer Science, instructors: [{'id': 13529, 'name': 'Mark Hopkins'}], meetings: [{'days': 'M', 'start': '13:00', 'end': '14:30', 'facility': ''}], courseAttributes: {'div1': False, 'div2': False, 'div3': True, 'dpe': False, 'qfr': True, 'wac': False, 'passFail': True, 'fifthCourse': True}, classFormat: , classReqEval: Weekly programming projects, weekly written homeworks, and two examinations., extraInfo: , prereqs: None, except for the standard prerequisites for a (QFR) course; previous programming experience is not required, departmentNotes: Please see the Computer Science Department website for more information on selecting an introductory computer science class: https://csci.williams.edu/.  Students with prior experience with object-oriented programming should discuss appropriate course placement with members of the department., enrolmentPreferences: If the course is over-enrolled, enrollment will be determined by lottery., crossListing: ['CSCI 134'], components: ['Lecture', 'Laboratory']}\\n\" metadata={}\n",
      "page_content='CSCI 494: Computer Science thesis; this is part of a full-year thesis (493-494).\\n' metadata={}\n",
      "page_content=\"{course: CSCI 134 Section 08, year: 2024, semester: Fall, courseID: 010801, department: CSCI, number: 134, section: 08, sectionType: in-person, peoplesoftNumber: 1185, consent: N, gradingBasisDesc: Pass/Fail Available, Fifth Course Available, classType: Laboratory, titleLong: Introduction To Computer Science, titleShort: Intro To Computer Science, instructors: [{'id': 13529, 'name': 'Mark Hopkins'}], meetings: [{'days': 'T', 'start': '13:00', 'end': '14:30', 'facility': ''}], courseAttributes: {'div1': False, 'div2': False, 'div3': True, 'dpe': False, 'qfr': True, 'wac': False, 'passFail': True, 'fifthCourse': True}, classFormat: , classReqEval: Weekly programming projects, weekly written homeworks, and two examinations., extraInfo: , prereqs: None, except for the standard prerequisites for a (QFR) course; previous programming experience is not required, departmentNotes: Please see the Computer Science Department website for more information on selecting an introductory computer science class: https://csci.williams.edu/.  Students with prior experience with object-oriented programming should discuss appropriate course placement with members of the department., enrolmentPreferences: If the course is over-enrolled, enrollment will be determined by lottery., crossListing: ['CSCI 134'], components: ['Lecture', 'Laboratory']}\\n\" metadata={}\n"
     ]
    }
   ],
   "source": [
    "query = \"Which professors are teaching 134?\"\n",
    "res = ask_no_history(qa_processed_data, query)\n",
    "print(res[\"answer\"])\n",
    "for source in res[\"source_documents\"]:\n",
    "    print(source)"
   ]
  },
  {
   "cell_type": "code",
   "execution_count": 121,
   "id": "1163c267",
   "metadata": {},
   "outputs": [],
   "source": [
    "def create_faiss_db_from_txt_file(filepath, embeddings):\n",
    "    with open(filepath, \"r\") as f:\n",
    "        lines = list(f)\n",
    "        db = FAISS.from_texts(lines, embeddings, metadatas=[{\"source\": f\"line_{i}\"} for i in range(len(lines))])\n",
    "        return db"
   ]
  },
  {
   "cell_type": "code",
   "execution_count": 111,
   "id": "750fb6b9",
   "metadata": {},
   "outputs": [],
   "source": [
    "db_ulta_processed = create_faiss_db_from_txt_file(\"./data/courses_ultra_processed.txt\", embeddings)\n",
    "\n",
    "# Save vectorstore\n",
    "with open(\"./db_ulta_processed.pkl\", \"wb\") as f:\n",
    "    pickle.dump(db_ulta_processed, f)"
   ]
  },
  {
   "cell_type": "code",
   "execution_count": 112,
   "id": "09a97258",
   "metadata": {},
   "outputs": [],
   "source": [
    "qa4 = ConversationalRetrievalChain.from_llm(OpenAI(temperature=0), db_ulta_processed.as_retriever(search_kwargs={\"k\": 10}), return_source_documents=True)"
   ]
  },
  {
   "cell_type": "code",
   "execution_count": 113,
   "id": "deecb343",
   "metadata": {},
   "outputs": [
    {
     "name": "stdout",
     "output_type": "stream",
     "text": [
      " Mark Hopkins, Bill K. Jannen, Shikha Singh, and Iris Howley.\n",
      "page_content=\"CSCI 134 Section 01 year: 2024, semester: Fall, courseID: 010801, sectionType: in-person, peoplesoftNumber: 1176, classType: Lecture, instructors: [{'id': 13529, 'name': 'Mark Hopkins'}], meetings: [{'days': 'MWF', 'start': '09:00', 'end': '09:50', 'facility': ''}]\\n\" metadata={}\n",
      "page_content=\"CSCI 134 Section 01 year: 2024, semester: Spring, courseID: 010801, sectionType: in-person, peoplesoftNumber: 3184, classType: Lecture, instructors: [{'id': 10127, 'name': 'Bill K. Jannen'}], meetings: [{'days': 'MWF', 'start': '09:00', 'end': '09:50', 'facility': ''}]\\n\" metadata={}\n",
      "page_content=\"CSCI 134 Section 05 year: 2024, semester: Fall, courseID: 010801, sectionType: in-person, peoplesoftNumber: 1182, classType: Laboratory, instructors: [{'id': 13529, 'name': 'Mark Hopkins'}], meetings: [{'days': 'M', 'start': '13:00', 'end': '14:30', 'facility': ''}]\\n\" metadata={}\n",
      "page_content=\"CSCI 134 Section 08 year: 2024, semester: Fall, courseID: 010801, sectionType: in-person, peoplesoftNumber: 1185, classType: Laboratory, instructors: [{'id': 13529, 'name': 'Mark Hopkins'}], meetings: [{'days': 'T', 'start': '13:00', 'end': '14:30', 'facility': ''}]\\n\" metadata={}\n",
      "page_content=\"CSCI 134 Section 03 year: 2024, semester: Spring, courseID: 010801, sectionType: in-person, peoplesoftNumber: 3186, classType: Lecture, instructors: [{'id': 11195, 'name': 'Shikha Singh'}], meetings: [{'days': 'MWF', 'start': '11:00', 'end': '11:50', 'facility': ''}]\\n\" metadata={}\n",
      "page_content=\"CSCI 134 Section 02 year: 2024, semester: Spring, courseID: 010801, sectionType: in-person, peoplesoftNumber: 3185, classType: Lecture, instructors: [{'id': 11195, 'name': 'Shikha Singh'}], meetings: [{'days': 'MWF', 'start': '10:00', 'end': '10:50', 'facility': ''}]\\n\" metadata={}\n",
      "page_content=\"CSCI 134 Section 04 year: 2024, semester: Spring, courseID: 010801, sectionType: in-person, peoplesoftNumber: 3188, classType: Laboratory, instructors: [{'id': 11195, 'name': 'Shikha Singh'}], meetings: [{'days': 'M', 'start': '13:00', 'end': '14:30', 'facility': ''}]\\n\" metadata={}\n",
      "page_content=\"CSCI 136 Section 04 year: 2024, semester: Fall, courseID: 010803, sectionType: in-person, peoplesoftNumber: 1190, classType: Laboratory, instructors: [{'id': 13530, 'name': 'James M. Bern'}], meetings: [{'days': 'W', 'start': '14:30', 'end': '16:00', 'facility': ''}]\\n\" metadata={}\n",
      "page_content=\"CSCI 134 Section 02 year: 2024, semester: Fall, courseID: 010801, sectionType: in-person, peoplesoftNumber: 1177, classType: Lecture, instructors: [{'id': 9479, 'name': 'Iris Howley'}], meetings: [{'days': 'MWF', 'start': '10:00', 'end': '10:50', 'facility': ''}]\\n\" metadata={}\n",
      "page_content=\"CSCI 136 Section 02 year: 2024, semester: Fall, courseID: 010803, sectionType: in-person, peoplesoftNumber: 1188, classType: Lecture, instructors: [{'id': 13530, 'name': 'James M. Bern'}], meetings: [{'days': 'MWF', 'start': '10:00', 'end': '10:50', 'facility': ''}]\\n\" metadata={}\n"
     ]
    }
   ],
   "source": [
    "query = \"Which professors are teaching 134?\"\n",
    "res = ask_no_history(qa4, query)\n",
    "print(res[\"answer\"])\n",
    "for source in res[\"source_documents\"]:\n",
    "    print(source)"
   ]
  },
  {
   "cell_type": "code",
   "execution_count": 114,
   "id": "cca449c5",
   "metadata": {},
   "outputs": [
    {
     "name": "stdout",
     "output_type": "stream",
     "text": [
      " You should take CSCI 374 (Machine Learning) and CSCI 381 (Deep Learning). CSCI 378 (Human-AI Interaction) is also recommended.\n",
      "page_content='CSCI 378 descriptionSearch: Artificial intelligence (AI) is already transforming society and every industry today. In order to ensure that AI serves the collective needs of humanity, we as computer scientists must guide AI so that it has a positive impact on the human experience. This course is an introduction to harnessing the power of AI so that it benefits people and communities. We will cover a number of general topics such as: agency and initiative, AI and ethics, bias and transparency, confidence and errors, human augmentation and amplification, trust and explainability, and mixed-initiative systems. We explore these topics via readings and projects across the AI spectrum, including: dialog and speech-controlled systems, computer vision, data science, recommender systems, text summarization, and UI personalization, among others.\\n' metadata={}\n",
      "page_content='CSCI 374 descriptionSearch: Machine learning is a field that derives from artificial intelligence and statistics, and is concerned with the design and analysis of computer algorithms that \"learn\" automatically through the use of data. Computer algorithms are capable of discerning subtle patterns and structure in the data that would be practically impossible for a human to find. As a result, real-world decisions, such as treatment options and loan approvals, are being increasingly automated based on predictions or factual knowledge derived from such algorithms. This course explores topics in supervised learning (e.g., random forests and neural networks), unsupervised learning (e.g., k-means clustering and expectation maximization), and possibly reinforcement learning (e.g., Q-learning and temporal difference learning.) It will also introduce methods for the evaluation of learning algorithms (with an emphasis on analysis of generalizability and robustness of the algorithms to distribution/environmental shift), as well as topics in computational learning theory and ethics.\\n' metadata={}\n",
      "page_content='CSCI 374 titleLong: Machine Learning, titleShort: Machine Learning\\n' metadata={}\n",
      "page_content='CSCI 381 descriptionSearch: This course is an introduction to deep neural networks and how to train them. Beginning with the fundamentals of regression and optimization, the course then surveys a variety of neural network architectures, which may include multilayer feedforward neural networks, convolutional neural networks, recurrent neural networks, and transformer networks. Students will also learn how to use deep learning software such as PyTorch or Tensorflow.\\n' metadata={}\n",
      "page_content='CSCI 381 titleLong: Deep Learning, titleShort: Deep Learning\\n' metadata={}\n",
      "page_content='CSCI 378 titleLong: Human Artificial Intelligence Interaction, titleShort: Human-AI Interaction\\n' metadata={}\n",
      "page_content='CSCI 104 titleLong: Data Science And Computing For All, titleShort: Data Science And Computing\\n' metadata={}\n",
      "page_content='CSCI 379 enrolmentPreferences: Computer science majors and prospective majors.\\n' metadata={}\n",
      "page_content='CSCI 136 departmentNotes: Please see the Computer Science Department website for more information on selecting an introductory computer science class: https://csci.williams.edu/\\n' metadata={}\n",
      "page_content='CSCI 237 enrolmentPreferences: Current or expected Computer Science majors\\n' metadata={}\n"
     ]
    }
   ],
   "source": [
    "query = \"What courses should I take if I'm interested in machine learning and AI?\"\n",
    "res = ask_no_history(qa4, query)\n",
    "print(res[\"answer\"])\n",
    "for source in res[\"source_documents\"]:\n",
    "    print(source)"
   ]
  },
  {
   "cell_type": "code",
   "execution_count": 115,
   "id": "54a191a3",
   "metadata": {},
   "outputs": [
    {
     "name": "stdout",
     "output_type": "stream",
     "text": [
      " No, CSCI 104 is not a course about computer graphics.\n",
      "page_content='CSCI 379 enrolmentPreferences: Computer science majors and prospective majors.\\n' metadata={}\n",
      "page_content='CSCI 432 enrolmentPreferences: Current or expected Computer Science majors\\n' metadata={}\n",
      "page_content='CSCI 237 enrolmentPreferences: Current or expected Computer Science majors\\n' metadata={}\n",
      "page_content='CSCI 374 enrolmentPreferences: Current or expected Computer Science majors.\\n' metadata={}\n",
      "page_content='CSCI 381 enrolmentPreferences: Current or expected Computer Science majors\\n' metadata={}\n",
      "page_content='CSCI 334 enrolmentPreferences: Current or expected Computer Science majors\\n' metadata={}\n",
      "page_content='CSCI 345 enrolmentPreferences: Current or expected Computer Science majors\\n' metadata={}\n",
      "page_content='CSCI 361 enrolmentPreferences: Current or expected Computer Science majors\\n' metadata={}\n",
      "page_content='CSCI 378 enrolmentPreferences: Current or expected Computer Science majors\\n' metadata={}\n",
      "page_content=\"CSCI 104 descriptionSearch: Many of the world's greatest discoveries and most consequential decisions are enabled or informed by the analysis of data from a myriad of sources. Indeed, the ability to wrangle, visualize, and draw conclusions from data is now a critical tool in the sciences, business, medicine, politics, other academic disciplines, and society as a whole. This course lays the foundations for quantifying relationships in data by exploring complementary computational, statistical, and visualization concepts. These concepts will be reinforced by lab experiences designed to teach programming and statistics skills while analyzing real-world data sets. This course will also examine the broader context and social issues surrounding data analysis, including privacy and ethics.\\n\" metadata={}\n"
     ]
    }
   ],
   "source": [
    "query = \"Is computer graphics being offered?\"\n",
    "res = ask_no_history(qa4, query)\n",
    "print(res[\"answer\"])\n",
    "for source in res[\"source_documents\"]:\n",
    "    print(source)"
   ]
  },
  {
   "cell_type": "code",
   "execution_count": 116,
   "id": "621b023d",
   "metadata": {},
   "outputs": [
    {
     "name": "stdout",
     "output_type": "stream",
     "text": [
      " No, there are no courses on computer graphics listed here.\n",
      "page_content='CSCI 379 enrolmentPreferences: Computer science majors and prospective majors.\\n' metadata={}\n",
      "page_content='CSCI 237 enrolmentPreferences: Current or expected Computer Science majors\\n' metadata={}\n",
      "page_content='CSCI 134 titleLong: Introduction To Computer Science, titleShort: Intro To Computer Science\\n' metadata={}\n",
      "page_content='CSCI 432 enrolmentPreferences: Current or expected Computer Science majors\\n' metadata={}\n",
      "page_content='CSCI 361 enrolmentPreferences: Current or expected Computer Science majors\\n' metadata={}\n",
      "page_content='CSCI 345 enrolmentPreferences: Current or expected Computer Science majors\\n' metadata={}\n",
      "page_content='CSCI 134 descriptionSearch: This course introduces students to the science of computation by exploring the representation and manipulation of data and algorithms. We organize and transform information in order to solve problems using algorithms written in a modern object-oriented language. Topics include organization of data using objects and classes, and the description of processes using conditional control, iteration, methods and classes. We also begin the study of abstraction, self-reference, reuse, and performance analysis. While the choice of programming language and application area will vary in different offerings, the skills students develop will transfer equally well to more advanced study in many areas. In particular, this course is designed to provide the programming skills needed for further study in computer science and is expected to satisfy introductory programming requirements in other departments.\\n' metadata={}\n",
      "page_content='CSCI 374 enrolmentPreferences: Current or expected Computer Science majors.\\n' metadata={}\n",
      "page_content='CSCI 334 enrolmentPreferences: Current or expected Computer Science majors\\n' metadata={}\n",
      "page_content='CSCI 381 enrolmentPreferences: Current or expected Computer Science majors\\n' metadata={}\n"
     ]
    }
   ],
   "source": [
    "query = \"Are there any courses on computer graphics?\"\n",
    "res = ask_no_history(qa4, query)\n",
    "print(res[\"answer\"])\n",
    "for source in res[\"source_documents\"]:\n",
    "    print(source)\n",
    "\n",
    "\"\"\"\n",
    "NOTE: Just realized there is no info in the courses.json file on courses\n",
    "not being offered this year like AI and computer graphics\n",
    "\"\"\""
   ]
  },
  {
   "cell_type": "code",
   "execution_count": 117,
   "id": "2e26dbcd",
   "metadata": {},
   "outputs": [
    {
     "name": "stdout",
     "output_type": "stream",
     "text": [
      " You would need to take CSCI 334, 379, 381, 345, and 331 to graduate with a CS major.\n",
      "page_content='CSCI 378 prereqs: CSCI 136, and at least one of CSCI 237, 256, or 334\\n' metadata={}\n",
      "page_content='CSCI 237 prereqs: CSCI 136\\n' metadata={}\n",
      "page_content='CSCI 256 prereqs: CSCI 136 and fulfillment of the Discrete Mathematics Proficiency requirement\\n' metadata={}\n",
      "page_content='CSCI 432 prereqs: CSCI 237 and either CSCI 256 or 334\\n' metadata={}\n",
      "page_content='CSCI 136 prereqs: CSCI 134 or equivalent; fulfilling the Discrete Mathematics Proficiency requirement is recommended, but not required\\n' metadata={}\n",
      "page_content='CSCI 379 prereqs: CSCI 136, and either CSCI 256 or STAT 201/202.\\n' metadata={}\n",
      "page_content='CSCI 381 prereqs: CSCI 136 and fulfillment of the Discrete Mathematics Proficiency requirement\\n' metadata={}\n",
      "page_content='CSCI 334 prereqs: CSCI 136\\n' metadata={}\n",
      "page_content='CSCI 345 prereqs: CSCI 237\\n' metadata={}\n",
      "page_content='CSCI 331 prereqs: CSCI 237\\n' metadata={}\n"
     ]
    }
   ],
   "source": [
    "query = \"I've taken 134, 136, 237, 256, and Theory Of Computation. What else do I need to take to graduate with a CS major?\"\n",
    "res = ask_no_history(qa4, query)\n",
    "print(res[\"answer\"])\n",
    "for source in res[\"source_documents\"]:\n",
    "    print(source)"
   ]
  },
  {
   "cell_type": "code",
   "execution_count": 122,
   "id": "473bbd85",
   "metadata": {},
   "outputs": [],
   "source": [
    "db_everything_ultra_processed = create_faiss_db_from_txt_file(\"./data/everything_ultra_processed.txt\", embeddings)\n",
    "\n",
    "# Save vectorstore\n",
    "with open(\"./db_everything_ultra_processed.pkl\", \"wb\") as f:\n",
    "    pickle.dump(db_everything_ultra_processed, f)"
   ]
  },
  {
   "cell_type": "code",
   "execution_count": 119,
   "id": "93324ec3",
   "metadata": {},
   "outputs": [],
   "source": [
    "qa5 = ConversationalRetrievalChain.from_llm(OpenAI(temperature=0), db_everything_ultra_processed.as_retriever(search_kwargs={\"k\": 10}), return_source_documents=True)"
   ]
  },
  {
   "cell_type": "code",
   "execution_count": 120,
   "id": "5b4399e9",
   "metadata": {},
   "outputs": [
    {
     "name": "stdout",
     "output_type": "stream",
     "text": [
      " You need to fulfill the Discrete Mathematics Proficiency requirement and take Computer Science 334 Principles of Programming Languages.\n",
      "page_content='MAJOR REQUIREMENTS Introductory Courses: Computer Science 134 Introduction to Computer Science, Computer Science 136 Data Structures and Advanced Programming \\n' metadata={}\n",
      "page_content='To be eligible for admission to the major, a student must have completed at least two Computer Science courses, including Computer Science 136, as well as fulfilled the Discrete Mathematics Proficiency Requirement by the end of the sophomore year. A Mathematics course at the 200-level or higher (except for MATH 200) must be completed by the end of the junior year. Students are urged to have completed two of the four core courses (Computer Science 237, 256, 334, and 361) by the end of the sophomore year and must normally have completed at least three out of the four core courses by the end of the junior year.\\n' metadata={}\n",
      "page_content='MAJOR REQUIREMENTS Core Courses: Computer Science 237 Computer Organization, Computer Science 256 Algorithm Design and Analysis, Computer Science 334 Principles of Programming Languages, Computer Science 361 Theory of Computation \\n' metadata={}\n",
      "page_content='INTRODUCTORY COURSES: Computer Science 134 provides an introduction to computer science with a focus on developing computer programming skills. These skills are essential to most upper-level courses in the department. As a result, Computer Science 134 together with Computer Science 136, are required as a prerequisite to most advanced courses in the department. Those students intending to take several Computer Science courses are urged to take 134 early.\\n' metadata={}\n",
      "page_content='Students who take Computer Science 102T, 103, or 104 prior to Fall 2023 may use that course as one of the two electives required for the major in Computer Science. Those classes cannot be counted toward the major if taken in Fall 2023 or later semesters. Computer Science 102T, 103, 104, and 134 are not open to students who have taken a Computer Science course numbered 136 or higher.\\n' metadata={}\n",
      "page_content='PLANS OF STUDY FOR NON-MAJORS: There are several sequences of courses appropriate for those primarily interested in developing skills in programming for use in other areas. For general programming, Computer Science 134 followed by 136 and 256 will provide students with a strong background in algorithm and data structure design together with an understanding of issues of correctness and efficiency. Students of the Bioinformatics program are encouraged to take Computer Science 134 at a minimum, and should also consider Computer Science 136 and 256. The sequence of courses Computer Science 109 and 134 would provide sufficient competence in computer graphics for many students interested in applying such knowledge either in the arts or sciences.\\n' metadata={}\n",
      "page_content='Required Proficiency in Discrete Mathematics: Students considering pursuing a major in Computer Science are urged to take Computer Science 134 and to begin satisfying their mathematics requirements early. Note in particular that the Discrete Mathematics Proficiency requirement is a prerequisite for many advanced courses\\n' metadata={}\n",
      "page_content='CSCI 378 prereqs: CSCI 136, and at least one of CSCI 237, 256, or 334\\n' metadata={}\n",
      "page_content='CSCI 237 prereqs: CSCI 136\\n' metadata={}\n",
      "page_content='CSCI 256 prereqs: CSCI 136 and fulfillment of the Discrete Mathematics Proficiency requirement\\n' metadata={}\n"
     ]
    }
   ],
   "source": [
    "query = \"I've taken 134, 136, 237, 256, and Theory Of Computation. \\\n",
    "What else do I need to take to graduate with a CS major?\"\n",
    "res = ask_no_history(qa5, query)\n",
    "print(res[\"answer\"])\n",
    "for source in res[\"source_documents\"]:\n",
    "    print(source)"
   ]
  },
  {
   "cell_type": "code",
   "execution_count": null,
   "id": "2bed970b",
   "metadata": {},
   "outputs": [],
   "source": []
  }
 ],
 "metadata": {
  "kernelspec": {
   "display_name": "Python 3 (ipykernel)",
   "language": "python",
   "name": "python3"
  },
  "language_info": {
   "codemirror_mode": {
    "name": "ipython",
    "version": 3
   },
   "file_extension": ".py",
   "mimetype": "text/x-python",
   "name": "python",
   "nbconvert_exporter": "python",
   "pygments_lexer": "ipython3",
   "version": "3.8.16"
  },
  "vscode": {
   "interpreter": {
    "hash": "b1677b440931f40d89ef8be7bf03acb108ce003de0ac9b18e8d43753ea2e7103"
   }
  }
 },
 "nbformat": 4,
 "nbformat_minor": 5
}
