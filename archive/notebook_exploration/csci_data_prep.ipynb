{
 "cells": [
  {
   "cell_type": "markdown",
   "id": "74148cee",
   "metadata": {},
   "source": [
    "# CS Course Data Prep"
   ]
  },
  {
   "cell_type": "code",
   "execution_count": 119,
   "id": "1ded7ca4",
   "metadata": {},
   "outputs": [],
   "source": [
    "data_path = \"./data/csci.pdf\"\n",
    "\n",
    "import copy\n",
    "import pickle"
   ]
  },
  {
   "cell_type": "code",
   "execution_count": 114,
   "id": "7e0a0750",
   "metadata": {},
   "outputs": [],
   "source": [
    "# course_logistics = []\n",
    "# for course in copy.deepcopy(cs_courses):\n",
    "#     del course[\"descriptionSearch\"]\n",
    "#     course_name = f\"{course['department']} {course['number']} Section {course['section']}\"\n",
    "#     course_json_linearized = str(course)\n",
    "#     res = f\"{{course: {course_name}, {course_json_linearized[1:]}\"\n",
    "#     course_logistics.append(res)\n",
    "\n",
    "# with open(\"./data/courses_prefixed_separated.txt\", \"w\") as f:\n",
    "#     for course in copy.deepcopy(cs_courses):\n",
    "#         del course[\"descriptionSearch\"]\n",
    "        \n",
    "#         course_name = f\"{course['department']} {course['number']} Section {course['section']}\"\n",
    "#         f.write(f\"{{course: {course_name}, \")\n",
    "        \n",
    "#         remainder_str = \", \".join([f\"{k}: {v}\" for k,v in course.items()])\n",
    "#         f.write(f\"{remainder_str}}}\\n\")"
   ]
  },
  {
   "cell_type": "code",
   "execution_count": 115,
   "id": "e2a59064",
   "metadata": {},
   "outputs": [],
   "source": [
    "# course_logistics[0]"
   ]
  },
  {
   "cell_type": "code",
   "execution_count": 116,
   "id": "be466433",
   "metadata": {},
   "outputs": [],
   "source": [
    "# course_descriptions = dict()\n",
    "\n",
    "# for course in cs_courses:\n",
    "#     course_name = f\"{course['department']} {course['number']}\"\n",
    "#     if course_name not in course_descriptions:\n",
    "#         course_descriptions[course_name] = course['descriptionSearch']"
   ]
  },
  {
   "cell_type": "code",
   "execution_count": 117,
   "id": "8f9d38a4",
   "metadata": {},
   "outputs": [],
   "source": [
    "# course_descriptions"
   ]
  },
  {
   "cell_type": "code",
   "execution_count": 118,
   "id": "8a53a35c",
   "metadata": {},
   "outputs": [],
   "source": [
    "# with open(\"./data/courses_prefixed_separated.txt\", \"a\") as f:\n",
    "#     for k, v in course_descriptions.items():\n",
    "#         f.write(f\"{k}: {v}\\n\")"
   ]
  },
  {
   "cell_type": "markdown",
   "id": "12753393",
   "metadata": {},
   "source": [
    "Each section entry should include:\n",
    "- section name\n",
    "- year\n",
    "- semester\n",
    "- courseID\n",
    "- sectionType\n",
    "- peoplesoftNumber\n",
    "- classType\n",
    "- instructors (nested dict)\n",
    "- meetings \n",
    "\n",
    "\n",
    "Each section has repeated course info:\n",
    "- descriptionSearch\n",
    "\n",
    "- gradingBasisDesc\n",
    "\n",
    "- classFormat (?)\n",
    "- extraInfo (?)\n",
    "- crossListing\n",
    "- components\n",
    "\n",
    "- titleLong\n",
    "- titleShort\n",
    "\n",
    "- courseAttributes (nested dict)\n",
    "\n",
    "- classReqEval\n",
    "\n",
    "- prereqs\n",
    "\n",
    "- departmentNotes\n",
    "\n",
    "- enrolmentPreferences\n"
   ]
  },
  {
   "cell_type": "code",
   "execution_count": null,
   "id": "65ffb2fe",
   "metadata": {},
   "outputs": [],
   "source": [
    "course_segments = [\n",
    "    [\"descriptionSearch\"],\n",
    "    [\"gradingBasisDesc\"],\n",
    "    [\"titleLong\", \"titleShort\"],\n",
    "    [\"classFormat\", \"extraInfo\", \"crossListing\", \"components\"],\n",
    "    [\"courseAttributes\"],\n",
    "    [\"classReqEval\"],\n",
    "    [\"prereqs\"],\n",
    "    [\"departmentNotes\"],\n",
    "    [\"enrolmentPreferences\"]\n",
    "]\n",
    "\n",
    "section_segments = [\"year\", \"semester\", \"courseID\", \"sectionType\", \"peoplesoftNumber\", \"classType\", \"instructors\", \"meetings\"]"
   ]
  },
  {
   "cell_type": "code",
   "execution_count": null,
   "id": "4a0395b6",
   "metadata": {},
   "outputs": [],
   "source": [
    "courses_processed = set()\n",
    "with open(\"./data/courses_ultra_processed.txt\", \"w\") as f:\n",
    "    for section in copy.deepcopy(cs_courses):\n",
    "        section_name = f\"{section['department']} {section['number']} Section {section['section']}\"\n",
    "        course_name = f\"{section['department']} {section['number']}\"\n",
    "        \n",
    "        if course_name not in courses_processed:\n",
    "            for segment_list in course_segments:\n",
    "                # add info about this course\n",
    "                course_line = f\"{course_name} \"\n",
    "                course_line += \", \".join([f\"{segment}: {section[segment]}\" for segment in segment_list])\n",
    "                course_line += \"\\n\"\n",
    "                f.write(course_line)\n",
    "                courses_processed.add(course_name)\n",
    "        \n",
    "        section_line = f\"{section_name} \"\n",
    "        section_line += \", \".join([f\"{segment}: {section[segment]}\" for segment in section_segments])\n",
    "        section_line += \"\\n\"\n",
    "        f.write(section_line)"
   ]
  },
  {
   "cell_type": "code",
   "execution_count": null,
   "id": "93fc302a",
   "metadata": {},
   "outputs": [],
   "source": [
    "import shutil\n",
    "shutil.copyfile(\"./data/courses_ultra_processed.txt\", \"./data/everything_ultra_processed.txt\")\n",
    "\n",
    "with open(\"./data/cs_gold.txt\", \"r\") as cs_gold:\n",
    "    with open(\"./data/everything_ultra_processed.txt\", \"a\") as f:\n",
    "        for line in cs_gold:\n",
    "            f.write(line)"
   ]
  },
  {
   "cell_type": "code",
   "execution_count": null,
   "id": "826fc8ae",
   "metadata": {},
   "outputs": [],
   "source": [
    "with open(\"./data/everything_ultra_processed.txt\", \"r\") as f:\n",
    "    for line in f:\n",
    "        print(line)\n",
    "\n",
    "    # print(max([(len(line), line) for line in f], key=lambda x:x[0]))"
   ]
  },
  {
   "cell_type": "markdown",
   "id": "790150fe",
   "metadata": {},
   "source": [
    "### Add sources as URLs & Pickle Data as Dict "
   ]
  },
  {
   "cell_type": "code",
   "execution_count": 130,
   "id": "3eef4b10",
   "metadata": {},
   "outputs": [],
   "source": [
    "course_header_groups = [\n",
    "    [\"descriptionSearch\"],\n",
    "    [\"gradingBasisDesc\"],\n",
    "    [\"titleLong\", \"titleShort\"],\n",
    "    [\"classFormat\", \"extraInfo\", \"crossListing\", \"components\"],\n",
    "    [\"courseAttributes\"],\n",
    "    [\"classReqEval\"],\n",
    "    [\"prereqs\"],\n",
    "    [\"departmentNotes\"],\n",
    "    [\"enrolmentPreferences\"]\n",
    "]\n",
    "\n",
    "section_headers = [\"year\", \"semester\", \"courseID\", \"sectionType\", \"peoplesoftNumber\", \"classType\", \"instructors\", \"meetings\"]"
   ]
  },
  {
   "cell_type": "code",
   "execution_count": 123,
   "id": "c6fd6080",
   "metadata": {},
   "outputs": [],
   "source": [
    "data = []  # list of tuples of the form (passage, source)\n",
    "courses_processed = set()  # log courses processed so we don't repeat data across multiple sections\n",
    "\n",
    "for section in copy.deepcopy(cs_courses):\n",
    "    section_name = f\"{section['department']} {section['number']} Section {section['section']}\"\n",
    "    course_name = f\"{section['department']} {section['number']}\"\n",
    "    \n",
    "    course_num = section['number']\n",
    "    course_id = section['courseID']\n",
    "    course_url = f\"https://catalog.williams.edu/csci/detail/?strm=&cn={course_num}&crsid={course_id}&req_year=0\"\n",
    "\n",
    "    if course_name not in courses_processed:\n",
    "        for header_group in course_header_groups:\n",
    "            # add info about this course\n",
    "            course_line = f\"{course_name} \"\n",
    "            course_line += \", \".join([f\"{header}: {section[header]}\" for header in header_group])\n",
    "            course_line += \"\\n\"\n",
    "            data.append((course_line, course_url))\n",
    "            courses_processed.add(course_name)\n",
    "\n",
    "    section_line = f\"{section_name} \"\n",
    "    section_line += \", \".join([f\"{segment}: {section[segment]}\" for segment in section_segments])\n",
    "    section_line += \"\\n\"\n",
    "    data.append((section_line, course_url))"
   ]
  },
  {
   "cell_type": "code",
   "execution_count": 131,
   "id": "b07f32c2",
   "metadata": {},
   "outputs": [],
   "source": [
    "with open(\"./data/cs_gold.txt\", \"r\") as f:\n",
    "    for line in f:\n",
    "        data.append((line, \"https://catalog.williams.edu/pdf/csci.pdf\"))"
   ]
  },
  {
   "cell_type": "code",
   "execution_count": 132,
   "id": "106d49b1",
   "metadata": {},
   "outputs": [],
   "source": [
    "with open(\"./data/everything_ultra_processed_w_sources.pkl\", \"wb\") as f:\n",
    "    pickle.dump(data, f)"
   ]
  },
  {
   "cell_type": "code",
   "execution_count": null,
   "id": "17fb0ed9",
   "metadata": {},
   "outputs": [],
   "source": []
  }
 ],
 "metadata": {
  "kernelspec": {
   "display_name": "Python 3 (ipykernel)",
   "language": "python",
   "name": "python3"
  },
  "language_info": {
   "codemirror_mode": {
    "name": "ipython",
    "version": 3
   },
   "file_extension": ".py",
   "mimetype": "text/x-python",
   "name": "python",
   "nbconvert_exporter": "python",
   "pygments_lexer": "ipython3",
   "version": "3.8.16"
  },
  "vscode": {
   "interpreter": {
    "hash": "b1677b440931f40d89ef8be7bf03acb108ce003de0ac9b18e8d43753ea2e7103"
   }
  }
 },
 "nbformat": 4,
 "nbformat_minor": 5
}
